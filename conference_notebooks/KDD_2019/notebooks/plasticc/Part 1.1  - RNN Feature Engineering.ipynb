{
 "cells": [
  {
   "cell_type": "markdown",
   "metadata": {},
   "source": [
    "# Part 1.1 - Feature Engineering for RNN Model\n",
    "In this notebook, we will analyze and transform timeseries features to build a training set for an RNN. Time series representing flux value for different data collection sessions will be segmented into separate sequences and ultimately transformed into a format ready for training the RNN.\n"
   ]
  },
  {
   "cell_type": "code",
   "execution_count": 89,
   "metadata": {},
   "outputs": [
    {
     "name": "stdout",
     "output_type": "stream",
     "text": [
      "0.8.0+0.g8fa7bd3.dirty\n"
     ]
    }
   ],
   "source": [
    "import warnings\n",
    "warnings.filterwarnings(\"ignore\")\n",
    "import math\n",
    "import cudf as gd\n",
    "import pandas as pd\n",
    "import numpy as np\n",
    "from numba import cuda\n",
    "import time\n",
    "import matplotlib.pyplot as plt\n",
    "\n",
    "from utils import scatter\n",
    "%matplotlib inline\n",
    "\n",
    "print(gd.__version__)"
   ]
  },
  {
   "cell_type": "code",
   "execution_count": 90,
   "metadata": {},
   "outputs": [],
   "source": [
    "PATH = \"/raid/cjnolet/plasticc_data/\""
   ]
  },
  {
   "cell_type": "markdown",
   "metadata": {},
   "source": [
    "### Read data\n",
    "\n",
    "To begin, we'll look at how to engineer features from the raw training data. We'll load it in from a CSV format, and represent it as a Dataframe.\n",
    "\n",
    "Thanks to the `read_csv` API, we can manually define all column names, types, etc., to optimize the reading/loading process. We'll have to skip the record headers. This can be done by setting `skiprows=1`.\n",
    "\n",
    "After the read is complete, we can drop the columns we don't need to save memory."
   ]
  },
  {
   "cell_type": "code",
   "execution_count": 91,
   "metadata": {},
   "outputs": [],
   "source": [
    "ts_cols = ['object_id', 'mjd', 'passband', 'flux', 'flux_err', 'detected']\n",
    "ts_dtypes = ['int32', 'float32', 'int32', 'float32','float32','int32']\n",
    "\n",
    "train_gd = gd.read_csv('%s/training_set.csv'%PATH, names=ts_cols,dtype=ts_dtypes,skiprows=1)\n",
    "test_gd = gd.read_csv('%s/test_set_sample.csv'%PATH, names=ts_cols,dtype=ts_dtypes,skiprows=1)\n",
    "\n",
    "train_gd.drop_column('detected')\n",
    "test_gd.drop_column('detected')"
   ]
  },
  {
   "cell_type": "code",
   "execution_count": 92,
   "metadata": {},
   "outputs": [
    {
     "data": {
      "text/html": [
       "<div>\n",
       "<style scoped>\n",
       "    .dataframe tbody tr th:only-of-type {\n",
       "        vertical-align: middle;\n",
       "    }\n",
       "\n",
       "    .dataframe tbody tr th {\n",
       "        vertical-align: top;\n",
       "    }\n",
       "\n",
       "    .dataframe thead th {\n",
       "        text-align: right;\n",
       "    }\n",
       "</style>\n",
       "<table border=\"1\" class=\"dataframe\">\n",
       "  <thead>\n",
       "    <tr style=\"text-align: right;\">\n",
       "      <th></th>\n",
       "      <th>object_id</th>\n",
       "      <th>mjd</th>\n",
       "      <th>passband</th>\n",
       "      <th>flux</th>\n",
       "      <th>flux_err</th>\n",
       "    </tr>\n",
       "  </thead>\n",
       "  <tbody>\n",
       "    <tr>\n",
       "      <th>0</th>\n",
       "      <td>615</td>\n",
       "      <td>59750.421875</td>\n",
       "      <td>2</td>\n",
       "      <td>-544.810303</td>\n",
       "      <td>3.622952</td>\n",
       "    </tr>\n",
       "    <tr>\n",
       "      <th>1</th>\n",
       "      <td>615</td>\n",
       "      <td>59750.429688</td>\n",
       "      <td>1</td>\n",
       "      <td>-816.434387</td>\n",
       "      <td>5.553370</td>\n",
       "    </tr>\n",
       "    <tr>\n",
       "      <th>2</th>\n",
       "      <td>615</td>\n",
       "      <td>59750.437500</td>\n",
       "      <td>3</td>\n",
       "      <td>-471.385498</td>\n",
       "      <td>3.801213</td>\n",
       "    </tr>\n",
       "    <tr>\n",
       "      <th>3</th>\n",
       "      <td>615</td>\n",
       "      <td>59750.441406</td>\n",
       "      <td>4</td>\n",
       "      <td>-388.984955</td>\n",
       "      <td>11.395031</td>\n",
       "    </tr>\n",
       "    <tr>\n",
       "      <th>4</th>\n",
       "      <td>615</td>\n",
       "      <td>59752.406250</td>\n",
       "      <td>2</td>\n",
       "      <td>-681.858826</td>\n",
       "      <td>4.041203</td>\n",
       "    </tr>\n",
       "  </tbody>\n",
       "</table>\n",
       "</div>"
      ],
      "text/plain": [
       "   object_id           mjd  passband        flux   flux_err\n",
       "0        615  59750.421875         2 -544.810303   3.622952\n",
       "1        615  59750.429688         1 -816.434387   5.553370\n",
       "2        615  59750.437500         3 -471.385498   3.801213\n",
       "3        615  59750.441406         4 -388.984955  11.395031\n",
       "4        615  59752.406250         2 -681.858826   4.041203"
      ]
     },
     "execution_count": 92,
     "metadata": {},
     "output_type": "execute_result"
    }
   ],
   "source": [
    "train_gd.head().to_pandas()"
   ]
  },
  {
   "cell_type": "markdown",
   "metadata": {},
   "source": [
    "### Normalization\n",
    "\n",
    "Let's histogram the `flux` and `flux_err` values to get a feel for their distributions. \n",
    "\n",
    "We can use `hist()` from Pandas to generate histograms. To access the Pandas API from cuDF, we'll have to call `to_pandas()` to copy the data to the host and convert it to a Pandas Dataframe.\n",
    "\n",
    "A quick look at the output suggests that most of the binned values occur near the zeroth bin. To exemplify the shape of the distribution, we can perform a logarithmic transformation.\n",
    "\n",
    "A couple more details worth noting here:\n",
    "- There are extreme negative values in `flux`, which cannot be log-transformed. We will need to clip them.\n",
    "- The `flux_err` is entirely non-negative; so, we can apply log-transform directly"
   ]
  },
  {
   "cell_type": "code",
   "execution_count": 93,
   "metadata": {},
   "outputs": [
    {
     "data": {
      "text/plain": [
       "Text(0.5, 1.0, 'Original data')"
      ]
     },
     "execution_count": 93,
     "metadata": {},
     "output_type": "execute_result"
    },
    {
     "data": {
      "image/png": "[encoded data removed]",
      "text/plain": [
       "<Figure size 1440x360 with 2 Axes>"
      ]
     },
     "metadata": {
      "needs_background": "light"
     },
     "output_type": "display_data"
    }
   ],
   "source": [
    "fig, axs = plt.subplots(1,2, figsize=(20, 5))\n",
    "ax = train_gd.flux.to_pandas().hist(ax=axs[0])\n",
    "\n",
    "ax.set_xlabel('flux', fontsize=18)\n",
    "ax.set_ylabel('Count', fontsize=18)\n",
    "ax.set_title('Original data')\n",
    "\n",
    "ax = train_gd.flux_err.to_pandas().hist(ax=axs[1])\n",
    "\n",
    "ax.set_xlabel('flux_err', fontsize=18)\n",
    "ax.set_ylabel('Count', fontsize=18)\n",
    "ax.set_title('Original data')"
   ]
  },
  {
   "cell_type": "markdown",
   "metadata": {},
   "source": [
    "The `applymap(func)` function can be used on cuDF Series objects. \n",
    "\n",
    "This enables us to apply the log transform and clipped log transform in parallel on the GPU for all the values in the Series. "
   ]
  },
  {
   "cell_type": "code",
   "execution_count": 94,
   "metadata": {},
   "outputs": [],
   "source": [
    "def clip_and_log_transform(df):\n",
    "    df['flux'] = df['flux'].applymap(lambda x: math.log1p(x+10) if x>-10 else 0)\n",
    "    df['flux_err'] = df['flux_err'].applymap(lambda x: math.log1p(x))\n",
    "    return df\n",
    "\n",
    "train_gd = clip_and_log_transform(train_gd)\n",
    "test_gd = clip_and_log_transform(test_gd)"
   ]
  },
  {
   "cell_type": "markdown",
   "metadata": {},
   "source": [
    "Now let's plot the histograms of the clipped and log-transformed values to get a better idea of the data distribution"
   ]
  },
  {
   "cell_type": "code",
   "execution_count": 95,
   "metadata": {},
   "outputs": [
    {
     "data": {
      "text/plain": [
       "Text(0.5, 1.0, 'After log transformation')"
      ]
     },
     "execution_count": 95,
     "metadata": {},
     "output_type": "execute_result"
    },
    {
     "data": {
      "image/png": "[encoded data removed]",
      "text/plain": [
       "<Figure size 1440x360 with 2 Axes>"
      ]
     },
     "metadata": {
      "needs_background": "light"
     },
     "output_type": "display_data"
    }
   ],
   "source": [
    "fig, axs = plt.subplots(1,2, figsize=(20, 5))\n",
    "ax = train_gd.flux.to_pandas().hist(ax=axs[0])\n",
    "ax.set_xlabel('flux', fontsize=18)\n",
    "ax.set_ylabel('Count', fontsize=18)\n",
    "ax.set_title('After clipping and log transformation')\n",
    "\n",
    "ax = train_gd.flux_err.to_pandas().hist(ax=axs[1])\n",
    "ax.set_xlabel('flux_err', fontsize=18)\n",
    "ax.set_ylabel('Count', fontsize=18)\n",
    "ax.set_title('After log transformation')"
   ]
  },
  {
   "cell_type": "markdown",
   "metadata": {},
   "source": [
    "### Differentiation"
   ]
  },
  {
   "cell_type": "markdown",
   "metadata": {},
   "source": [
    "First let's take look at the scatter plot of the light curve for a single object.\n",
    "\n",
    "We want to learn how `flux` varies over timestamp `mjd`, namely $\\frac{\\nabla flux}{\\nabla mjd}$"
   ]
  },
  {
   "cell_type": "code",
   "execution_count": 96,
   "metadata": {},
   "outputs": [
    {
     "data": {
      "image/png": "[encoded data removed]",
      "text/plain": [
       "<Figure size 432x288 with 1 Axes>"
      ]
     },
     "metadata": {
      "needs_background": "light"
     },
     "output_type": "display_data"
    }
   ],
   "source": [
    "oid = 615\n",
    "sample = train_gd[train_gd['object_id']==oid].to_pandas()\n",
    "scatter(sample['mjd'].values,\n",
    "        sample['flux'].values,\n",
    "        values=sample['passband'].values,\n",
    "        xlabel='time',ylabel='flux',title='object %d class 42'%oid)"
   ]
  },
  {
   "cell_type": "code",
   "execution_count": 97,
   "metadata": {},
   "outputs": [],
   "source": [
    "train_gd = train_gd.sort_values(['object_id','mjd'])\n",
    "test_gd = test_gd.sort_values(['object_id','mjd'])"
   ]
  },
  {
   "cell_type": "markdown",
   "metadata": {},
   "source": [
    "We use cuDF's `groupby() - apply()` technique to group the dataframes by `object_id`. \n",
    "\n",
    "Rather than using `apply()` on the grouped Dataframe, we use cuDF's `apply_grouped()` so that we can run a function in parallel on each group. Our custom function will compute the deltas between timestamps.\n",
    "\n",
    "The following function, `compute_delta()` computes the differences for `flux` and `mjd` observations."
   ]
  },
  {
   "cell_type": "code",
   "execution_count": 98,
   "metadata": {},
   "outputs": [],
   "source": [
    "def delta_in_group(val,val_delta, default):\n",
    "    \"\"\"\n",
    "    A Numba CUDA function that diffs all the values in a single timeseries sequence\n",
    "    \"\"\"\n",
    "    for i in range(cuda.threadIdx.x, len(val), cuda.blockDim.x):\n",
    "        if i>0:\n",
    "            val_delta[i] = val[i]-val[i-1]\n",
    "        else:\n",
    "            val_delta[i] = default\n",
    "\n",
    "def compute_delta(df):\n",
    "    for col,d in zip(['flux','mjd'],[0,180]):\n",
    "        df = df.rename({col:'val'})\n",
    "        df = df.groupby('object_id',method=\"cudf\",\n",
    "                        as_index=False).apply_grouped(delta_in_group,\n",
    "                                  incols=['val'],\n",
    "                                  outcols={'val_delta': np.float32},\n",
    "                                  kwargs={'default':d},\n",
    "                                  tpb=32)\n",
    "        df = df.rename({'val': col})\n",
    "        df = df.rename({'val_delta':'%s_delta'%col})\n",
    "\n",
    "    return df"
   ]
  },
  {
   "cell_type": "code",
   "execution_count": 99,
   "metadata": {},
   "outputs": [],
   "source": [
    "train_gd = compute_delta(train_gd)\n",
    "test_gd = compute_delta(test_gd)"
   ]
  },
  {
   "cell_type": "code",
   "execution_count": 100,
   "metadata": {},
   "outputs": [],
   "source": [
    "train_gd.drop_column('mjd')\n",
    "test_gd.drop_column('mjd')\n",
    "\n",
    "train_gd.drop_column('flux')\n",
    "test_gd.drop_column('flux')"
   ]
  },
  {
   "cell_type": "code",
   "execution_count": 101,
   "metadata": {},
   "outputs": [
    {
     "data": {
      "text/html": [
       "<div>\n",
       "<style scoped>\n",
       "    .dataframe tbody tr th:only-of-type {\n",
       "        vertical-align: middle;\n",
       "    }\n",
       "\n",
       "    .dataframe tbody tr th {\n",
       "        vertical-align: top;\n",
       "    }\n",
       "\n",
       "    .dataframe thead th {\n",
       "        text-align: right;\n",
       "    }\n",
       "</style>\n",
       "<table border=\"1\" class=\"dataframe\">\n",
       "  <thead>\n",
       "    <tr style=\"text-align: right;\">\n",
       "      <th></th>\n",
       "      <th>object_id</th>\n",
       "      <th>passband</th>\n",
       "      <th>flux_err</th>\n",
       "      <th>flux_delta</th>\n",
       "      <th>mjd_delta</th>\n",
       "    </tr>\n",
       "  </thead>\n",
       "  <tbody>\n",
       "    <tr>\n",
       "      <th>0</th>\n",
       "      <td>615</td>\n",
       "      <td>2</td>\n",
       "      <td>1.531034</td>\n",
       "      <td>0.0</td>\n",
       "      <td>180.000000</td>\n",
       "    </tr>\n",
       "    <tr>\n",
       "      <th>1</th>\n",
       "      <td>615</td>\n",
       "      <td>1</td>\n",
       "      <td>1.879979</td>\n",
       "      <td>0.0</td>\n",
       "      <td>0.007812</td>\n",
       "    </tr>\n",
       "    <tr>\n",
       "      <th>2</th>\n",
       "      <td>615</td>\n",
       "      <td>3</td>\n",
       "      <td>1.568869</td>\n",
       "      <td>0.0</td>\n",
       "      <td>0.007812</td>\n",
       "    </tr>\n",
       "    <tr>\n",
       "      <th>3</th>\n",
       "      <td>615</td>\n",
       "      <td>4</td>\n",
       "      <td>2.517296</td>\n",
       "      <td>0.0</td>\n",
       "      <td>0.003906</td>\n",
       "    </tr>\n",
       "    <tr>\n",
       "      <th>4</th>\n",
       "      <td>615</td>\n",
       "      <td>2</td>\n",
       "      <td>1.617645</td>\n",
       "      <td>0.0</td>\n",
       "      <td>1.964844</td>\n",
       "    </tr>\n",
       "  </tbody>\n",
       "</table>\n",
       "</div>"
      ],
      "text/plain": [
       "   object_id  passband  flux_err  flux_delta   mjd_delta\n",
       "0        615         2  1.531034         0.0  180.000000\n",
       "1        615         1  1.879979         0.0    0.007812\n",
       "2        615         3  1.568869         0.0    0.007812\n",
       "3        615         4  2.517296         0.0    0.003906\n",
       "4        615         2  1.617645         0.0    1.964844"
      ]
     },
     "execution_count": 101,
     "metadata": {},
     "output_type": "execute_result"
    }
   ],
   "source": [
    "train_gd.head().to_pandas()"
   ]
  },
  {
   "cell_type": "code",
   "execution_count": 102,
   "metadata": {},
   "outputs": [
    {
     "data": {
      "text/html": [
       "<div>\n",
       "<style scoped>\n",
       "    .dataframe tbody tr th:only-of-type {\n",
       "        vertical-align: middle;\n",
       "    }\n",
       "\n",
       "    .dataframe tbody tr th {\n",
       "        vertical-align: top;\n",
       "    }\n",
       "\n",
       "    .dataframe thead th {\n",
       "        text-align: right;\n",
       "    }\n",
       "</style>\n",
       "<table border=\"1\" class=\"dataframe\">\n",
       "  <thead>\n",
       "    <tr style=\"text-align: right;\">\n",
       "      <th></th>\n",
       "      <th>object_id</th>\n",
       "      <th>passband</th>\n",
       "      <th>flux_err</th>\n",
       "      <th>flux_delta</th>\n",
       "      <th>mjd_delta</th>\n",
       "    </tr>\n",
       "  </thead>\n",
       "  <tbody>\n",
       "    <tr>\n",
       "      <th>0</th>\n",
       "      <td>615</td>\n",
       "      <td>2</td>\n",
       "      <td>1.531034</td>\n",
       "      <td>0.0</td>\n",
       "      <td>180.000000</td>\n",
       "    </tr>\n",
       "    <tr>\n",
       "      <th>1</th>\n",
       "      <td>615</td>\n",
       "      <td>1</td>\n",
       "      <td>1.879979</td>\n",
       "      <td>0.0</td>\n",
       "      <td>0.007812</td>\n",
       "    </tr>\n",
       "    <tr>\n",
       "      <th>2</th>\n",
       "      <td>615</td>\n",
       "      <td>3</td>\n",
       "      <td>1.568869</td>\n",
       "      <td>0.0</td>\n",
       "      <td>0.007812</td>\n",
       "    </tr>\n",
       "    <tr>\n",
       "      <th>3</th>\n",
       "      <td>615</td>\n",
       "      <td>4</td>\n",
       "      <td>2.517296</td>\n",
       "      <td>0.0</td>\n",
       "      <td>0.003906</td>\n",
       "    </tr>\n",
       "    <tr>\n",
       "      <th>4</th>\n",
       "      <td>615</td>\n",
       "      <td>2</td>\n",
       "      <td>1.617645</td>\n",
       "      <td>0.0</td>\n",
       "      <td>1.964844</td>\n",
       "    </tr>\n",
       "  </tbody>\n",
       "</table>\n",
       "</div>"
      ],
      "text/plain": [
       "   object_id  passband  flux_err  flux_delta   mjd_delta\n",
       "0        615         2  1.531034         0.0  180.000000\n",
       "1        615         1  1.879979         0.0    0.007812\n",
       "2        615         3  1.568869         0.0    0.007812\n",
       "3        615         4  2.517296         0.0    0.003906\n",
       "4        615         2  1.617645         0.0    1.964844"
      ]
     },
     "execution_count": 102,
     "metadata": {},
     "output_type": "execute_result"
    }
   ],
   "source": [
    "train_gd.head().to_pandas()"
   ]
  },
  {
   "cell_type": "markdown",
   "metadata": {},
   "source": [
    "Lastly, we scale `mjd_delta` in proportion to the boundary threshold. This just minimizes the variance, which is helpful for training the RNN. "
   ]
  },
  {
   "cell_type": "code",
   "execution_count": 103,
   "metadata": {},
   "outputs": [
    {
     "data": {
      "text/plain": [
       "Text(0.5, 1.0, 'Original')"
      ]
     },
     "execution_count": 103,
     "metadata": {},
     "output_type": "execute_result"
    },
    {
     "data": {
      "image/png": "[encoded data removed]",
      "text/plain": [
       "<Figure size 432x288 with 1 Axes>"
      ]
     },
     "metadata": {
      "needs_background": "light"
     },
     "output_type": "display_data"
    }
   ],
   "source": [
    "fig, axs = plt.subplots(1,1)\n",
    "ax = train_gd.mjd_delta.to_pandas().hist()\n",
    "ax.set_xlabel('mjd_delta', fontsize=18)\n",
    "ax.set_ylabel('Count', fontsize=18)\n",
    "ax.set_title('Original')"
   ]
  },
  {
   "cell_type": "code",
   "execution_count": 104,
   "metadata": {},
   "outputs": [],
   "source": [
    "train_gd['mjd_delta'] /= 90 # scale mjd_delta\n",
    "test_gd['mjd_delta'] /= 90"
   ]
  },
  {
   "cell_type": "code",
   "execution_count": 105,
   "metadata": {},
   "outputs": [
    {
     "data": {
      "text/plain": [
       "Text(0.5, 1.0, 'After scaling')"
      ]
     },
     "execution_count": 105,
     "metadata": {},
     "output_type": "execute_result"
    },
    {
     "data": {
      "image/png": "[encoded data removed]",
      "text/plain": [
       "<Figure size 432x288 with 1 Axes>"
      ]
     },
     "metadata": {
      "needs_background": "light"
     },
     "output_type": "display_data"
    }
   ],
   "source": [
    "ax = train_gd.mjd_delta.to_pandas().hist()\n",
    "ax.set_xlabel('mjd_delta', fontsize=18)\n",
    "ax.set_ylabel('Count', fontsize=18)\n",
    "ax.set_title('After scaling')"
   ]
  },
  {
   "cell_type": "markdown",
   "metadata": {},
   "source": [
    "### Create step numbers for each light curve sequence\n",
    "\n",
    "For our final engineering step, let's mark each timeseries element with a step number, so that we can preserve the order of each sequence. \n",
    "\n",
    "Since the train and test Dataframes are already ordered by their object ids and the time steps, we can just number the ocurrences of object ids starting at 0. "
   ]
  },
  {
   "cell_type": "code",
   "execution_count": 106,
   "metadata": {},
   "outputs": [
    {
     "data": {
      "text/html": [
       "<div>\n",
       "<style scoped>\n",
       "    .dataframe tbody tr th:only-of-type {\n",
       "        vertical-align: middle;\n",
       "    }\n",
       "\n",
       "    .dataframe tbody tr th {\n",
       "        vertical-align: top;\n",
       "    }\n",
       "\n",
       "    .dataframe thead th {\n",
       "        text-align: right;\n",
       "    }\n",
       "</style>\n",
       "<table border=\"1\" class=\"dataframe\">\n",
       "  <thead>\n",
       "    <tr style=\"text-align: right;\">\n",
       "      <th></th>\n",
       "      <th>object_id</th>\n",
       "      <th>passband</th>\n",
       "      <th>flux_err</th>\n",
       "      <th>flux_delta</th>\n",
       "      <th>mjd_delta</th>\n",
       "    </tr>\n",
       "  </thead>\n",
       "  <tbody>\n",
       "    <tr>\n",
       "      <th>0</th>\n",
       "      <td>615</td>\n",
       "      <td>2</td>\n",
       "      <td>1.531034</td>\n",
       "      <td>0.0</td>\n",
       "      <td>2.000000</td>\n",
       "    </tr>\n",
       "    <tr>\n",
       "      <th>1</th>\n",
       "      <td>615</td>\n",
       "      <td>1</td>\n",
       "      <td>1.879979</td>\n",
       "      <td>0.0</td>\n",
       "      <td>0.000087</td>\n",
       "    </tr>\n",
       "    <tr>\n",
       "      <th>2</th>\n",
       "      <td>615</td>\n",
       "      <td>3</td>\n",
       "      <td>1.568869</td>\n",
       "      <td>0.0</td>\n",
       "      <td>0.000087</td>\n",
       "    </tr>\n",
       "    <tr>\n",
       "      <th>3</th>\n",
       "      <td>615</td>\n",
       "      <td>4</td>\n",
       "      <td>2.517296</td>\n",
       "      <td>0.0</td>\n",
       "      <td>0.000043</td>\n",
       "    </tr>\n",
       "    <tr>\n",
       "      <th>4</th>\n",
       "      <td>615</td>\n",
       "      <td>2</td>\n",
       "      <td>1.617645</td>\n",
       "      <td>0.0</td>\n",
       "      <td>0.021832</td>\n",
       "    </tr>\n",
       "  </tbody>\n",
       "</table>\n",
       "</div>"
      ],
      "text/plain": [
       "   object_id  passband  flux_err  flux_delta  mjd_delta\n",
       "0        615         2  1.531034         0.0   2.000000\n",
       "1        615         1  1.879979         0.0   0.000087\n",
       "2        615         3  1.568869         0.0   0.000087\n",
       "3        615         4  2.517296         0.0   0.000043\n",
       "4        615         2  1.617645         0.0   0.021832"
      ]
     },
     "execution_count": 106,
     "metadata": {},
     "output_type": "execute_result"
    }
   ],
   "source": [
    "train_gd.head().to_pandas()"
   ]
  },
  {
   "cell_type": "code",
   "execution_count": 107,
   "metadata": {},
   "outputs": [],
   "source": [
    "train_pd = train_gd.to_pandas()\n",
    "test_pd = test_gd.to_pandas()"
   ]
  },
  {
   "cell_type": "markdown",
   "metadata": {},
   "source": [
    "Since we have converted our reference dataframe to host memory and we only need the `object_id` column of our GPU Dataframes, we can loop through all the other columns and drop them. "
   ]
  },
  {
   "cell_type": "code",
   "execution_count": 108,
   "metadata": {},
   "outputs": [],
   "source": [
    "cols = [col for col in train_gd.columns]\n",
    "for col in cols:\n",
    "    if col!='object_id':\n",
    "        train_gd.drop_column(col)\n",
    "        test_gd.drop_column(col)"
   ]
  },
  {
   "cell_type": "markdown",
   "metadata": {},
   "source": [
    "We can number the steps in the GPU Dataframe by using the `groupby() - apply_grouped()` strategy we used for computing the deltas."
   ]
  },
  {
   "cell_type": "code",
   "execution_count": 109,
   "metadata": {},
   "outputs": [],
   "source": [
    "def get_order_in_group(row_id,step):\n",
    "    \"\"\"\n",
    "    A Numba CUDA function that assigns a step value to all the elements in a single timeseries sequence\n",
    "    \"\"\"\n",
    "    for i in range(cuda.threadIdx.x, len(row_id), cuda.blockDim.x):\n",
    "        step[i] = i\n",
    "\n",
    "def add_step(df):\n",
    "    df['row_id'] = np.arange(df.shape[0])\n",
    "    df = df.groupby('object_id',method=\"cudf\").apply_grouped(get_order_in_group,incols=['row_id'],\n",
    "                                  outcols={'step': np.int32},\n",
    "                                  tpb=32)\n",
    "    df = df.sort_values('row_id')\n",
    "    return df"
   ]
  },
  {
   "cell_type": "code",
   "execution_count": 110,
   "metadata": {},
   "outputs": [],
   "source": [
    "train_gd = add_step(train_gd)\n",
    "test_gd = add_step(test_gd)"
   ]
  },
  {
   "cell_type": "code",
   "execution_count": 111,
   "metadata": {},
   "outputs": [],
   "source": [
    "train_pd['step'] = train_gd['step'].to_pandas().values\n",
    "test_pd['step'] = test_gd['step'].to_pandas().values"
   ]
  },
  {
   "cell_type": "code",
   "execution_count": 112,
   "metadata": {},
   "outputs": [
    {
     "data": {
      "text/html": [
       "<div>\n",
       "<style scoped>\n",
       "    .dataframe tbody tr th:only-of-type {\n",
       "        vertical-align: middle;\n",
       "    }\n",
       "\n",
       "    .dataframe tbody tr th {\n",
       "        vertical-align: top;\n",
       "    }\n",
       "\n",
       "    .dataframe thead th {\n",
       "        text-align: right;\n",
       "    }\n",
       "</style>\n",
       "<table border=\"1\" class=\"dataframe\">\n",
       "  <thead>\n",
       "    <tr style=\"text-align: right;\">\n",
       "      <th></th>\n",
       "      <th>object_id</th>\n",
       "      <th>passband</th>\n",
       "      <th>flux_err</th>\n",
       "      <th>flux_delta</th>\n",
       "      <th>mjd_delta</th>\n",
       "      <th>step</th>\n",
       "    </tr>\n",
       "  </thead>\n",
       "  <tbody>\n",
       "    <tr>\n",
       "      <th>0</th>\n",
       "      <td>615</td>\n",
       "      <td>2</td>\n",
       "      <td>1.531034</td>\n",
       "      <td>0.0</td>\n",
       "      <td>2.000000</td>\n",
       "      <td>0</td>\n",
       "    </tr>\n",
       "    <tr>\n",
       "      <th>1</th>\n",
       "      <td>615</td>\n",
       "      <td>1</td>\n",
       "      <td>1.879979</td>\n",
       "      <td>0.0</td>\n",
       "      <td>0.000087</td>\n",
       "      <td>1</td>\n",
       "    </tr>\n",
       "    <tr>\n",
       "      <th>2</th>\n",
       "      <td>615</td>\n",
       "      <td>3</td>\n",
       "      <td>1.568869</td>\n",
       "      <td>0.0</td>\n",
       "      <td>0.000087</td>\n",
       "      <td>2</td>\n",
       "    </tr>\n",
       "    <tr>\n",
       "      <th>3</th>\n",
       "      <td>615</td>\n",
       "      <td>4</td>\n",
       "      <td>2.517296</td>\n",
       "      <td>0.0</td>\n",
       "      <td>0.000043</td>\n",
       "      <td>3</td>\n",
       "    </tr>\n",
       "    <tr>\n",
       "      <th>4</th>\n",
       "      <td>615</td>\n",
       "      <td>2</td>\n",
       "      <td>1.617645</td>\n",
       "      <td>0.0</td>\n",
       "      <td>0.021832</td>\n",
       "      <td>4</td>\n",
       "    </tr>\n",
       "  </tbody>\n",
       "</table>\n",
       "</div>"
      ],
      "text/plain": [
       "   object_id  passband  flux_err  flux_delta  mjd_delta  step\n",
       "0        615         2  1.531034         0.0   2.000000     0\n",
       "1        615         1  1.879979         0.0   0.000087     1\n",
       "2        615         3  1.568869         0.0   0.000087     2\n",
       "3        615         4  2.517296         0.0   0.000043     3\n",
       "4        615         2  1.617645         0.0   0.021832     4"
      ]
     },
     "execution_count": 112,
     "metadata": {},
     "output_type": "execute_result"
    }
   ],
   "source": [
    "train_pd.head()"
   ]
  },
  {
   "cell_type": "code",
   "execution_count": 113,
   "metadata": {},
   "outputs": [],
   "source": [
    "train_pd.to_pickle('train_rnn.pkl')\n",
    "test_pd.to_pickle('test_rnn.pkl')"
   ]
  },
  {
   "cell_type": "markdown",
   "metadata": {},
   "source": [
    "### Conclusion"
   ]
  },
  {
   "cell_type": "markdown",
   "metadata": {},
   "source": [
    "In this notebook we process the light curve timseries data in order to train a RNN. \n",
    "- `object_id` and `seq_id` can be used to sample sequences from the dataframe.\n",
    "- `mjd_delta` and `flux_delta` enable RNN to learn the temporal pattern of light curves.\n",
    "- `passband` is an original feature and will be embedded."
   ]
  }
 ],
 "metadata": {
  "kernelspec": {
   "display_name": "Python (rapids_env)",
   "language": "python",
   "name": "python3"
  },
  "language_info": {
   "codemirror_mode": {
    "name": "ipython",
    "version": 3
   },
   "file_extension": ".py",
   "mimetype": "text/x-python",
   "name": "python",
   "nbconvert_exporter": "python",
   "pygments_lexer": "ipython3",
   "version": "3.7.3"
  }
 },
 "nbformat": 4,
 "nbformat_minor": 4
}
