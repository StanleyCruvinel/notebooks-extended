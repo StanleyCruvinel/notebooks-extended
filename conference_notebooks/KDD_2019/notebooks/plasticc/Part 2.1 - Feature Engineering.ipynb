{
 "cells": [
  {
   "cell_type": "markdown",
   "metadata": {},
   "source": [
    "# Part 2.1 - Feature Engineering for XGBoost Model\n",
    "In this notebook, we will be loading the original train and test dataset so that we can engineer features based on the statistical properties of the flux and observation times.\n",
    "\n",
    "This notebook is broken down into four parts\n",
    "1. Compute the flux skewness for each `object_id`\n",
    "2. Compute other statistical features\n",
    "3. Merge features from Parts 1 and 2\n",
    "4. Merge bottleneck features"
   ]
  },
  {
   "cell_type": "code",
   "execution_count": 60,
   "metadata": {},
   "outputs": [],
   "source": [
    "import cudf as gd\n",
    "import pandas as pd\n",
    "import numpy as np\n",
    "import math\n",
    "import seaborn as sns\n",
    "from termcolor import colored\n",
    "from cudf_agg import cudf_groupby_aggs, compute_skew\n",
    "import matplotlib.pyplot as plt\n",
    "import warnings\n",
    "\n",
    "from numba import cuda,jit,float32\n",
    "\n",
    "from utils import scatter, groupby_aggs"
   ]
  },
  {
   "cell_type": "code",
   "execution_count": 61,
   "metadata": {},
   "outputs": [
    {
     "name": "stdout",
     "output_type": "stream",
     "text": [
      "0.8.0+0.g8fa7bd3.dirty\n"
     ]
    }
   ],
   "source": [
    "warnings.filterwarnings(\"ignore\")\n",
    "sns.set()\n",
    "print(gd.__version__)"
   ]
  },
  {
   "cell_type": "code",
   "execution_count": 32,
   "metadata": {},
   "outputs": [],
   "source": [
    "PATH = '/raid/cjnolet/plasticc_data/'"
   ]
  },
  {
   "cell_type": "code",
   "execution_count": 37,
   "metadata": {},
   "outputs": [],
   "source": [
    "ts_cols = ['object_id', 'mjd', 'passband', 'flux', 'flux_err', 'detected']\n",
    "ts_dtypes = ['int32', 'float32', 'int32', 'float32','float32','int32']"
   ]
  },
  {
   "cell_type": "markdown",
   "metadata": {},
   "source": [
    "### Part 1 - Compute Flux Skewness for each `object_id`\n",
    "\n",
    "Load the training and test datasets back into cuDF DataFrames."
   ]
  },
  {
   "cell_type": "code",
   "execution_count": 38,
   "metadata": {},
   "outputs": [],
   "source": [
    "train_gd = gd.read_csv('%s/training_set.csv'%PATH, names=ts_cols,dtype=ts_dtypes,skiprows=1)\n",
    "test_gd = gd.read_csv('%s/test_set_sample.csv'%PATH, names=ts_cols,dtype=ts_dtypes,skiprows=1)"
   ]
  },
  {
   "cell_type": "code",
   "execution_count": 39,
   "metadata": {},
   "outputs": [
    {
     "data": {
      "text/html": [
       "<div>\n",
       "<style scoped>\n",
       "    .dataframe tbody tr th:only-of-type {\n",
       "        vertical-align: middle;\n",
       "    }\n",
       "\n",
       "    .dataframe tbody tr th {\n",
       "        vertical-align: top;\n",
       "    }\n",
       "\n",
       "    .dataframe thead th {\n",
       "        text-align: right;\n",
       "    }\n",
       "</style>\n",
       "<table border=\"1\" class=\"dataframe\">\n",
       "  <thead>\n",
       "    <tr style=\"text-align: right;\">\n",
       "      <th></th>\n",
       "      <th>object_id</th>\n",
       "      <th>mjd</th>\n",
       "      <th>passband</th>\n",
       "      <th>flux</th>\n",
       "      <th>flux_err</th>\n",
       "      <th>detected</th>\n",
       "    </tr>\n",
       "  </thead>\n",
       "  <tbody>\n",
       "    <tr>\n",
       "      <th>0</th>\n",
       "      <td>13</td>\n",
       "      <td>59798.320312</td>\n",
       "      <td>2</td>\n",
       "      <td>-1.299735</td>\n",
       "      <td>1.357315</td>\n",
       "      <td>0</td>\n",
       "    </tr>\n",
       "    <tr>\n",
       "      <th>1</th>\n",
       "      <td>13</td>\n",
       "      <td>59798.328125</td>\n",
       "      <td>1</td>\n",
       "      <td>-2.095392</td>\n",
       "      <td>1.148654</td>\n",
       "      <td>0</td>\n",
       "    </tr>\n",
       "    <tr>\n",
       "      <th>2</th>\n",
       "      <td>13</td>\n",
       "      <td>59798.335938</td>\n",
       "      <td>3</td>\n",
       "      <td>-0.923794</td>\n",
       "      <td>1.763655</td>\n",
       "      <td>0</td>\n",
       "    </tr>\n",
       "    <tr>\n",
       "      <th>3</th>\n",
       "      <td>13</td>\n",
       "      <td>59798.347656</td>\n",
       "      <td>4</td>\n",
       "      <td>-4.009815</td>\n",
       "      <td>2.602911</td>\n",
       "      <td>0</td>\n",
       "    </tr>\n",
       "    <tr>\n",
       "      <th>4</th>\n",
       "      <td>13</td>\n",
       "      <td>59798.359375</td>\n",
       "      <td>5</td>\n",
       "      <td>-3.403503</td>\n",
       "      <td>5.367328</td>\n",
       "      <td>0</td>\n",
       "    </tr>\n",
       "  </tbody>\n",
       "</table>\n",
       "</div>"
      ],
      "text/plain": [
       "   object_id           mjd  passband      flux  flux_err  detected\n",
       "0         13  59798.320312         2 -1.299735  1.357315         0\n",
       "1         13  59798.328125         1 -2.095392  1.148654         0\n",
       "2         13  59798.335938         3 -0.923794  1.763655         0\n",
       "3         13  59798.347656         4 -4.009815  2.602911         0\n",
       "4         13  59798.359375         5 -3.403503  5.367328         0"
      ]
     },
     "execution_count": 39,
     "metadata": {},
     "output_type": "execute_result"
    }
   ],
   "source": [
    "test_gd.head().to_pandas()"
   ]
  },
  {
   "cell_type": "markdown",
   "metadata": {},
   "source": [
    "Let's visualize the flux for different passbands at different times for a few different objects in our data set."
   ]
  },
  {
   "cell_type": "code",
   "execution_count": 40,
   "metadata": {},
   "outputs": [
    {
     "data": {
      "image/png": "[encoded data removed]",
      "text/plain": [
       "<Figure size 432x288 with 1 Axes>"
      ]
     },
     "metadata": {},
     "output_type": "display_data"
    }
   ],
   "source": [
    "for idx, oid in zip(range(1), train_gd.object_id.unique()[:1]):\n",
    "    train = train_gd.to_pandas()\n",
    "    mask = train.object_id== oid\n",
    "\n",
    "    scatter(train.loc[mask,'mjd'].values,\n",
    "            train.loc[mask,'flux'].values,\n",
    "            values=train.loc[mask,'passband'].values,\n",
    "            xlabel='time',\n",
    "            ylabel='flux',\n",
    "            title='Object %d class 42'%oid)\n",
    "    plt.show()"
   ]
  },
  {
   "cell_type": "markdown",
   "metadata": {},
   "source": [
    "Since we are going to be computing the skewness of the `flux` for each `object_id`, we can safely drop all the other columns. "
   ]
  },
  {
   "cell_type": "code",
   "execution_count": 41,
   "metadata": {},
   "outputs": [],
   "source": [
    "test_gd = test_gd[['object_id','flux']]\n",
    "train_gd = train_gd[['object_id','flux']]"
   ]
  },
  {
   "cell_type": "markdown",
   "metadata": {},
   "source": [
    "The computation of the flux skewness is done using the `groupby() - apply_grouped()` techinque we used in the RNN feature engineering stage."
   ]
  },
  {
   "cell_type": "code",
   "execution_count": 42,
   "metadata": {},
   "outputs": [],
   "source": [
    "test_gd = cudf_groupby_aggs(test_gd,group_id_col='object_id',aggs={'flux': [\"skew\"]})\n",
    "train_gd = cudf_groupby_aggs(train_gd,group_id_col='object_id',aggs={'flux':[\"skew\"]})"
   ]
  },
  {
   "cell_type": "code",
   "execution_count": 43,
   "metadata": {},
   "outputs": [],
   "source": [
    "test_flux_skew_gd = test_gd.sort_values(by='object_id')\n",
    "train_flux_skew_gd = train_gd.sort_values(by='object_id')"
   ]
  },
  {
   "cell_type": "code",
   "execution_count": 44,
   "metadata": {},
   "outputs": [
    {
     "data": {
      "text/html": [
       "<div>\n",
       "<style scoped>\n",
       "    .dataframe tbody tr th:only-of-type {\n",
       "        vertical-align: middle;\n",
       "    }\n",
       "\n",
       "    .dataframe tbody tr th {\n",
       "        vertical-align: top;\n",
       "    }\n",
       "\n",
       "    .dataframe thead th {\n",
       "        text-align: right;\n",
       "    }\n",
       "</style>\n",
       "<table border=\"1\" class=\"dataframe\">\n",
       "  <thead>\n",
       "    <tr style=\"text-align: right;\">\n",
       "      <th></th>\n",
       "      <th>object_id</th>\n",
       "      <th>skew_flux</th>\n",
       "    </tr>\n",
       "  </thead>\n",
       "  <tbody>\n",
       "    <tr>\n",
       "      <th>0</th>\n",
       "      <td>615</td>\n",
       "      <td>-0.349541</td>\n",
       "    </tr>\n",
       "    <tr>\n",
       "      <th>1</th>\n",
       "      <td>713</td>\n",
       "      <td>0.014989</td>\n",
       "    </tr>\n",
       "    <tr>\n",
       "      <th>2</th>\n",
       "      <td>730</td>\n",
       "      <td>3.177856</td>\n",
       "    </tr>\n",
       "    <tr>\n",
       "      <th>3</th>\n",
       "      <td>745</td>\n",
       "      <td>4.979831</td>\n",
       "    </tr>\n",
       "    <tr>\n",
       "      <th>4</th>\n",
       "      <td>1124</td>\n",
       "      <td>4.406288</td>\n",
       "    </tr>\n",
       "  </tbody>\n",
       "</table>\n",
       "</div>"
      ],
      "text/plain": [
       "   object_id  skew_flux\n",
       "0        615  -0.349541\n",
       "1        713   0.014989\n",
       "2        730   3.177856\n",
       "3        745   4.979831\n",
       "4       1124   4.406288"
      ]
     },
     "execution_count": 44,
     "metadata": {},
     "output_type": "execute_result"
    }
   ],
   "source": [
    "train_flux_skew_gd.head().to_pandas()"
   ]
  },
  {
   "cell_type": "markdown",
   "metadata": {},
   "source": [
    "### Part 2 - Compute Statistical Summary Features"
   ]
  },
  {
   "cell_type": "markdown",
   "metadata": {},
   "source": [
    "We computed the flux skew in the previous ETL step and only kept those columns on GPU. Next we will need to load our original train & test CSV files back in so that we can do some additional aggregations."
   ]
  },
  {
   "cell_type": "code",
   "execution_count": 45,
   "metadata": {},
   "outputs": [],
   "source": [
    "train_gd = gd.read_csv('%s/training_set.csv'%PATH, names=ts_cols,dtype=ts_dtypes,skiprows=1)\n",
    "test_gd = gd.read_csv('%s/test_set_sample.csv'%PATH, names=ts_cols,dtype=ts_dtypes,skiprows=1)"
   ]
  },
  {
   "cell_type": "markdown",
   "metadata": {},
   "source": [
    "Read in the training metadata fields"
   ]
  },
  {
   "cell_type": "code",
   "execution_count": 46,
   "metadata": {},
   "outputs": [],
   "source": [
    "cols = ['object_id', 'ra', 'decl', 'gal_l', 'gal_b', 'ddf',\n",
    "       'hostgal_specz', 'hostgal_photoz', 'hostgal_photoz_err', \n",
    "       'distmod','mwebv', 'target']\n",
    "\n",
    "dtypes = ['int32']+['float32']*4+['int32']+['float32']*5+['int32']\n",
    "\n",
    "train_meta_gd = gd.read_csv('%s/training_set_metadata.csv'%PATH, names=cols, dtype=dtypes, skiprows=1)"
   ]
  },
  {
   "cell_type": "code",
   "execution_count": 47,
   "metadata": {},
   "outputs": [
    {
     "data": {
      "text/html": [
       "<div>\n",
       "<style scoped>\n",
       "    .dataframe tbody tr th:only-of-type {\n",
       "        vertical-align: middle;\n",
       "    }\n",
       "\n",
       "    .dataframe tbody tr th {\n",
       "        vertical-align: top;\n",
       "    }\n",
       "\n",
       "    .dataframe thead th {\n",
       "        text-align: right;\n",
       "    }\n",
       "</style>\n",
       "<table border=\"1\" class=\"dataframe\">\n",
       "  <thead>\n",
       "    <tr style=\"text-align: right;\">\n",
       "      <th></th>\n",
       "      <th>object_id</th>\n",
       "      <th>ra</th>\n",
       "      <th>decl</th>\n",
       "      <th>gal_l</th>\n",
       "      <th>gal_b</th>\n",
       "      <th>ddf</th>\n",
       "      <th>hostgal_specz</th>\n",
       "      <th>hostgal_photoz</th>\n",
       "      <th>hostgal_photoz_err</th>\n",
       "      <th>distmod</th>\n",
       "      <th>mwebv</th>\n",
       "      <th>target</th>\n",
       "    </tr>\n",
       "  </thead>\n",
       "  <tbody>\n",
       "    <tr>\n",
       "      <th>0</th>\n",
       "      <td>615</td>\n",
       "      <td>349.046082</td>\n",
       "      <td>-61.943840</td>\n",
       "      <td>320.796539</td>\n",
       "      <td>-51.753708</td>\n",
       "      <td>1</td>\n",
       "      <td>0.0000</td>\n",
       "      <td>0.0000</td>\n",
       "      <td>0.0000</td>\n",
       "      <td>NaN</td>\n",
       "      <td>0.017</td>\n",
       "      <td>92</td>\n",
       "    </tr>\n",
       "    <tr>\n",
       "      <th>1</th>\n",
       "      <td>713</td>\n",
       "      <td>53.085941</td>\n",
       "      <td>-27.784407</td>\n",
       "      <td>223.525528</td>\n",
       "      <td>-54.460751</td>\n",
       "      <td>1</td>\n",
       "      <td>1.8181</td>\n",
       "      <td>1.6267</td>\n",
       "      <td>0.2552</td>\n",
       "      <td>45.406303</td>\n",
       "      <td>0.007</td>\n",
       "      <td>88</td>\n",
       "    </tr>\n",
       "    <tr>\n",
       "      <th>2</th>\n",
       "      <td>730</td>\n",
       "      <td>33.574219</td>\n",
       "      <td>-6.579593</td>\n",
       "      <td>170.455582</td>\n",
       "      <td>-61.548218</td>\n",
       "      <td>1</td>\n",
       "      <td>0.2320</td>\n",
       "      <td>0.2262</td>\n",
       "      <td>0.0157</td>\n",
       "      <td>40.256100</td>\n",
       "      <td>0.021</td>\n",
       "      <td>42</td>\n",
       "    </tr>\n",
       "    <tr>\n",
       "      <th>3</th>\n",
       "      <td>745</td>\n",
       "      <td>0.189873</td>\n",
       "      <td>-45.586655</td>\n",
       "      <td>328.254456</td>\n",
       "      <td>-68.969299</td>\n",
       "      <td>1</td>\n",
       "      <td>0.3037</td>\n",
       "      <td>0.2813</td>\n",
       "      <td>1.1523</td>\n",
       "      <td>40.795101</td>\n",
       "      <td>0.007</td>\n",
       "      <td>90</td>\n",
       "    </tr>\n",
       "    <tr>\n",
       "      <th>4</th>\n",
       "      <td>1124</td>\n",
       "      <td>352.711304</td>\n",
       "      <td>-63.823654</td>\n",
       "      <td>316.922302</td>\n",
       "      <td>-51.059402</td>\n",
       "      <td>1</td>\n",
       "      <td>0.1934</td>\n",
       "      <td>0.2415</td>\n",
       "      <td>0.0176</td>\n",
       "      <td>40.416599</td>\n",
       "      <td>0.024</td>\n",
       "      <td>90</td>\n",
       "    </tr>\n",
       "  </tbody>\n",
       "</table>\n",
       "</div>"
      ],
      "text/plain": [
       "   object_id          ra       decl       gal_l      gal_b  ddf  \\\n",
       "0        615  349.046082 -61.943840  320.796539 -51.753708    1   \n",
       "1        713   53.085941 -27.784407  223.525528 -54.460751    1   \n",
       "2        730   33.574219  -6.579593  170.455582 -61.548218    1   \n",
       "3        745    0.189873 -45.586655  328.254456 -68.969299    1   \n",
       "4       1124  352.711304 -63.823654  316.922302 -51.059402    1   \n",
       "\n",
       "   hostgal_specz  hostgal_photoz  hostgal_photoz_err    distmod  mwebv  target  \n",
       "0         0.0000          0.0000              0.0000        NaN  0.017      92  \n",
       "1         1.8181          1.6267              0.2552  45.406303  0.007      88  \n",
       "2         0.2320          0.2262              0.0157  40.256100  0.021      42  \n",
       "3         0.3037          0.2813              1.1523  40.795101  0.007      90  \n",
       "4         0.1934          0.2415              0.0176  40.416599  0.024      90  "
      ]
     },
     "execution_count": 47,
     "metadata": {},
     "output_type": "execute_result"
    }
   ],
   "source": [
    "train_meta_gd.head().to_pandas()"
   ]
  },
  {
   "cell_type": "markdown",
   "metadata": {},
   "source": [
    "And the resulting testing metadata fields, excluding the `target` label field"
   ]
  },
  {
   "cell_type": "code",
   "execution_count": 48,
   "metadata": {},
   "outputs": [],
   "source": [
    "# # Remove the target field from the cols \n",
    "del cols[-1],dtypes[-1]\n",
    "\n",
    "test_meta_gd = gd.read_csv('%s/test_set_metadata.csv'%PATH, names=cols,dtype=dtypes,skiprows=1)"
   ]
  },
  {
   "cell_type": "markdown",
   "metadata": {},
   "source": [
    "The remaining statistical summaries perform more `group_by()` and `apply_grouped()` computations."
   ]
  },
  {
   "cell_type": "code",
   "execution_count": 49,
   "metadata": {},
   "outputs": [],
   "source": [
    "def compute_statistical_features(df,df_meta):\n",
    "    \n",
    "    aggs = {\n",
    "        'passband': ['mean'],  # mean passband\n",
    "        'detected': ['mean'],  # mean detected\n",
    "        'mjd':['max','min'],   # min / max time range\n",
    "    }\n",
    "    \n",
    "    agg_df = groupby_aggs(df, aggs)\n",
    "    \n",
    "    # If flux uncertanty is low, we get a high ratio squared. If the uncertainty is high, \n",
    "    # we will get a low ratio squared.\n",
    "    df['flux_ratio_sq'] = df['flux'] / df['flux_err']\n",
    "    df['flux_ratio_sq'] = df['flux_ratio_sq'].applymap(lambda x: math.pow(x,2))\n",
    "    \n",
    "    # Multiply flux by the ratio squared\n",
    "    df['flux_by_flux_ratio_sq'] = df['flux'] * df['flux_ratio_sq']\n",
    "    \n",
    "    aggs2 = {\n",
    "        'flux_ratio_sq':['sum'],            # Sum the sq flux ratios\n",
    "        'flux_by_flux_ratio_sq':['sum'],    # Sum the flux * sq flux ratios\n",
    "        'flux': ['min', 'max', 'mean'],     # Summary stats for flux\n",
    "        'flux_err': ['min', 'max', 'mean'], # Summary stats for flux certainty\n",
    "    }\n",
    "    \n",
    "    agg_df2 = groupby_aggs(df, aggs2)\n",
    "    agg_df = agg_df.merge(agg_df2,on=['object_id'],how='left')\n",
    "    del agg_df2\n",
    "\n",
    "    agg_df['flux_diff'] = agg_df['max_flux'] - agg_df['min_flux']\n",
    "    agg_df['flux_dif2'] = (agg_df['max_flux'] - agg_df['min_flux']) / agg_df['mean_flux']\n",
    "    \n",
    "    agg_df['flux_w_mean'] = agg_df['sum_flux_by_flux_ratio_sq'] / agg_df['sum_flux_ratio_sq']\n",
    "    agg_df['flux_dif3'] = (agg_df['max_flux'] - agg_df['min_flux']) / agg_df['flux_w_mean']\n",
    "    \n",
    "    agg_df['mjd_diff'] = agg_df['max_mjd'] - agg_df['min_mjd']\n",
    "    agg_df.drop_column('max_mjd')\n",
    "    agg_df.drop_column('min_mjd')\n",
    "    \n",
    "    for col in ['ra','decl','gal_l','gal_b']:\n",
    "        df_meta.drop_column(col)\n",
    "    \n",
    "    df_meta = df_meta.merge(agg_df,on=['object_id'],how='left')\n",
    "    return df_meta"
   ]
  },
  {
   "cell_type": "code",
   "execution_count": 50,
   "metadata": {},
   "outputs": [],
   "source": [
    "train_final_gd = compute_statistical_features(train_gd,train_meta_gd)\n",
    "test_final_gd = compute_statistical_features(test_gd,test_meta_gd)"
   ]
  },
  {
   "cell_type": "code",
   "execution_count": 51,
   "metadata": {},
   "outputs": [],
   "source": [
    "del train_gd,train_meta_gd\n",
    "del test_gd,test_meta_gd"
   ]
  },
  {
   "cell_type": "markdown",
   "metadata": {},
   "source": [
    "### Part 3 - Merge Flux Skew & Statistical Summaries\n",
    "\n",
    "We use cuDF's `merge()` to combine the flux skew and statistical summary Dataframes by `object_id`"
   ]
  },
  {
   "cell_type": "code",
   "execution_count": 52,
   "metadata": {},
   "outputs": [],
   "source": [
    "train_final_gd = train_final_gd.merge(train_flux_skew_gd,on=['object_id'],how='left')\n",
    "test_final_gd = test_final_gd.merge(test_flux_skew_gd,on=['object_id'],how='left')"
   ]
  },
  {
   "cell_type": "code",
   "execution_count": 53,
   "metadata": {},
   "outputs": [
    {
     "data": {
      "text/html": [
       "<div>\n",
       "<style scoped>\n",
       "    .dataframe tbody tr th:only-of-type {\n",
       "        vertical-align: middle;\n",
       "    }\n",
       "\n",
       "    .dataframe tbody tr th {\n",
       "        vertical-align: top;\n",
       "    }\n",
       "\n",
       "    .dataframe thead th {\n",
       "        text-align: right;\n",
       "    }\n",
       "</style>\n",
       "<table border=\"1\" class=\"dataframe\">\n",
       "  <thead>\n",
       "    <tr style=\"text-align: right;\">\n",
       "      <th></th>\n",
       "      <th>object_id</th>\n",
       "      <th>ddf</th>\n",
       "      <th>hostgal_specz</th>\n",
       "      <th>hostgal_photoz</th>\n",
       "      <th>hostgal_photoz_err</th>\n",
       "      <th>distmod</th>\n",
       "      <th>mwebv</th>\n",
       "      <th>target</th>\n",
       "      <th>mean_passband</th>\n",
       "      <th>mean_detected</th>\n",
       "      <th>...</th>\n",
       "      <th>mean_flux</th>\n",
       "      <th>min_flux_err</th>\n",
       "      <th>max_flux_err</th>\n",
       "      <th>mean_flux_err</th>\n",
       "      <th>flux_diff</th>\n",
       "      <th>flux_dif2</th>\n",
       "      <th>flux_w_mean</th>\n",
       "      <th>flux_dif3</th>\n",
       "      <th>mjd_diff</th>\n",
       "      <th>skew_flux</th>\n",
       "    </tr>\n",
       "  </thead>\n",
       "  <tbody>\n",
       "    <tr>\n",
       "      <th>0</th>\n",
       "      <td>102036</td>\n",
       "      <td>1</td>\n",
       "      <td>0.2331</td>\n",
       "      <td>0.2269</td>\n",
       "      <td>0.0197</td>\n",
       "      <td>40.263500</td>\n",
       "      <td>0.009</td>\n",
       "      <td>42</td>\n",
       "      <td>2.400000</td>\n",
       "      <td>0.065714</td>\n",
       "      <td>...</td>\n",
       "      <td>1.244875</td>\n",
       "      <td>0.469055</td>\n",
       "      <td>9.096581</td>\n",
       "      <td>2.213910</td>\n",
       "      <td>46.388195</td>\n",
       "      <td>37.263342</td>\n",
       "      <td>15.754635</td>\n",
       "      <td>2.944416</td>\n",
       "      <td>848.820312</td>\n",
       "      <td>3.008304</td>\n",
       "    </tr>\n",
       "    <tr>\n",
       "      <th>1</th>\n",
       "      <td>102330</td>\n",
       "      <td>1</td>\n",
       "      <td>0.0000</td>\n",
       "      <td>0.0000</td>\n",
       "      <td>0.0000</td>\n",
       "      <td>NaN</td>\n",
       "      <td>0.028</td>\n",
       "      <td>16</td>\n",
       "      <td>2.647059</td>\n",
       "      <td>0.713725</td>\n",
       "      <td>...</td>\n",
       "      <td>39.777528</td>\n",
       "      <td>1.584902</td>\n",
       "      <td>63.237400</td>\n",
       "      <td>3.472844</td>\n",
       "      <td>262.050964</td>\n",
       "      <td>6.587915</td>\n",
       "      <td>34.394379</td>\n",
       "      <td>7.619006</td>\n",
       "      <td>854.652344</td>\n",
       "      <td>-1.944740</td>\n",
       "    </tr>\n",
       "    <tr>\n",
       "      <th>2</th>\n",
       "      <td>102343</td>\n",
       "      <td>1</td>\n",
       "      <td>0.1081</td>\n",
       "      <td>0.1422</td>\n",
       "      <td>0.0164</td>\n",
       "      <td>39.139397</td>\n",
       "      <td>0.013</td>\n",
       "      <td>67</td>\n",
       "      <td>2.400000</td>\n",
       "      <td>0.145714</td>\n",
       "      <td>...</td>\n",
       "      <td>28.677307</td>\n",
       "      <td>0.476192</td>\n",
       "      <td>9.142436</td>\n",
       "      <td>2.283224</td>\n",
       "      <td>661.231384</td>\n",
       "      <td>23.057652</td>\n",
       "      <td>318.312805</td>\n",
       "      <td>2.077301</td>\n",
       "      <td>848.820312</td>\n",
       "      <td>4.120196</td>\n",
       "    </tr>\n",
       "    <tr>\n",
       "      <th>3</th>\n",
       "      <td>102363</td>\n",
       "      <td>1</td>\n",
       "      <td>0.8046</td>\n",
       "      <td>0.7835</td>\n",
       "      <td>0.0167</td>\n",
       "      <td>43.447002</td>\n",
       "      <td>0.020</td>\n",
       "      <td>90</td>\n",
       "      <td>2.457386</td>\n",
       "      <td>0.022727</td>\n",
       "      <td>...</td>\n",
       "      <td>0.952557</td>\n",
       "      <td>0.675273</td>\n",
       "      <td>11.333863</td>\n",
       "      <td>2.727480</td>\n",
       "      <td>40.410751</td>\n",
       "      <td>42.423468</td>\n",
       "      <td>9.980136</td>\n",
       "      <td>4.049119</td>\n",
       "      <td>873.792969</td>\n",
       "      <td>2.215801</td>\n",
       "    </tr>\n",
       "    <tr>\n",
       "      <th>4</th>\n",
       "      <td>102745</td>\n",
       "      <td>1</td>\n",
       "      <td>0.2460</td>\n",
       "      <td>0.2333</td>\n",
       "      <td>1.0359</td>\n",
       "      <td>40.331497</td>\n",
       "      <td>0.018</td>\n",
       "      <td>90</td>\n",
       "      <td>2.457386</td>\n",
       "      <td>0.008523</td>\n",
       "      <td>...</td>\n",
       "      <td>0.966352</td>\n",
       "      <td>0.671322</td>\n",
       "      <td>11.307848</td>\n",
       "      <td>2.716346</td>\n",
       "      <td>29.274839</td>\n",
       "      <td>30.294180</td>\n",
       "      <td>5.194317</td>\n",
       "      <td>5.635936</td>\n",
       "      <td>873.792969</td>\n",
       "      <td>0.305252</td>\n",
       "    </tr>\n",
       "  </tbody>\n",
       "</table>\n",
       "<p>5 rows × 24 columns</p>\n",
       "</div>"
      ],
      "text/plain": [
       "   object_id  ddf  hostgal_specz  hostgal_photoz  hostgal_photoz_err  \\\n",
       "0     102036    1         0.2331          0.2269              0.0197   \n",
       "1     102330    1         0.0000          0.0000              0.0000   \n",
       "2     102343    1         0.1081          0.1422              0.0164   \n",
       "3     102363    1         0.8046          0.7835              0.0167   \n",
       "4     102745    1         0.2460          0.2333              1.0359   \n",
       "\n",
       "     distmod  mwebv  target  mean_passband  mean_detected  ...  mean_flux  \\\n",
       "0  40.263500  0.009      42       2.400000       0.065714  ...   1.244875   \n",
       "1        NaN  0.028      16       2.647059       0.713725  ...  39.777528   \n",
       "2  39.139397  0.013      67       2.400000       0.145714  ...  28.677307   \n",
       "3  43.447002  0.020      90       2.457386       0.022727  ...   0.952557   \n",
       "4  40.331497  0.018      90       2.457386       0.008523  ...   0.966352   \n",
       "\n",
       "   min_flux_err  max_flux_err  mean_flux_err   flux_diff  flux_dif2  \\\n",
       "0      0.469055      9.096581       2.213910   46.388195  37.263342   \n",
       "1      1.584902     63.237400       3.472844  262.050964   6.587915   \n",
       "2      0.476192      9.142436       2.283224  661.231384  23.057652   \n",
       "3      0.675273     11.333863       2.727480   40.410751  42.423468   \n",
       "4      0.671322     11.307848       2.716346   29.274839  30.294180   \n",
       "\n",
       "   flux_w_mean  flux_dif3    mjd_diff  skew_flux  \n",
       "0    15.754635   2.944416  848.820312   3.008304  \n",
       "1    34.394379   7.619006  854.652344  -1.944740  \n",
       "2   318.312805   2.077301  848.820312   4.120196  \n",
       "3     9.980136   4.049119  873.792969   2.215801  \n",
       "4     5.194317   5.635936  873.792969   0.305252  \n",
       "\n",
       "[5 rows x 24 columns]"
      ]
     },
     "execution_count": 53,
     "metadata": {},
     "output_type": "execute_result"
    }
   ],
   "source": [
    "train_final_gd.head().to_pandas()"
   ]
  },
  {
   "cell_type": "markdown",
   "metadata": {},
   "source": [
    "### Part 4 - Merge in Bottleneck Features\n",
    "\n",
    "Load the bottleneck features extracted from the RNN in `Part 1.2` and concatenate with the statistical features. \n",
    "\n",
    "At this point, the notebook from `Part 1.2` should have been executed end-to-end. You can also save time by using a set of features that have already been extracted. "
   ]
  },
  {
   "cell_type": "code",
   "execution_count": 54,
   "metadata": {},
   "outputs": [],
   "source": [
    "train_bn_file = \"train_bn.pkl\"  # Use `train_bn_saved.pkl` for pre-extracted features\n",
    "test_bn_file = \"test_bn.pkl\"    # Use `test_bn_saved.pkl` for pre-extracted features"
   ]
  },
  {
   "cell_type": "code",
   "execution_count": 55,
   "metadata": {},
   "outputs": [],
   "source": [
    "train_bn = gd.from_pandas(pd.read_pickle(train_bn_file))\n",
    "test_bn = gd.from_pandas(pd.read_pickle(test_bn_file))"
   ]
  },
  {
   "cell_type": "code",
   "execution_count": 56,
   "metadata": {},
   "outputs": [],
   "source": [
    "train_final_gd = train_final_gd.merge(train_bn,on=['object_id'],how='left')\n",
    "test_final_gd = test_final_gd.merge(test_bn,on=['object_id'],how='left')"
   ]
  },
  {
   "cell_type": "code",
   "execution_count": 57,
   "metadata": {},
   "outputs": [
    {
     "data": {
      "text/html": [
       "<div>\n",
       "<style scoped>\n",
       "    .dataframe tbody tr th:only-of-type {\n",
       "        vertical-align: middle;\n",
       "    }\n",
       "\n",
       "    .dataframe tbody tr th {\n",
       "        vertical-align: top;\n",
       "    }\n",
       "\n",
       "    .dataframe thead th {\n",
       "        text-align: right;\n",
       "    }\n",
       "</style>\n",
       "<table border=\"1\" class=\"dataframe\">\n",
       "  <thead>\n",
       "    <tr style=\"text-align: right;\">\n",
       "      <th></th>\n",
       "      <th>object_id</th>\n",
       "      <th>ddf</th>\n",
       "      <th>hostgal_specz</th>\n",
       "      <th>hostgal_photoz</th>\n",
       "      <th>hostgal_photoz_err</th>\n",
       "      <th>distmod</th>\n",
       "      <th>mwebv</th>\n",
       "      <th>target</th>\n",
       "      <th>mean_passband</th>\n",
       "      <th>mean_detected</th>\n",
       "      <th>...</th>\n",
       "      <th>bottleneck6</th>\n",
       "      <th>bottleneck7</th>\n",
       "      <th>bottleneck8</th>\n",
       "      <th>bottleneck9</th>\n",
       "      <th>bottleneck10</th>\n",
       "      <th>bottleneck11</th>\n",
       "      <th>bottleneck12</th>\n",
       "      <th>bottleneck13</th>\n",
       "      <th>bottleneck14</th>\n",
       "      <th>bottleneck15</th>\n",
       "    </tr>\n",
       "  </thead>\n",
       "  <tbody>\n",
       "    <tr>\n",
       "      <th>0</th>\n",
       "      <td>191287</td>\n",
       "      <td>1</td>\n",
       "      <td>0.0000</td>\n",
       "      <td>0.0000</td>\n",
       "      <td>0.0000</td>\n",
       "      <td>NaN</td>\n",
       "      <td>0.021</td>\n",
       "      <td>65</td>\n",
       "      <td>2.336364</td>\n",
       "      <td>0.009091</td>\n",
       "      <td>...</td>\n",
       "      <td>6.283429</td>\n",
       "      <td>4.718782</td>\n",
       "      <td>1.619317</td>\n",
       "      <td>3.202919</td>\n",
       "      <td>5.222532</td>\n",
       "      <td>1.556044</td>\n",
       "      <td>4.114704</td>\n",
       "      <td>5.098020</td>\n",
       "      <td>0.048073</td>\n",
       "      <td>22.705059</td>\n",
       "    </tr>\n",
       "    <tr>\n",
       "      <th>1</th>\n",
       "      <td>191334</td>\n",
       "      <td>1</td>\n",
       "      <td>0.7632</td>\n",
       "      <td>0.7703</td>\n",
       "      <td>0.0329</td>\n",
       "      <td>43.401703</td>\n",
       "      <td>0.018</td>\n",
       "      <td>88</td>\n",
       "      <td>2.457386</td>\n",
       "      <td>0.514205</td>\n",
       "      <td>...</td>\n",
       "      <td>6.650832</td>\n",
       "      <td>10.496398</td>\n",
       "      <td>5.117399</td>\n",
       "      <td>2.728088</td>\n",
       "      <td>11.196789</td>\n",
       "      <td>0.556514</td>\n",
       "      <td>5.458009</td>\n",
       "      <td>2.808542</td>\n",
       "      <td>4.856879</td>\n",
       "      <td>14.684568</td>\n",
       "    </tr>\n",
       "    <tr>\n",
       "      <th>2</th>\n",
       "      <td>191397</td>\n",
       "      <td>1</td>\n",
       "      <td>0.3497</td>\n",
       "      <td>0.3083</td>\n",
       "      <td>0.0328</td>\n",
       "      <td>41.024101</td>\n",
       "      <td>0.023</td>\n",
       "      <td>90</td>\n",
       "      <td>2.336364</td>\n",
       "      <td>0.172727</td>\n",
       "      <td>...</td>\n",
       "      <td>20.268698</td>\n",
       "      <td>5.112232</td>\n",
       "      <td>3.696377</td>\n",
       "      <td>14.837788</td>\n",
       "      <td>1.480759</td>\n",
       "      <td>0.629527</td>\n",
       "      <td>3.716055</td>\n",
       "      <td>0.774229</td>\n",
       "      <td>16.195549</td>\n",
       "      <td>5.821880</td>\n",
       "    </tr>\n",
       "    <tr>\n",
       "      <th>3</th>\n",
       "      <td>191667</td>\n",
       "      <td>1</td>\n",
       "      <td>0.1447</td>\n",
       "      <td>0.1576</td>\n",
       "      <td>0.0135</td>\n",
       "      <td>39.383701</td>\n",
       "      <td>0.023</td>\n",
       "      <td>42</td>\n",
       "      <td>2.457386</td>\n",
       "      <td>0.224432</td>\n",
       "      <td>...</td>\n",
       "      <td>22.291304</td>\n",
       "      <td>9.205591</td>\n",
       "      <td>2.537441</td>\n",
       "      <td>1.873690</td>\n",
       "      <td>6.381655</td>\n",
       "      <td>9.245475</td>\n",
       "      <td>12.489989</td>\n",
       "      <td>0.447020</td>\n",
       "      <td>20.799400</td>\n",
       "      <td>14.036156</td>\n",
       "    </tr>\n",
       "    <tr>\n",
       "      <th>4</th>\n",
       "      <td>191847</td>\n",
       "      <td>1</td>\n",
       "      <td>0.0000</td>\n",
       "      <td>0.0000</td>\n",
       "      <td>0.0000</td>\n",
       "      <td>NaN</td>\n",
       "      <td>0.009</td>\n",
       "      <td>65</td>\n",
       "      <td>2.400000</td>\n",
       "      <td>0.017143</td>\n",
       "      <td>...</td>\n",
       "      <td>6.598294</td>\n",
       "      <td>5.393848</td>\n",
       "      <td>4.306551</td>\n",
       "      <td>1.066992</td>\n",
       "      <td>6.304627</td>\n",
       "      <td>1.928597</td>\n",
       "      <td>0.974238</td>\n",
       "      <td>2.365771</td>\n",
       "      <td>2.735358</td>\n",
       "      <td>10.880499</td>\n",
       "    </tr>\n",
       "  </tbody>\n",
       "</table>\n",
       "<p>5 rows × 40 columns</p>\n",
       "</div>"
      ],
      "text/plain": [
       "   object_id  ddf  hostgal_specz  hostgal_photoz  hostgal_photoz_err  \\\n",
       "0     191287    1         0.0000          0.0000              0.0000   \n",
       "1     191334    1         0.7632          0.7703              0.0329   \n",
       "2     191397    1         0.3497          0.3083              0.0328   \n",
       "3     191667    1         0.1447          0.1576              0.0135   \n",
       "4     191847    1         0.0000          0.0000              0.0000   \n",
       "\n",
       "     distmod  mwebv  target  mean_passband  mean_detected  ...  bottleneck6  \\\n",
       "0        NaN  0.021      65       2.336364       0.009091  ...     6.283429   \n",
       "1  43.401703  0.018      88       2.457386       0.514205  ...     6.650832   \n",
       "2  41.024101  0.023      90       2.336364       0.172727  ...    20.268698   \n",
       "3  39.383701  0.023      42       2.457386       0.224432  ...    22.291304   \n",
       "4        NaN  0.009      65       2.400000       0.017143  ...     6.598294   \n",
       "\n",
       "   bottleneck7  bottleneck8  bottleneck9  bottleneck10  bottleneck11  \\\n",
       "0     4.718782     1.619317     3.202919      5.222532      1.556044   \n",
       "1    10.496398     5.117399     2.728088     11.196789      0.556514   \n",
       "2     5.112232     3.696377    14.837788      1.480759      0.629527   \n",
       "3     9.205591     2.537441     1.873690      6.381655      9.245475   \n",
       "4     5.393848     4.306551     1.066992      6.304627      1.928597   \n",
       "\n",
       "   bottleneck12  bottleneck13  bottleneck14  bottleneck15  \n",
       "0      4.114704      5.098020      0.048073     22.705059  \n",
       "1      5.458009      2.808542      4.856879     14.684568  \n",
       "2      3.716055      0.774229     16.195549      5.821880  \n",
       "3     12.489989      0.447020     20.799400     14.036156  \n",
       "4      0.974238      2.365771      2.735358     10.880499  \n",
       "\n",
       "[5 rows x 40 columns]"
      ]
     },
     "execution_count": 57,
     "metadata": {},
     "output_type": "execute_result"
    }
   ],
   "source": [
    "train_final_gd.head().to_pandas()"
   ]
  },
  {
   "cell_type": "code",
   "execution_count": 58,
   "metadata": {},
   "outputs": [],
   "source": [
    "del train_bn,test_bn  # Save device? memory"
   ]
  },
  {
   "cell_type": "markdown",
   "metadata": {},
   "source": [
    "### Store Final Train/Test Data to Disk"
   ]
  },
  {
   "cell_type": "markdown",
   "metadata": {},
   "source": [
    "Store our extracted data out to csv files so that we can use it downstream "
   ]
  },
  {
   "cell_type": "code",
   "execution_count": 59,
   "metadata": {},
   "outputs": [],
   "source": [
    "train_final_gd.to_pandas().to_pickle(\"train_gdf.pkl\")\n",
    "test_final_gd.to_pandas().to_pickle(\"test_gdf.pkl\")"
   ]
  },
  {
   "cell_type": "code",
   "execution_count": null,
   "metadata": {},
   "outputs": [],
   "source": []
  }
 ],
 "metadata": {
  "kernelspec": {
   "display_name": "Python (rapids_env)",
   "language": "python",
   "name": "python3"
  },
  "language_info": {
   "codemirror_mode": {
    "name": "ipython",
    "version": 3
   },
   "file_extension": ".py",
   "mimetype": "text/x-python",
   "name": "python",
   "nbconvert_exporter": "python",
   "pygments_lexer": "ipython3",
   "version": "3.7.3"
  }
 },
 "nbformat": 4,
 "nbformat_minor": 4
}
