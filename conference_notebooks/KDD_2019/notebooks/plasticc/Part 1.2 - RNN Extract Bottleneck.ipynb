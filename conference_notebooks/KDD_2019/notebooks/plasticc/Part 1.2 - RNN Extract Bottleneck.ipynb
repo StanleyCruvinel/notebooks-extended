{
 "cells": [
  {
   "cell_type": "markdown",
   "metadata": {},
   "source": [
    "# Part 1.2 - Extract Predictions for RNN \n",
    "In this notebook, we will load a pre-trained RNN model and run both our train & test timeseries samples through it, extracting the bottleneck features (the outputs of the layer just before the fully-connected / classification layer(s)). \n",
    "\n",
    "These features will be used to represent the embedded timeseries features for each sample. They will be concatenated with other features to train our final XGBoost classification model. "
   ]
  },
  {
   "cell_type": "code",
   "execution_count": 23,
   "metadata": {},
   "outputs": [
    {
     "name": "stdout",
     "output_type": "stream",
     "text": [
      "1.13.1\n"
     ]
    }
   ],
   "source": [
    "import warnings\n",
    "warnings.filterwarnings(\"ignore\")\n",
    "import math\n",
    "import pandas as pd\n",
    "import numpy as np\n",
    "import time\n",
    "import tensorflow as tf\n",
    "from rnn import PlasticcRNN\n",
    "import matplotlib.pyplot as plt\n",
    "%matplotlib inline\n",
    "\n",
    "print(tf.__version__)"
   ]
  },
  {
   "cell_type": "markdown",
   "metadata": {},
   "source": [
    "### Load Train & Test Data"
   ]
  },
  {
   "cell_type": "code",
   "execution_count": 24,
   "metadata": {},
   "outputs": [],
   "source": [
    "train = pd.read_pickle('train_rnn.pkl')\n",
    "test = pd.read_pickle('test_rnn.pkl')"
   ]
  },
  {
   "cell_type": "markdown",
   "metadata": {},
   "source": [
    "### Load pre-trained RNN model\n",
    "\n",
    "You can find the code for the RNN model in `rnn.py` if you'd like to look further into the implementation."
   ]
  },
  {
   "cell_type": "code",
   "execution_count": 25,
   "metadata": {},
   "outputs": [],
   "source": [
    "model = PlasticcRNN('weight/rnn.npy')"
   ]
  },
  {
   "cell_type": "markdown",
   "metadata": {},
   "source": [
    "Call `predict_bottleneck` to feed each training example through the pre-trained RNN model and extract the outputs from the layer just before the final classification layer ."
   ]
  },
  {
   "cell_type": "code",
   "execution_count": 26,
   "metadata": {},
   "outputs": [
    {
     "name": "stdout",
     "output_type": "stream",
     "text": [
      "restore RNN/rnn3/bidirectional_rnn/fw/gru_cell/gates/kernel:0\n",
      "restore RNN/rnn3/bidirectional_rnn/fw/gru_cell/gates/bias:0\n",
      "restore RNN/rnn3/bidirectional_rnn/fw/gru_cell/candidate/kernel:0\n",
      "restore RNN/rnn3/bidirectional_rnn/fw/gru_cell/candidate/bias:0\n",
      "restore RNN/rnn3/bidirectional_rnn/bw/gru_cell/gates/kernel:0\n",
      "restore RNN/rnn3/bidirectional_rnn/bw/gru_cell/gates/bias:0\n",
      "restore RNN/rnn3/bidirectional_rnn/bw/gru_cell/candidate/kernel:0\n",
      "restore RNN/rnn3/bidirectional_rnn/bw/gru_cell/candidate/bias:0\n",
      "restore RNN/rnn5/bidirectional_rnn/fw/output_projection_wrapper/gru_cell/gates/kernel:0\n",
      "restore RNN/rnn5/bidirectional_rnn/fw/output_projection_wrapper/gru_cell/gates/bias:0\n",
      "restore RNN/rnn5/bidirectional_rnn/fw/output_projection_wrapper/gru_cell/candidate/kernel:0\n",
      "restore RNN/rnn5/bidirectional_rnn/fw/output_projection_wrapper/gru_cell/candidate/bias:0\n",
      "restore RNN/rnn5/bidirectional_rnn/fw/output_projection_wrapper/kernel:0\n",
      "restore RNN/rnn5/bidirectional_rnn/fw/output_projection_wrapper/bias:0\n",
      "restore RNN/rnn5/bidirectional_rnn/bw/output_projection_wrapper/gru_cell/gates/kernel:0\n",
      "restore RNN/rnn5/bidirectional_rnn/bw/output_projection_wrapper/gru_cell/gates/bias:0\n",
      "restore RNN/rnn5/bidirectional_rnn/bw/output_projection_wrapper/gru_cell/candidate/kernel:0\n",
      "restore RNN/rnn5/bidirectional_rnn/bw/output_projection_wrapper/gru_cell/candidate/bias:0\n",
      "restore RNN/rnn5/bidirectional_rnn/bw/output_projection_wrapper/kernel:0\n",
      "restore RNN/rnn5/bidirectional_rnn/bw/output_projection_wrapper/bias:0\n",
      "restore RNN/rnn4/bidirectional_rnn/fw/gru_cell/gates/kernel:0\n",
      "restore RNN/rnn4/bidirectional_rnn/fw/gru_cell/gates/bias:0\n",
      "restore RNN/rnn4/bidirectional_rnn/fw/gru_cell/candidate/kernel:0\n",
      "restore RNN/rnn4/bidirectional_rnn/fw/gru_cell/candidate/bias:0\n",
      "restore RNN/rnn4/bidirectional_rnn/bw/gru_cell/gates/kernel:0\n",
      "restore RNN/rnn4/bidirectional_rnn/bw/gru_cell/gates/bias:0\n"
     ]
    },
    {
     "name": "stderr",
     "output_type": "stream",
     "text": [
      "  0%|          | 0/3 [00:00<?, ?it/s]"
     ]
    },
    {
     "name": "stdout",
     "output_type": "stream",
     "text": [
      "restore RNN/rnn4/bidirectional_rnn/bw/gru_cell/candidate/kernel:0\n",
      "restore RNN/rnn4/bidirectional_rnn/bw/gru_cell/candidate/bias:0\n"
     ]
    },
    {
     "name": "stderr",
     "output_type": "stream",
     "text": [
      "4it [00:03,  1.03s/it]                       \n"
     ]
    }
   ],
   "source": [
    "train_bn = model.predict_bottleneck(train)"
   ]
  },
  {
   "cell_type": "markdown",
   "metadata": {},
   "source": [
    "Call `predict_bottleneck` to do the same with the testing data. This can take a little time, so it might be worthwhile to move onto the next nextbook and return to this once it's complete. "
   ]
  },
  {
   "cell_type": "code",
   "execution_count": 27,
   "metadata": {},
   "outputs": [
    {
     "name": "stdout",
     "output_type": "stream",
     "text": [
      "restore RNN/rnn3/bidirectional_rnn/fw/gru_cell/gates/kernel:0\n",
      "restore RNN/rnn3/bidirectional_rnn/fw/gru_cell/gates/bias:0\n",
      "restore RNN/rnn3/bidirectional_rnn/fw/gru_cell/candidate/kernel:0\n",
      "restore RNN/rnn3/bidirectional_rnn/fw/gru_cell/candidate/bias:0\n",
      "restore RNN/rnn3/bidirectional_rnn/bw/gru_cell/gates/kernel:0\n",
      "restore RNN/rnn3/bidirectional_rnn/bw/gru_cell/gates/bias:0\n",
      "restore RNN/rnn3/bidirectional_rnn/bw/gru_cell/candidate/kernel:0\n",
      "restore RNN/rnn3/bidirectional_rnn/bw/gru_cell/candidate/bias:0\n",
      "restore RNN/rnn5/bidirectional_rnn/fw/output_projection_wrapper/gru_cell/gates/kernel:0\n",
      "restore RNN/rnn5/bidirectional_rnn/fw/output_projection_wrapper/gru_cell/gates/bias:0\n",
      "restore RNN/rnn5/bidirectional_rnn/fw/output_projection_wrapper/gru_cell/candidate/kernel:0\n",
      "restore RNN/rnn5/bidirectional_rnn/fw/output_projection_wrapper/gru_cell/candidate/bias:0\n",
      "restore RNN/rnn5/bidirectional_rnn/fw/output_projection_wrapper/kernel:0\n",
      "restore RNN/rnn5/bidirectional_rnn/fw/output_projection_wrapper/bias:0\n",
      "restore RNN/rnn5/bidirectional_rnn/bw/output_projection_wrapper/gru_cell/gates/kernel:0\n",
      "restore RNN/rnn5/bidirectional_rnn/bw/output_projection_wrapper/gru_cell/gates/bias:0\n",
      "restore RNN/rnn5/bidirectional_rnn/bw/output_projection_wrapper/gru_cell/candidate/kernel:0\n",
      "restore RNN/rnn5/bidirectional_rnn/bw/output_projection_wrapper/gru_cell/candidate/bias:0\n",
      "restore RNN/rnn5/bidirectional_rnn/bw/output_projection_wrapper/kernel:0\n",
      "restore RNN/rnn5/bidirectional_rnn/bw/output_projection_wrapper/bias:0\n",
      "restore RNN/rnn4/bidirectional_rnn/fw/gru_cell/gates/kernel:0\n",
      "restore RNN/rnn4/bidirectional_rnn/fw/gru_cell/gates/bias:0\n",
      "restore RNN/rnn4/bidirectional_rnn/fw/gru_cell/candidate/kernel:0\n",
      "restore RNN/rnn4/bidirectional_rnn/fw/gru_cell/candidate/bias:0\n",
      "restore RNN/rnn4/bidirectional_rnn/bw/gru_cell/gates/kernel:0\n",
      "restore RNN/rnn4/bidirectional_rnn/bw/gru_cell/gates/bias:0\n"
     ]
    },
    {
     "name": "stderr",
     "output_type": "stream",
     "text": [
      "  0%|          | 0/1 [00:00<?, ?it/s]"
     ]
    },
    {
     "name": "stdout",
     "output_type": "stream",
     "text": [
      "restore RNN/rnn4/bidirectional_rnn/bw/gru_cell/candidate/kernel:0\n",
      "restore RNN/rnn4/bidirectional_rnn/bw/gru_cell/candidate/bias:0\n"
     ]
    },
    {
     "name": "stderr",
     "output_type": "stream",
     "text": [
      "2it [00:02,  1.32s/it]                       \n"
     ]
    }
   ],
   "source": [
    "test_bn = model.predict_bottleneck(test)"
   ]
  },
  {
   "cell_type": "markdown",
   "metadata": {},
   "source": [
    "Let's verify that we have embedded each of our timeseries into 16-dimensional space. "
   ]
  },
  {
   "cell_type": "code",
   "execution_count": 28,
   "metadata": {},
   "outputs": [
    {
     "name": "stdout",
     "output_type": "stream",
     "text": [
      "(7848, 16)\n",
      "(3036, 16)\n"
     ]
    }
   ],
   "source": [
    "print(train_bn.shape)\n",
    "print(test_bn.shape)"
   ]
  },
  {
   "cell_type": "markdown",
   "metadata": {},
   "source": [
    "### Convert Bottleneck Features to DataFrames\n",
    "\n",
    "We will need to concatenate these bottleneck features with a Dataframe, so let's go ahead and create dataframes for the train and test datasets now. "
   ]
  },
  {
   "cell_type": "code",
   "execution_count": 29,
   "metadata": {},
   "outputs": [],
   "source": [
    "train_bn = pd.DataFrame(train_bn,columns=['bottleneck%d'%i for i in range(train_bn.shape[1])])\n",
    "train_bn['object_id'] = train.object_id.unique().astype(\"int32\")"
   ]
  },
  {
   "cell_type": "code",
   "execution_count": 30,
   "metadata": {},
   "outputs": [
    {
     "data": {
      "text/html": [
       "<div>\n",
       "<style scoped>\n",
       "    .dataframe tbody tr th:only-of-type {\n",
       "        vertical-align: middle;\n",
       "    }\n",
       "\n",
       "    .dataframe tbody tr th {\n",
       "        vertical-align: top;\n",
       "    }\n",
       "\n",
       "    .dataframe thead th {\n",
       "        text-align: right;\n",
       "    }\n",
       "</style>\n",
       "<table border=\"1\" class=\"dataframe\">\n",
       "  <thead>\n",
       "    <tr style=\"text-align: right;\">\n",
       "      <th></th>\n",
       "      <th>bottleneck0</th>\n",
       "      <th>bottleneck1</th>\n",
       "      <th>bottleneck2</th>\n",
       "      <th>bottleneck3</th>\n",
       "      <th>bottleneck4</th>\n",
       "      <th>bottleneck5</th>\n",
       "      <th>bottleneck6</th>\n",
       "      <th>bottleneck7</th>\n",
       "      <th>bottleneck8</th>\n",
       "      <th>bottleneck9</th>\n",
       "      <th>bottleneck10</th>\n",
       "      <th>bottleneck11</th>\n",
       "      <th>bottleneck12</th>\n",
       "      <th>bottleneck13</th>\n",
       "      <th>bottleneck14</th>\n",
       "      <th>bottleneck15</th>\n",
       "      <th>object_id</th>\n",
       "    </tr>\n",
       "  </thead>\n",
       "  <tbody>\n",
       "    <tr>\n",
       "      <th>0</th>\n",
       "      <td>39.626457</td>\n",
       "      <td>0.497825</td>\n",
       "      <td>9.503530</td>\n",
       "      <td>0.612190</td>\n",
       "      <td>0.370296</td>\n",
       "      <td>36.647839</td>\n",
       "      <td>0.001450</td>\n",
       "      <td>0.050136</td>\n",
       "      <td>0.076503</td>\n",
       "      <td>7.458235</td>\n",
       "      <td>0.147237</td>\n",
       "      <td>0.000974</td>\n",
       "      <td>0.472516</td>\n",
       "      <td>56.940910</td>\n",
       "      <td>0.144692</td>\n",
       "      <td>20.955284</td>\n",
       "      <td>615</td>\n",
       "    </tr>\n",
       "    <tr>\n",
       "      <th>1</th>\n",
       "      <td>2.315192</td>\n",
       "      <td>6.362340</td>\n",
       "      <td>8.646493</td>\n",
       "      <td>0.750931</td>\n",
       "      <td>2.506892</td>\n",
       "      <td>8.227393</td>\n",
       "      <td>7.570269</td>\n",
       "      <td>9.884037</td>\n",
       "      <td>3.889832</td>\n",
       "      <td>1.148435</td>\n",
       "      <td>2.220537</td>\n",
       "      <td>0.156296</td>\n",
       "      <td>5.254804</td>\n",
       "      <td>1.756874</td>\n",
       "      <td>3.062057</td>\n",
       "      <td>19.185877</td>\n",
       "      <td>713</td>\n",
       "    </tr>\n",
       "    <tr>\n",
       "      <th>2</th>\n",
       "      <td>2.349471</td>\n",
       "      <td>29.854164</td>\n",
       "      <td>0.534167</td>\n",
       "      <td>1.965333</td>\n",
       "      <td>7.866547</td>\n",
       "      <td>0.414091</td>\n",
       "      <td>21.975964</td>\n",
       "      <td>3.617615</td>\n",
       "      <td>3.761395</td>\n",
       "      <td>2.100560</td>\n",
       "      <td>0.536902</td>\n",
       "      <td>11.514246</td>\n",
       "      <td>3.766770</td>\n",
       "      <td>0.182644</td>\n",
       "      <td>9.025029</td>\n",
       "      <td>3.807947</td>\n",
       "      <td>730</td>\n",
       "    </tr>\n",
       "    <tr>\n",
       "      <th>3</th>\n",
       "      <td>14.263150</td>\n",
       "      <td>32.955151</td>\n",
       "      <td>3.364045</td>\n",
       "      <td>11.658510</td>\n",
       "      <td>2.128215</td>\n",
       "      <td>0.905252</td>\n",
       "      <td>25.994488</td>\n",
       "      <td>2.800233</td>\n",
       "      <td>9.684278</td>\n",
       "      <td>8.299098</td>\n",
       "      <td>0.385034</td>\n",
       "      <td>8.098384</td>\n",
       "      <td>4.981500</td>\n",
       "      <td>0.281322</td>\n",
       "      <td>15.864852</td>\n",
       "      <td>2.367192</td>\n",
       "      <td>745</td>\n",
       "    </tr>\n",
       "    <tr>\n",
       "      <th>4</th>\n",
       "      <td>9.047191</td>\n",
       "      <td>27.102867</td>\n",
       "      <td>8.031672</td>\n",
       "      <td>6.901597</td>\n",
       "      <td>2.862491</td>\n",
       "      <td>1.167179</td>\n",
       "      <td>23.666925</td>\n",
       "      <td>1.425559</td>\n",
       "      <td>7.036583</td>\n",
       "      <td>7.211462</td>\n",
       "      <td>0.203276</td>\n",
       "      <td>9.391024</td>\n",
       "      <td>2.969179</td>\n",
       "      <td>0.419447</td>\n",
       "      <td>8.057733</td>\n",
       "      <td>1.478815</td>\n",
       "      <td>1124</td>\n",
       "    </tr>\n",
       "  </tbody>\n",
       "</table>\n",
       "</div>"
      ],
      "text/plain": [
       "   bottleneck0  bottleneck1  bottleneck2  bottleneck3  bottleneck4  \\\n",
       "0    39.626457     0.497825     9.503530     0.612190     0.370296   \n",
       "1     2.315192     6.362340     8.646493     0.750931     2.506892   \n",
       "2     2.349471    29.854164     0.534167     1.965333     7.866547   \n",
       "3    14.263150    32.955151     3.364045    11.658510     2.128215   \n",
       "4     9.047191    27.102867     8.031672     6.901597     2.862491   \n",
       "\n",
       "   bottleneck5  bottleneck6  bottleneck7  bottleneck8  bottleneck9  \\\n",
       "0    36.647839     0.001450     0.050136     0.076503     7.458235   \n",
       "1     8.227393     7.570269     9.884037     3.889832     1.148435   \n",
       "2     0.414091    21.975964     3.617615     3.761395     2.100560   \n",
       "3     0.905252    25.994488     2.800233     9.684278     8.299098   \n",
       "4     1.167179    23.666925     1.425559     7.036583     7.211462   \n",
       "\n",
       "   bottleneck10  bottleneck11  bottleneck12  bottleneck13  bottleneck14  \\\n",
       "0      0.147237      0.000974      0.472516     56.940910      0.144692   \n",
       "1      2.220537      0.156296      5.254804      1.756874      3.062057   \n",
       "2      0.536902     11.514246      3.766770      0.182644      9.025029   \n",
       "3      0.385034      8.098384      4.981500      0.281322     15.864852   \n",
       "4      0.203276      9.391024      2.969179      0.419447      8.057733   \n",
       "\n",
       "   bottleneck15  object_id  \n",
       "0     20.955284        615  \n",
       "1     19.185877        713  \n",
       "2      3.807947        730  \n",
       "3      2.367192        745  \n",
       "4      1.478815       1124  "
      ]
     },
     "execution_count": 30,
     "metadata": {},
     "output_type": "execute_result"
    }
   ],
   "source": [
    "train_bn.head()"
   ]
  },
  {
   "cell_type": "code",
   "execution_count": 31,
   "metadata": {},
   "outputs": [],
   "source": [
    "test_bn = pd.DataFrame(test_bn,columns=['bottleneck%d'%i for i in range(test_bn.shape[1])])\n",
    "test_bn['object_id'] = test.object_id.unique().astype(\"int32\")"
   ]
  },
  {
   "cell_type": "code",
   "execution_count": 32,
   "metadata": {},
   "outputs": [
    {
     "data": {
      "text/html": [
       "<div>\n",
       "<style scoped>\n",
       "    .dataframe tbody tr th:only-of-type {\n",
       "        vertical-align: middle;\n",
       "    }\n",
       "\n",
       "    .dataframe tbody tr th {\n",
       "        vertical-align: top;\n",
       "    }\n",
       "\n",
       "    .dataframe thead th {\n",
       "        text-align: right;\n",
       "    }\n",
       "</style>\n",
       "<table border=\"1\" class=\"dataframe\">\n",
       "  <thead>\n",
       "    <tr style=\"text-align: right;\">\n",
       "      <th></th>\n",
       "      <th>bottleneck0</th>\n",
       "      <th>bottleneck1</th>\n",
       "      <th>bottleneck2</th>\n",
       "      <th>bottleneck3</th>\n",
       "      <th>bottleneck4</th>\n",
       "      <th>bottleneck5</th>\n",
       "      <th>bottleneck6</th>\n",
       "      <th>bottleneck7</th>\n",
       "      <th>bottleneck8</th>\n",
       "      <th>bottleneck9</th>\n",
       "      <th>bottleneck10</th>\n",
       "      <th>bottleneck11</th>\n",
       "      <th>bottleneck12</th>\n",
       "      <th>bottleneck13</th>\n",
       "      <th>bottleneck14</th>\n",
       "      <th>bottleneck15</th>\n",
       "      <th>object_id</th>\n",
       "    </tr>\n",
       "  </thead>\n",
       "  <tbody>\n",
       "    <tr>\n",
       "      <th>0</th>\n",
       "      <td>5.314604</td>\n",
       "      <td>18.732872</td>\n",
       "      <td>0.109989</td>\n",
       "      <td>0.152188</td>\n",
       "      <td>20.551414</td>\n",
       "      <td>0.765192</td>\n",
       "      <td>24.027542</td>\n",
       "      <td>2.453748</td>\n",
       "      <td>7.116918</td>\n",
       "      <td>1.107046</td>\n",
       "      <td>5.734407</td>\n",
       "      <td>22.341146</td>\n",
       "      <td>11.663008</td>\n",
       "      <td>0.542580</td>\n",
       "      <td>17.808409</td>\n",
       "      <td>1.945663</td>\n",
       "      <td>13</td>\n",
       "    </tr>\n",
       "    <tr>\n",
       "      <th>1</th>\n",
       "      <td>5.084124</td>\n",
       "      <td>15.651435</td>\n",
       "      <td>1.266997</td>\n",
       "      <td>1.708105</td>\n",
       "      <td>1.504252</td>\n",
       "      <td>4.000192</td>\n",
       "      <td>14.550860</td>\n",
       "      <td>7.445744</td>\n",
       "      <td>4.548276</td>\n",
       "      <td>2.846517</td>\n",
       "      <td>3.295013</td>\n",
       "      <td>2.950758</td>\n",
       "      <td>6.132604</td>\n",
       "      <td>0.039986</td>\n",
       "      <td>12.180595</td>\n",
       "      <td>2.511426</td>\n",
       "      <td>14</td>\n",
       "    </tr>\n",
       "    <tr>\n",
       "      <th>2</th>\n",
       "      <td>3.302041</td>\n",
       "      <td>12.145276</td>\n",
       "      <td>2.155739</td>\n",
       "      <td>0.452114</td>\n",
       "      <td>2.118812</td>\n",
       "      <td>2.622386</td>\n",
       "      <td>15.338934</td>\n",
       "      <td>5.113633</td>\n",
       "      <td>6.906394</td>\n",
       "      <td>0.760518</td>\n",
       "      <td>1.073105</td>\n",
       "      <td>5.979373</td>\n",
       "      <td>4.356204</td>\n",
       "      <td>0.027025</td>\n",
       "      <td>7.365407</td>\n",
       "      <td>3.111598</td>\n",
       "      <td>17</td>\n",
       "    </tr>\n",
       "    <tr>\n",
       "      <th>3</th>\n",
       "      <td>0.603152</td>\n",
       "      <td>25.041437</td>\n",
       "      <td>1.588372</td>\n",
       "      <td>2.659944</td>\n",
       "      <td>7.473477</td>\n",
       "      <td>1.960465</td>\n",
       "      <td>20.626919</td>\n",
       "      <td>3.034693</td>\n",
       "      <td>4.911191</td>\n",
       "      <td>8.276651</td>\n",
       "      <td>0.550741</td>\n",
       "      <td>4.876296</td>\n",
       "      <td>6.742918</td>\n",
       "      <td>0.043288</td>\n",
       "      <td>4.671526</td>\n",
       "      <td>2.382284</td>\n",
       "      <td>23</td>\n",
       "    </tr>\n",
       "    <tr>\n",
       "      <th>4</th>\n",
       "      <td>0.928996</td>\n",
       "      <td>20.801142</td>\n",
       "      <td>4.854119</td>\n",
       "      <td>2.758434</td>\n",
       "      <td>2.354545</td>\n",
       "      <td>3.899116</td>\n",
       "      <td>8.542637</td>\n",
       "      <td>3.583603</td>\n",
       "      <td>8.108053</td>\n",
       "      <td>4.079149</td>\n",
       "      <td>1.013585</td>\n",
       "      <td>3.548541</td>\n",
       "      <td>3.466989</td>\n",
       "      <td>2.487076</td>\n",
       "      <td>6.708286</td>\n",
       "      <td>3.600367</td>\n",
       "      <td>34</td>\n",
       "    </tr>\n",
       "  </tbody>\n",
       "</table>\n",
       "</div>"
      ],
      "text/plain": [
       "   bottleneck0  bottleneck1  bottleneck2  bottleneck3  bottleneck4  \\\n",
       "0     5.314604    18.732872     0.109989     0.152188    20.551414   \n",
       "1     5.084124    15.651435     1.266997     1.708105     1.504252   \n",
       "2     3.302041    12.145276     2.155739     0.452114     2.118812   \n",
       "3     0.603152    25.041437     1.588372     2.659944     7.473477   \n",
       "4     0.928996    20.801142     4.854119     2.758434     2.354545   \n",
       "\n",
       "   bottleneck5  bottleneck6  bottleneck7  bottleneck8  bottleneck9  \\\n",
       "0     0.765192    24.027542     2.453748     7.116918     1.107046   \n",
       "1     4.000192    14.550860     7.445744     4.548276     2.846517   \n",
       "2     2.622386    15.338934     5.113633     6.906394     0.760518   \n",
       "3     1.960465    20.626919     3.034693     4.911191     8.276651   \n",
       "4     3.899116     8.542637     3.583603     8.108053     4.079149   \n",
       "\n",
       "   bottleneck10  bottleneck11  bottleneck12  bottleneck13  bottleneck14  \\\n",
       "0      5.734407     22.341146     11.663008      0.542580     17.808409   \n",
       "1      3.295013      2.950758      6.132604      0.039986     12.180595   \n",
       "2      1.073105      5.979373      4.356204      0.027025      7.365407   \n",
       "3      0.550741      4.876296      6.742918      0.043288      4.671526   \n",
       "4      1.013585      3.548541      3.466989      2.487076      6.708286   \n",
       "\n",
       "   bottleneck15  object_id  \n",
       "0      1.945663         13  \n",
       "1      2.511426         14  \n",
       "2      3.111598         17  \n",
       "3      2.382284         23  \n",
       "4      3.600367         34  "
      ]
     },
     "execution_count": 32,
     "metadata": {},
     "output_type": "execute_result"
    }
   ],
   "source": [
    "test_bn.head()"
   ]
  },
  {
   "cell_type": "markdown",
   "metadata": {},
   "source": [
    "### Store Features to Disk"
   ]
  },
  {
   "cell_type": "code",
   "execution_count": 33,
   "metadata": {},
   "outputs": [],
   "source": [
    "train_bn.to_pickle('train_bn.pkl')\n",
    "test_bn.to_pickle('test_bn.pkl')"
   ]
  },
  {
   "cell_type": "code",
   "execution_count": null,
   "metadata": {},
   "outputs": [],
   "source": []
  }
 ],
 "metadata": {
  "kernelspec": {
   "display_name": "Python (rapids_env)",
   "language": "python",
   "name": "python3"
  },
  "language_info": {
   "codemirror_mode": {
    "name": "ipython",
    "version": 3
   },
   "file_extension": ".py",
   "mimetype": "text/x-python",
   "name": "python",
   "nbconvert_exporter": "python",
   "pygments_lexer": "ipython3",
   "version": "3.7.3"
  }
 },
 "nbformat": 4,
 "nbformat_minor": 4
}
