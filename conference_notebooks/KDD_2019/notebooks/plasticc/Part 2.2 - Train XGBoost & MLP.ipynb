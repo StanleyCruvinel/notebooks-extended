{
 "cells": [
  {
   "cell_type": "markdown",
   "metadata": {},
   "source": [
    "# Part 2.2 - Train Final XGBoost Classifier\n",
    "We will use XGBoost to train a model for predicting the astronomical classes. XGBoost uses a machine learning technique called gradient boosting. Similar in concept to random forests, gradient boosting uses an ensemble of decision trees for prediction.\n",
    "\n",
    "While random forest ensembles can be built in parallel, gradient boosting ensembles are built by iteratively adding decision trees, which minimize some objective function, to the forest. Each iteration is focused on improving predictions for observations that performed poorly in previous iterations."
   ]
  },
  {
   "cell_type": "code",
   "execution_count": 29,
   "metadata": {},
   "outputs": [],
   "source": [
    "import cudf as gd\n",
    "import pandas as pd\n",
    "import numpy as np\n",
    "import math\n",
    "import xgboost as xgb\n",
    "from termcolor import colored\n",
    "import matplotlib.pyplot as plt\n",
    "\n",
    "from utils import xgb_cross_entropy_loss, cross_entropy\n",
    "\n",
    "from cuml.preprocessing import LabelEncoder\n",
    "\n",
    "from sklearn.model_selection import train_test_split"
   ]
  },
  {
   "cell_type": "code",
   "execution_count": 30,
   "metadata": {},
   "outputs": [],
   "source": [
    "train_final_gd = gd.from_pandas(pd.read_pickle(\"train_gdf.pkl\"))\n",
    "test_final_gd = gd.from_pandas(pd.read_pickle(\"test_gdf.pkl\"))"
   ]
  },
  {
   "cell_type": "code",
   "execution_count": 31,
   "metadata": {},
   "outputs": [
    {
     "data": {
      "text/html": [
       "<div>\n",
       "<style scoped>\n",
       "    .dataframe tbody tr th:only-of-type {\n",
       "        vertical-align: middle;\n",
       "    }\n",
       "\n",
       "    .dataframe tbody tr th {\n",
       "        vertical-align: top;\n",
       "    }\n",
       "\n",
       "    .dataframe thead th {\n",
       "        text-align: right;\n",
       "    }\n",
       "</style>\n",
       "<table border=\"1\" class=\"dataframe\">\n",
       "  <thead>\n",
       "    <tr style=\"text-align: right;\">\n",
       "      <th></th>\n",
       "      <th>object_id</th>\n",
       "      <th>ddf</th>\n",
       "      <th>hostgal_specz</th>\n",
       "      <th>hostgal_photoz</th>\n",
       "      <th>hostgal_photoz_err</th>\n",
       "      <th>distmod</th>\n",
       "      <th>mwebv</th>\n",
       "      <th>target</th>\n",
       "      <th>mean_passband</th>\n",
       "      <th>mean_detected</th>\n",
       "      <th>...</th>\n",
       "      <th>bottleneck6</th>\n",
       "      <th>bottleneck7</th>\n",
       "      <th>bottleneck8</th>\n",
       "      <th>bottleneck9</th>\n",
       "      <th>bottleneck10</th>\n",
       "      <th>bottleneck11</th>\n",
       "      <th>bottleneck12</th>\n",
       "      <th>bottleneck13</th>\n",
       "      <th>bottleneck14</th>\n",
       "      <th>bottleneck15</th>\n",
       "    </tr>\n",
       "  </thead>\n",
       "  <tbody>\n",
       "    <tr>\n",
       "      <th>0</th>\n",
       "      <td>191287</td>\n",
       "      <td>1</td>\n",
       "      <td>0.0000</td>\n",
       "      <td>0.0000</td>\n",
       "      <td>0.0000</td>\n",
       "      <td>NaN</td>\n",
       "      <td>0.021</td>\n",
       "      <td>65</td>\n",
       "      <td>2.336364</td>\n",
       "      <td>0.009091</td>\n",
       "      <td>...</td>\n",
       "      <td>6.283429</td>\n",
       "      <td>4.718782</td>\n",
       "      <td>1.619317</td>\n",
       "      <td>3.202919</td>\n",
       "      <td>5.222532</td>\n",
       "      <td>1.556044</td>\n",
       "      <td>4.114704</td>\n",
       "      <td>5.098020</td>\n",
       "      <td>0.048073</td>\n",
       "      <td>22.705059</td>\n",
       "    </tr>\n",
       "    <tr>\n",
       "      <th>1</th>\n",
       "      <td>191334</td>\n",
       "      <td>1</td>\n",
       "      <td>0.7632</td>\n",
       "      <td>0.7703</td>\n",
       "      <td>0.0329</td>\n",
       "      <td>43.401703</td>\n",
       "      <td>0.018</td>\n",
       "      <td>88</td>\n",
       "      <td>2.457386</td>\n",
       "      <td>0.514205</td>\n",
       "      <td>...</td>\n",
       "      <td>6.650832</td>\n",
       "      <td>10.496398</td>\n",
       "      <td>5.117399</td>\n",
       "      <td>2.728088</td>\n",
       "      <td>11.196789</td>\n",
       "      <td>0.556514</td>\n",
       "      <td>5.458009</td>\n",
       "      <td>2.808542</td>\n",
       "      <td>4.856879</td>\n",
       "      <td>14.684568</td>\n",
       "    </tr>\n",
       "    <tr>\n",
       "      <th>2</th>\n",
       "      <td>191397</td>\n",
       "      <td>1</td>\n",
       "      <td>0.3497</td>\n",
       "      <td>0.3083</td>\n",
       "      <td>0.0328</td>\n",
       "      <td>41.024101</td>\n",
       "      <td>0.023</td>\n",
       "      <td>90</td>\n",
       "      <td>2.336364</td>\n",
       "      <td>0.172727</td>\n",
       "      <td>...</td>\n",
       "      <td>20.268698</td>\n",
       "      <td>5.112232</td>\n",
       "      <td>3.696377</td>\n",
       "      <td>14.837788</td>\n",
       "      <td>1.480759</td>\n",
       "      <td>0.629527</td>\n",
       "      <td>3.716055</td>\n",
       "      <td>0.774229</td>\n",
       "      <td>16.195549</td>\n",
       "      <td>5.821880</td>\n",
       "    </tr>\n",
       "    <tr>\n",
       "      <th>3</th>\n",
       "      <td>191667</td>\n",
       "      <td>1</td>\n",
       "      <td>0.1447</td>\n",
       "      <td>0.1576</td>\n",
       "      <td>0.0135</td>\n",
       "      <td>39.383701</td>\n",
       "      <td>0.023</td>\n",
       "      <td>42</td>\n",
       "      <td>2.457386</td>\n",
       "      <td>0.224432</td>\n",
       "      <td>...</td>\n",
       "      <td>22.291304</td>\n",
       "      <td>9.205591</td>\n",
       "      <td>2.537441</td>\n",
       "      <td>1.873690</td>\n",
       "      <td>6.381655</td>\n",
       "      <td>9.245475</td>\n",
       "      <td>12.489989</td>\n",
       "      <td>0.447020</td>\n",
       "      <td>20.799400</td>\n",
       "      <td>14.036156</td>\n",
       "    </tr>\n",
       "    <tr>\n",
       "      <th>4</th>\n",
       "      <td>191847</td>\n",
       "      <td>1</td>\n",
       "      <td>0.0000</td>\n",
       "      <td>0.0000</td>\n",
       "      <td>0.0000</td>\n",
       "      <td>NaN</td>\n",
       "      <td>0.009</td>\n",
       "      <td>65</td>\n",
       "      <td>2.400000</td>\n",
       "      <td>0.017143</td>\n",
       "      <td>...</td>\n",
       "      <td>6.598294</td>\n",
       "      <td>5.393848</td>\n",
       "      <td>4.306551</td>\n",
       "      <td>1.066992</td>\n",
       "      <td>6.304627</td>\n",
       "      <td>1.928597</td>\n",
       "      <td>0.974238</td>\n",
       "      <td>2.365771</td>\n",
       "      <td>2.735358</td>\n",
       "      <td>10.880499</td>\n",
       "    </tr>\n",
       "  </tbody>\n",
       "</table>\n",
       "<p>5 rows × 40 columns</p>\n",
       "</div>"
      ],
      "text/plain": [
       "   object_id  ddf  hostgal_specz  hostgal_photoz  hostgal_photoz_err  \\\n",
       "0     191287    1         0.0000          0.0000              0.0000   \n",
       "1     191334    1         0.7632          0.7703              0.0329   \n",
       "2     191397    1         0.3497          0.3083              0.0328   \n",
       "3     191667    1         0.1447          0.1576              0.0135   \n",
       "4     191847    1         0.0000          0.0000              0.0000   \n",
       "\n",
       "     distmod  mwebv  target  mean_passband  mean_detected  ...  bottleneck6  \\\n",
       "0        NaN  0.021      65       2.336364       0.009091  ...     6.283429   \n",
       "1  43.401703  0.018      88       2.457386       0.514205  ...     6.650832   \n",
       "2  41.024101  0.023      90       2.336364       0.172727  ...    20.268698   \n",
       "3  39.383701  0.023      42       2.457386       0.224432  ...    22.291304   \n",
       "4        NaN  0.009      65       2.400000       0.017143  ...     6.598294   \n",
       "\n",
       "   bottleneck7  bottleneck8  bottleneck9  bottleneck10  bottleneck11  \\\n",
       "0     4.718782     1.619317     3.202919      5.222532      1.556044   \n",
       "1    10.496398     5.117399     2.728088     11.196789      0.556514   \n",
       "2     5.112232     3.696377    14.837788      1.480759      0.629527   \n",
       "3     9.205591     2.537441     1.873690      6.381655      9.245475   \n",
       "4     5.393848     4.306551     1.066992      6.304627      1.928597   \n",
       "\n",
       "   bottleneck12  bottleneck13  bottleneck14  bottleneck15  \n",
       "0      4.114704      5.098020      0.048073     22.705059  \n",
       "1      5.458009      2.808542      4.856879     14.684568  \n",
       "2      3.716055      0.774229     16.195549      5.821880  \n",
       "3     12.489989      0.447020     20.799400     14.036156  \n",
       "4      0.974238      2.365771      2.735358     10.880499  \n",
       "\n",
       "[5 rows x 40 columns]"
      ]
     },
     "execution_count": 31,
     "metadata": {},
     "output_type": "execute_result"
    }
   ],
   "source": [
    "train_final_gd.head().to_pandas()"
   ]
  },
  {
   "cell_type": "markdown",
   "metadata": {},
   "source": [
    "Let's extract the set of unique classes from our training set"
   ]
  },
  {
   "cell_type": "code",
   "execution_count": 32,
   "metadata": {},
   "outputs": [],
   "source": [
    "y = train_final_gd['target']\n",
    "classes = sorted(np.unique(y.to_array()))"
   ]
  },
  {
   "cell_type": "markdown",
   "metadata": {},
   "source": [
    "Since our classifier will expect labels to be in the range `(0, n_classes-1)`, we can use cuML's `LabelEncoder()` function to encode them in the training dataset. "
   ]
  },
  {
   "cell_type": "code",
   "execution_count": 33,
   "metadata": {},
   "outputs": [],
   "source": [
    "y = LabelEncoder().fit_transform(y).to_array()"
   ]
  },
  {
   "cell_type": "markdown",
   "metadata": {},
   "source": [
    "Preprocess our columns to fill `nan` values with zeros"
   ]
  },
  {
   "cell_type": "code",
   "execution_count": 34,
   "metadata": {},
   "outputs": [],
   "source": [
    "cols = [i for i in test_final_gd.columns if i not in ['object_id','target']]\n",
    "for col in cols:\n",
    "    train_final_gd[col] = train_final_gd[col].fillna(0).astype('float32')\n",
    "\n",
    "for col in cols:\n",
    "    test_final_gd[col] = test_final_gd[col].fillna(0).astype('float32')"
   ]
  },
  {
   "cell_type": "markdown",
   "metadata": {},
   "source": [
    "Perform a stratified split of our training dataset into 90% training and 10% validation datasets. "
   ]
  },
  {
   "cell_type": "code",
   "execution_count": 35,
   "metadata": {},
   "outputs": [],
   "source": [
    "X = train_final_gd[cols].as_matrix()\n",
    "Xt = test_final_gd[cols].as_matrix()\n",
    "\n",
    "X_train, X_test, y_train, y_test = train_test_split(X,y,test_size=0.1,stratify=y)"
   ]
  },
  {
   "cell_type": "markdown",
   "metadata": {},
   "source": [
    "XGBoost models are configured using a dict for parameters. You can learn more about the various different configuration parameters in the XGBoost [docs](https://xgboost.readthedocs.io/en/latest/parameter.html). "
   ]
  },
  {
   "cell_type": "code",
   "execution_count": 36,
   "metadata": {},
   "outputs": [],
   "source": [
    "gpu_params = {\n",
    "            'objective': 'multi:softprob',    # softmax, return probabilities for each class\n",
    "            'nthread': 16,\n",
    "            'num_class':len(classes),\n",
    "            'max_depth': 7,\n",
    "            'silent': 1,\n",
    "            'subsample':0.7,\n",
    "            'colsample_bytree': 0.7,\n",
    "            \"tree_method\": \"gpu_hist\"         # compute histograms for splits on GPU\n",
    "}"
   ]
  },
  {
   "cell_type": "markdown",
   "metadata": {},
   "source": [
    "Build DMatrix objects with our train, validation, and test datasets "
   ]
  },
  {
   "cell_type": "code",
   "execution_count": 37,
   "metadata": {},
   "outputs": [],
   "source": [
    "dtrain = xgb.DMatrix(data=X_train, label=y_train)\n",
    "dvalid = xgb.DMatrix(data=X_test, label=y_test)\n",
    "dtest = xgb.DMatrix(data=Xt)"
   ]
  },
  {
   "cell_type": "markdown",
   "metadata": {},
   "source": [
    "Train our XGBoost model"
   ]
  },
  {
   "cell_type": "code",
   "execution_count": 38,
   "metadata": {},
   "outputs": [
    {
     "name": "stdout",
     "output_type": "stream",
     "text": [
      "[0]\teval-merror:0.230573\ttrain-merror:0.195243\teval-wloss:1.66247\ttrain-wloss:1.58968\n",
      "Multiple eval metrics have been passed: 'train-wloss' will be used for early stopping.\n",
      "\n",
      "Will train until train-wloss hasn't improved in 10 rounds.\n",
      "[59]\teval-merror:0.157962\ttrain-merror:0\teval-wloss:0.73674\ttrain-wloss:0.024258\n"
     ]
    }
   ],
   "source": [
    "watchlist = [(dvalid, 'eval'), (dtrain, 'train')]\n",
    "\n",
    "clf = xgb.train(gpu_params, \n",
    "                dtrain=dtrain,\n",
    "                num_boost_round=60,\n",
    "                evals=watchlist,\n",
    "                feval=xgb_cross_entropy_loss(classes),\n",
    "                early_stopping_rounds=10,\n",
    "                verbose_eval=1000)"
   ]
  },
  {
   "cell_type": "code",
   "execution_count": 39,
   "metadata": {},
   "outputs": [
    {
     "name": "stdout",
     "output_type": "stream",
     "text": [
      "\u001b[32mvalidation loss 0.7367\u001b[0m\n"
     ]
    }
   ],
   "source": [
    "yp = clf.predict(dvalid)\n",
    "\n",
    "gpu_loss = cross_entropy(y_test, yp, classes)\n",
    "\n",
    "ysub = clf.predict(dtest)\n",
    "\n",
    "line = 'validation loss %.4f'%gpu_loss\n",
    "print(colored(line,'green'))"
   ]
  },
  {
   "cell_type": "markdown",
   "metadata": {},
   "source": [
    "A confusion matrix will give us a good indication of the accuracy for each class"
   ]
  },
  {
   "cell_type": "code",
   "execution_count": 40,
   "metadata": {},
   "outputs": [],
   "source": [
    "y_pred = np.argmax(yp, axis=1)"
   ]
  },
  {
   "cell_type": "code",
   "execution_count": 41,
   "metadata": {},
   "outputs": [
    {
     "name": "stdout",
     "output_type": "stream",
     "text": [
      "Normalized confusion matrix\n"
     ]
    },
    {
     "data": {
      "text/plain": [
       "<matplotlib.axes._subplots.AxesSubplot at 0x7fd21d8fc400>"
      ]
     },
     "execution_count": 41,
     "metadata": {},
     "output_type": "execute_result"
    },
    {
     "data": {
      "image/png": "[encoded data removed]",
      "text/plain": [
       "<Figure size 2016x576 with 2 Axes>"
      ]
     },
     "metadata": {
      "needs_background": "light"
     },
     "output_type": "display_data"
    }
   ],
   "source": [
    "from utils import plot_confusion_matrix\n",
    "plot_confusion_matrix(y_test, y_pred, np.arange(1, len(classes)+1), normalize=True)"
   ]
  },
  {
   "cell_type": "markdown",
   "metadata": {},
   "source": [
    "## Independent Exercise\n",
    "\n",
    "Now that you have trained an XGBoost model using both the timeseries embeddings and the statistical features,\n",
    "1. re-run the previous notebook, but don't merge the timseries features into your training and test datasets before storing them. \n",
    "2. Use your new dataset to train a new XGBoost classifier. \n",
    "3. Compare the accuracy and confusion matrix against the model that included the timeseries embedding features. "
   ]
  },
  {
   "cell_type": "code",
   "execution_count": null,
   "metadata": {},
   "outputs": [],
   "source": []
  }
 ],
 "metadata": {
  "kernelspec": {
   "display_name": "Python (rapids_env)",
   "language": "python",
   "name": "python3"
  },
  "language_info": {
   "codemirror_mode": {
    "name": "ipython",
    "version": 3
   },
   "file_extension": ".py",
   "mimetype": "text/x-python",
   "name": "python",
   "nbconvert_exporter": "python",
   "pygments_lexer": "ipython3",
   "version": "3.7.3"
  }
 },
 "nbformat": 4,
 "nbformat_minor": 4
}
