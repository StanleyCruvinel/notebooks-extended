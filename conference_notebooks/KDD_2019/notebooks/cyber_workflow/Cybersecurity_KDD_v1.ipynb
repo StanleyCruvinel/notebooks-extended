{
 "cells": [
  {
   "cell_type": "markdown",
   "metadata": {},
   "source": [
    "# RAPIDS for Cybersecurity Applications"
   ]
  },
  {
   "cell_type": "markdown",
   "metadata": {},
   "source": [
    "#### KDD 2019 Workshop\n",
    "\n",
    "#### Authors\n",
    "- Bartley Richardson (NVIDIA)\n",
    "- Brad Rees (NVIDIA)\n",
    "- Haekyu Park (Georgia Tech, NVIDIA)"
   ]
  },
  {
   "cell_type": "code",
   "execution_count": 1,
   "metadata": {},
   "outputs": [],
   "source": [
    "import dask\n",
    "import dask.dataframe as dd\n",
    "import cudf\n",
    "import dask_cudf\n",
    "import pandas as pd"
   ]
  },
  {
   "cell_type": "markdown",
   "metadata": {},
   "source": [
    "## Data Import"
   ]
  },
  {
   "cell_type": "code",
   "execution_count": 5,
   "metadata": {},
   "outputs": [
    {
     "name": "stdout",
     "output_type": "stream",
     "text": [
      "CPU times: user 452 ms, sys: 264 ms, total: 716 ms\n",
      "Wall time: 833 ms\n"
     ]
    }
   ],
   "source": [
    "%%time\n",
    "enconn_gdf = cudf.read_csv(\"./df_enconn_pd.tab\", sep='\\t')"
   ]
  },
  {
   "cell_type": "code",
   "execution_count": 8,
   "metadata": {},
   "outputs": [
    {
     "name": "stdout",
     "output_type": "stream",
     "text": [
      "CPU times: user 0 ns, sys: 0 ns, total: 0 ns\n",
      "Wall time: 10.7 µs\n"
     ]
    }
   ],
   "source": [
    "%%time\n",
    "# enconn_pdf = pd.read_csv(\"./df_enconn_pd.tab\", sep='\\t')"
   ]
  },
  {
   "cell_type": "code",
   "execution_count": 4,
   "metadata": {},
   "outputs": [
    {
     "name": "stdout",
     "output_type": "stream",
     "text": [
      "   Unnamed: 0                  ts     id_orig_h  id_orig_p       id_resp_h  id_resp_p  proto ...  resp_port\n",
      "0           0   1424246667.886334  175.45.176.1      54776  149.171.126.17        111    udp ...      111.0\n",
      "1           1    1424246931.96847  175.45.176.1      61723  149.171.126.17        111    udp ...      111.0\n",
      "2           2  1424247419.3913927  175.45.176.1      60443  149.171.126.17        111    udp ...      111.0\n",
      "3           3   1421929976.371788  175.45.176.1       5724  149.171.126.17        111    udp ...      111.0\n",
      "4           4  1421930473.0328019  175.45.176.1      37292  149.171.126.17        111    udp ...      111.0\n",
      "[9 more columns]\n"
     ]
    }
   ],
   "source": [
    "print(enconn_gdf.head())"
   ]
  },
  {
   "cell_type": "markdown",
   "metadata": {},
   "source": [
    "## Feature Engineering"
   ]
  },
  {
   "cell_type": "markdown",
   "metadata": {},
   "source": [
    "**[TODO]** \n",
    "- Migrate to cuDF"
   ]
  },
  {
   "cell_type": "code",
   "execution_count": null,
   "metadata": {},
   "outputs": [],
   "source": [
    "df_enriched_conn = hc.sql(\"SELECT c.ts,c.id_orig_h,c.id_orig_p,c.id_resp_h,c.id_resp_p,c.proto,c.orig_ip_bytes,c.resp_ip_bytes,g.attack_category,g.attack_subcategory,g.attack_name FROM unsw_nb15.bro_conn as c LEFT JOIN unsw_nb15.ground_truth AS g ON c.ts>=g.start_time AND c.ts<=g.last_time AND c.id_orig_h=g.source_ip AND c.id_resp_h=g.dest_ip AND c.proto=g.protocol\")\n",
    "# enconn_pdf = df_enriched_conn.toPandas()"
   ]
  },
  {
   "cell_type": "code",
   "execution_count": 9,
   "metadata": {},
   "outputs": [
    {
     "name": "stdout",
     "output_type": "stream",
     "text": [
      "CPU times: user 6.67 s, sys: 768 ms, total: 7.44 s\n",
      "Wall time: 7.44 s\n"
     ]
    }
   ],
   "source": [
    "%%time\n",
    "enconn_pdf = pd.read_csv(\"./df_enconn_pd.tab\", sep='\\t')"
   ]
  },
  {
   "cell_type": "code",
   "execution_count": 10,
   "metadata": {},
   "outputs": [
    {
     "data": {
      "text/html": [
       "<div>\n",
       "<style scoped>\n",
       "    .dataframe tbody tr th:only-of-type {\n",
       "        vertical-align: middle;\n",
       "    }\n",
       "\n",
       "    .dataframe tbody tr th {\n",
       "        vertical-align: top;\n",
       "    }\n",
       "\n",
       "    .dataframe thead th {\n",
       "        text-align: right;\n",
       "    }\n",
       "</style>\n",
       "<table border=\"1\" class=\"dataframe\">\n",
       "  <thead>\n",
       "    <tr style=\"text-align: right;\">\n",
       "      <th></th>\n",
       "      <th>Unnamed: 0</th>\n",
       "      <th>ts</th>\n",
       "      <th>id_orig_h</th>\n",
       "      <th>id_orig_p</th>\n",
       "      <th>id_resp_h</th>\n",
       "      <th>id_resp_p</th>\n",
       "      <th>proto</th>\n",
       "      <th>orig_ip_bytes</th>\n",
       "      <th>resp_ip_bytes</th>\n",
       "      <th>attack_category</th>\n",
       "      <th>attack_subcategory</th>\n",
       "      <th>attack_name</th>\n",
       "      <th>orig_ip</th>\n",
       "      <th>resp_ip</th>\n",
       "      <th>attack_color</th>\n",
       "      <th>orig_port</th>\n",
       "      <th>resp_port</th>\n",
       "    </tr>\n",
       "  </thead>\n",
       "  <tbody>\n",
       "    <tr>\n",
       "      <th>0</th>\n",
       "      <td>0</td>\n",
       "      <td>1.424247e+09</td>\n",
       "      <td>175.45.176.1</td>\n",
       "      <td>54776</td>\n",
       "      <td>149.171.126.17</td>\n",
       "      <td>111</td>\n",
       "      <td>udp</td>\n",
       "      <td>168</td>\n",
       "      <td>0</td>\n",
       "      <td>no_attack</td>\n",
       "      <td>NaN</td>\n",
       "      <td>NaN</td>\n",
       "      <td>2939006977</td>\n",
       "      <td>2511044113</td>\n",
       "      <td>13</td>\n",
       "      <td>10000.0</td>\n",
       "      <td>111.0</td>\n",
       "    </tr>\n",
       "    <tr>\n",
       "      <th>1</th>\n",
       "      <td>1</td>\n",
       "      <td>1.424247e+09</td>\n",
       "      <td>175.45.176.1</td>\n",
       "      <td>61723</td>\n",
       "      <td>149.171.126.17</td>\n",
       "      <td>111</td>\n",
       "      <td>udp</td>\n",
       "      <td>168</td>\n",
       "      <td>0</td>\n",
       "      <td>no_attack</td>\n",
       "      <td>NaN</td>\n",
       "      <td>NaN</td>\n",
       "      <td>2939006977</td>\n",
       "      <td>2511044113</td>\n",
       "      <td>13</td>\n",
       "      <td>10000.0</td>\n",
       "      <td>111.0</td>\n",
       "    </tr>\n",
       "    <tr>\n",
       "      <th>2</th>\n",
       "      <td>2</td>\n",
       "      <td>1.424247e+09</td>\n",
       "      <td>175.45.176.1</td>\n",
       "      <td>60443</td>\n",
       "      <td>149.171.126.17</td>\n",
       "      <td>111</td>\n",
       "      <td>udp</td>\n",
       "      <td>168</td>\n",
       "      <td>0</td>\n",
       "      <td>no_attack</td>\n",
       "      <td>NaN</td>\n",
       "      <td>NaN</td>\n",
       "      <td>2939006977</td>\n",
       "      <td>2511044113</td>\n",
       "      <td>13</td>\n",
       "      <td>10000.0</td>\n",
       "      <td>111.0</td>\n",
       "    </tr>\n",
       "    <tr>\n",
       "      <th>3</th>\n",
       "      <td>3</td>\n",
       "      <td>1.421930e+09</td>\n",
       "      <td>175.45.176.1</td>\n",
       "      <td>5724</td>\n",
       "      <td>149.171.126.17</td>\n",
       "      <td>111</td>\n",
       "      <td>udp</td>\n",
       "      <td>168</td>\n",
       "      <td>0</td>\n",
       "      <td>no_attack</td>\n",
       "      <td>NaN</td>\n",
       "      <td>NaN</td>\n",
       "      <td>2939006977</td>\n",
       "      <td>2511044113</td>\n",
       "      <td>13</td>\n",
       "      <td>5724.0</td>\n",
       "      <td>111.0</td>\n",
       "    </tr>\n",
       "    <tr>\n",
       "      <th>4</th>\n",
       "      <td>4</td>\n",
       "      <td>1.421930e+09</td>\n",
       "      <td>175.45.176.1</td>\n",
       "      <td>37292</td>\n",
       "      <td>149.171.126.17</td>\n",
       "      <td>111</td>\n",
       "      <td>udp</td>\n",
       "      <td>168</td>\n",
       "      <td>0</td>\n",
       "      <td>no_attack</td>\n",
       "      <td>NaN</td>\n",
       "      <td>NaN</td>\n",
       "      <td>2939006977</td>\n",
       "      <td>2511044113</td>\n",
       "      <td>13</td>\n",
       "      <td>10000.0</td>\n",
       "      <td>111.0</td>\n",
       "    </tr>\n",
       "    <tr>\n",
       "      <th>5</th>\n",
       "      <td>5</td>\n",
       "      <td>1.421930e+09</td>\n",
       "      <td>175.45.176.1</td>\n",
       "      <td>63447</td>\n",
       "      <td>149.171.126.17</td>\n",
       "      <td>111</td>\n",
       "      <td>udp</td>\n",
       "      <td>168</td>\n",
       "      <td>0</td>\n",
       "      <td>no_attack</td>\n",
       "      <td>NaN</td>\n",
       "      <td>NaN</td>\n",
       "      <td>2939006977</td>\n",
       "      <td>2511044113</td>\n",
       "      <td>13</td>\n",
       "      <td>10000.0</td>\n",
       "      <td>111.0</td>\n",
       "    </tr>\n",
       "    <tr>\n",
       "      <th>6</th>\n",
       "      <td>6</td>\n",
       "      <td>1.421931e+09</td>\n",
       "      <td>175.45.176.1</td>\n",
       "      <td>48500</td>\n",
       "      <td>149.171.126.17</td>\n",
       "      <td>111</td>\n",
       "      <td>udp</td>\n",
       "      <td>168</td>\n",
       "      <td>0</td>\n",
       "      <td>no_attack</td>\n",
       "      <td>NaN</td>\n",
       "      <td>NaN</td>\n",
       "      <td>2939006977</td>\n",
       "      <td>2511044113</td>\n",
       "      <td>13</td>\n",
       "      <td>10000.0</td>\n",
       "      <td>111.0</td>\n",
       "    </tr>\n",
       "    <tr>\n",
       "      <th>7</th>\n",
       "      <td>7</td>\n",
       "      <td>1.421931e+09</td>\n",
       "      <td>175.45.176.1</td>\n",
       "      <td>60588</td>\n",
       "      <td>149.171.126.17</td>\n",
       "      <td>5060</td>\n",
       "      <td>udp</td>\n",
       "      <td>1320</td>\n",
       "      <td>702</td>\n",
       "      <td>no_attack</td>\n",
       "      <td>NaN</td>\n",
       "      <td>NaN</td>\n",
       "      <td>2939006977</td>\n",
       "      <td>2511044113</td>\n",
       "      <td>13</td>\n",
       "      <td>10000.0</td>\n",
       "      <td>5060.0</td>\n",
       "    </tr>\n",
       "    <tr>\n",
       "      <th>8</th>\n",
       "      <td>8</td>\n",
       "      <td>1.421931e+09</td>\n",
       "      <td>175.45.176.1</td>\n",
       "      <td>54155</td>\n",
       "      <td>149.171.126.17</td>\n",
       "      <td>33107</td>\n",
       "      <td>udp</td>\n",
       "      <td>226</td>\n",
       "      <td>0</td>\n",
       "      <td>no_attack</td>\n",
       "      <td>NaN</td>\n",
       "      <td>NaN</td>\n",
       "      <td>2939006977</td>\n",
       "      <td>2511044113</td>\n",
       "      <td>13</td>\n",
       "      <td>10000.0</td>\n",
       "      <td>10000.0</td>\n",
       "    </tr>\n",
       "    <tr>\n",
       "      <th>9</th>\n",
       "      <td>9</td>\n",
       "      <td>1.421931e+09</td>\n",
       "      <td>175.45.176.1</td>\n",
       "      <td>20551</td>\n",
       "      <td>149.171.126.17</td>\n",
       "      <td>69</td>\n",
       "      <td>udp</td>\n",
       "      <td>1104</td>\n",
       "      <td>0</td>\n",
       "      <td>no_attack</td>\n",
       "      <td>NaN</td>\n",
       "      <td>NaN</td>\n",
       "      <td>2939006977</td>\n",
       "      <td>2511044113</td>\n",
       "      <td>13</td>\n",
       "      <td>10000.0</td>\n",
       "      <td>69.0</td>\n",
       "    </tr>\n",
       "  </tbody>\n",
       "</table>\n",
       "</div>"
      ],
      "text/plain": [
       "   Unnamed: 0            ts     id_orig_h  id_orig_p       id_resp_h  \\\n",
       "0           0  1.424247e+09  175.45.176.1      54776  149.171.126.17   \n",
       "1           1  1.424247e+09  175.45.176.1      61723  149.171.126.17   \n",
       "2           2  1.424247e+09  175.45.176.1      60443  149.171.126.17   \n",
       "3           3  1.421930e+09  175.45.176.1       5724  149.171.126.17   \n",
       "4           4  1.421930e+09  175.45.176.1      37292  149.171.126.17   \n",
       "5           5  1.421930e+09  175.45.176.1      63447  149.171.126.17   \n",
       "6           6  1.421931e+09  175.45.176.1      48500  149.171.126.17   \n",
       "7           7  1.421931e+09  175.45.176.1      60588  149.171.126.17   \n",
       "8           8  1.421931e+09  175.45.176.1      54155  149.171.126.17   \n",
       "9           9  1.421931e+09  175.45.176.1      20551  149.171.126.17   \n",
       "\n",
       "   id_resp_p proto  orig_ip_bytes  resp_ip_bytes attack_category  \\\n",
       "0        111   udp            168              0       no_attack   \n",
       "1        111   udp            168              0       no_attack   \n",
       "2        111   udp            168              0       no_attack   \n",
       "3        111   udp            168              0       no_attack   \n",
       "4        111   udp            168              0       no_attack   \n",
       "5        111   udp            168              0       no_attack   \n",
       "6        111   udp            168              0       no_attack   \n",
       "7       5060   udp           1320            702       no_attack   \n",
       "8      33107   udp            226              0       no_attack   \n",
       "9         69   udp           1104              0       no_attack   \n",
       "\n",
       "  attack_subcategory attack_name     orig_ip     resp_ip  attack_color  \\\n",
       "0                NaN         NaN  2939006977  2511044113            13   \n",
       "1                NaN         NaN  2939006977  2511044113            13   \n",
       "2                NaN         NaN  2939006977  2511044113            13   \n",
       "3                NaN         NaN  2939006977  2511044113            13   \n",
       "4                NaN         NaN  2939006977  2511044113            13   \n",
       "5                NaN         NaN  2939006977  2511044113            13   \n",
       "6                NaN         NaN  2939006977  2511044113            13   \n",
       "7                NaN         NaN  2939006977  2511044113            13   \n",
       "8                NaN         NaN  2939006977  2511044113            13   \n",
       "9                NaN         NaN  2939006977  2511044113            13   \n",
       "\n",
       "   orig_port  resp_port  \n",
       "0    10000.0      111.0  \n",
       "1    10000.0      111.0  \n",
       "2    10000.0      111.0  \n",
       "3     5724.0      111.0  \n",
       "4    10000.0      111.0  \n",
       "5    10000.0      111.0  \n",
       "6    10000.0      111.0  \n",
       "7    10000.0     5060.0  \n",
       "8    10000.0    10000.0  \n",
       "9    10000.0       69.0  "
      ]
     },
     "execution_count": 10,
     "metadata": {},
     "output_type": "execute_result"
    }
   ],
   "source": [
    "enconn_pdf[:10]"
   ]
  },
  {
   "cell_type": "code",
   "execution_count": 11,
   "metadata": {},
   "outputs": [],
   "source": [
    "import socket, struct\n",
    "\n",
    "def ip2long(ip):\n",
    "    packedIP = socket.inet_aton(ip)\n",
    "    return struct.unpack(\"!L\", packedIP)[0]"
   ]
  },
  {
   "cell_type": "code",
   "execution_count": 12,
   "metadata": {},
   "outputs": [],
   "source": [
    "enconn_pdf['orig_ip'] = enconn_pdf['id_orig_h'].apply(lambda x: ip2long(x))\n",
    "enconn_pdf['resp_ip'] = enconn_pdf['id_resp_h'].apply(lambda x: ip2long(x))"
   ]
  },
  {
   "cell_type": "code",
   "execution_count": 13,
   "metadata": {},
   "outputs": [],
   "source": [
    "enconn_pdf['attack_category'] = enconn_pdf['attack_category'].fillna('no_attack')"
   ]
  },
  {
   "cell_type": "code",
   "execution_count": 14,
   "metadata": {},
   "outputs": [],
   "source": [
    "enconn_pdf['attack_color'] = enconn_pdf['attack_category'].astype('category').cat.codes"
   ]
  },
  {
   "cell_type": "code",
   "execution_count": 15,
   "metadata": {},
   "outputs": [],
   "source": [
    "# df_enconn_pd = df_enconn_pd.drop(['orig_port','resp_port'], axis=1)"
   ]
  },
  {
   "cell_type": "code",
   "execution_count": 16,
   "metadata": {},
   "outputs": [],
   "source": [
    "enconn_pdf.loc[enconn_pdf['id_orig_p']>10000, 'orig_port'] = 10000\n",
    "enconn_pdf.loc[enconn_pdf['id_orig_p']<=10000, 'orig_port'] = enconn_pdf['id_orig_p']"
   ]
  },
  {
   "cell_type": "code",
   "execution_count": 17,
   "metadata": {},
   "outputs": [],
   "source": [
    "enconn_pdf.loc[enconn_pdf['id_resp_p']>10000, 'resp_port'] = 10000\n",
    "enconn_pdf.loc[enconn_pdf['id_resp_p']<=10000, 'resp_port'] = enconn_pdf['id_resp_p']"
   ]
  },
  {
   "cell_type": "markdown",
   "metadata": {},
   "source": [
    "## Graph Embedding"
   ]
  },
  {
   "cell_type": "markdown",
   "metadata": {},
   "source": [
    "**[TODO]**\n",
    "- cuGraph from cuDF\n",
    "- graph aggregate statistics"
   ]
  },
  {
   "cell_type": "markdown",
   "metadata": {},
   "source": [
    "## Graph Analytics"
   ]
  },
  {
   "cell_type": "markdown",
   "metadata": {},
   "source": [
    "**[TODO]**\n",
    "- Temporal embedding\n",
    "- PPR (static)\n",
    "- PPR (dynamic)"
   ]
  },
  {
   "cell_type": "markdown",
   "metadata": {},
   "source": [
    "## Visualization"
   ]
  },
  {
   "cell_type": "markdown",
   "metadata": {},
   "source": [
    "**[TODO]**\n",
    "- Replace parallel coordinates with PyDataViz+GPU (as possible)\n",
    "- Temporal visualization (currently D3/JS)"
   ]
  },
  {
   "cell_type": "markdown",
   "metadata": {},
   "source": [
    "Use parallel coordinates to visualize attacks"
   ]
  },
  {
   "cell_type": "code",
   "execution_count": 18,
   "metadata": {},
   "outputs": [],
   "source": [
    "subset_edges_plot_df = enconn_pdf.sort_values(by=['ts'])[:500000]"
   ]
  },
  {
   "cell_type": "code",
   "execution_count": 19,
   "metadata": {},
   "outputs": [],
   "source": [
    "subset_edges_plot_df = enconn_pdf[enconn_pdf['attack_category'] != 'no_attack']"
   ]
  },
  {
   "cell_type": "code",
   "execution_count": 22,
   "metadata": {},
   "outputs": [],
   "source": [
    "import plotly.plotly as py\n",
    "import plotly.graph_objs as go\n",
    "from plotly.offline import plot"
   ]
  },
  {
   "cell_type": "code",
   "execution_count": 23,
   "metadata": {},
   "outputs": [
    {
     "data": {
      "text/plain": [
       "'unsw-kdd-v1.html'"
      ]
     },
     "execution_count": 23,
     "metadata": {},
     "output_type": "execute_result"
    }
   ],
   "source": [
    "data = [\n",
    "    go.Parcoords(\n",
    "        line = dict(color = subset_edges_plot_df['attack_color'],\n",
    "                   colorscale = 'Jet',\n",
    "                   showscale = True),\n",
    "        dimensions = list([\n",
    "            dict(range = [subset_edges_plot_df['ts'].min(),subset_edges_plot_df['ts'].max()],\n",
    "                label = 'Time', values = subset_edges_plot_df['ts']),\n",
    "            dict(range = [subset_edges_plot_df['orig_ip'].min(),subset_edges_plot_df['orig_ip'].max()],\n",
    "                label = 'Orig IP', values = subset_edges_plot_df['orig_ip']),\n",
    "            dict(range = [subset_edges_plot_df['orig_port'].min(),subset_edges_plot_df['orig_port'].max()],\n",
    "                label = 'Orig Port', values = subset_edges_plot_df['orig_port']),\n",
    "            dict(range = [subset_edges_plot_df['resp_port'].min(),subset_edges_plot_df['resp_port'].max()],\n",
    "                label = 'Resp Port', values = subset_edges_plot_df['resp_port']),\n",
    "            dict(range = [subset_edges_plot_df['resp_ip'].min(),subset_edges_plot_df['resp_ip'].max()],\n",
    "                label = 'Resp IP', values = subset_edges_plot_df['resp_ip'])\n",
    "        ])\n",
    "    )\n",
    "]\n",
    "\n",
    "# plotly.offline.iplot(data, filename = 'unsw-1')\n",
    "# plotly.offline.iplot(data)\n",
    "# py.iplot(data, filename = 'unsw-1')\n",
    "plot(data, filename = 'unsw-kdd-v1.html')"
   ]
  },
  {
   "cell_type": "markdown",
   "metadata": {},
   "source": [
    "## Additional Questions / Exploration"
   ]
  },
  {
   "cell_type": "markdown",
   "metadata": {},
   "source": [
    "**[TODO]**\n",
    "- Add guided, self-paced questions for workshop\n",
    "- Example questions/topics include:\n",
    "  - Adding another data source in addition to `conn` log type\n",
    "  - Adding addtional graph analytics\n",
    "  - Other viz/plot investigations\n",
    "  - Clustering and/or UMAP"
   ]
  },
  {
   "cell_type": "code",
   "execution_count": null,
   "metadata": {},
   "outputs": [],
   "source": []
  }
 ],
 "metadata": {
  "kernelspec": {
   "display_name": "PySpark-2.3-CDH",
   "language": "python",
   "name": "pyspark2-cdh"
  },
  "language_info": {
   "codemirror_mode": {
    "name": "ipython",
    "version": 3
   },
   "file_extension": ".py",
   "mimetype": "text/x-python",
   "name": "python",
   "nbconvert_exporter": "python",
   "pygments_lexer": "ipython3",
   "version": "3.7.3"
  }
 },
 "nbformat": 4,
 "nbformat_minor": 2
}
