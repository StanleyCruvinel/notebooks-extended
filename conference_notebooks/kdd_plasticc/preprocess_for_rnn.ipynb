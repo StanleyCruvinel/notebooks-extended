{
 "cells": [
  {
   "cell_type": "code",
   "execution_count": 1,
   "metadata": {},
   "outputs": [],
   "source": [
    "import os\n",
    "GPU_id = 2\n",
    "os.environ['CUDA_VISIBLE_DEVICES'] = str(GPU_id)"
   ]
  },
  {
   "cell_type": "code",
   "execution_count": 2,
   "metadata": {},
   "outputs": [
    {
     "name": "stdout",
     "output_type": "stream",
     "text": [
      "0.8.0+0.g8fa7bd3.dirty\n"
     ]
    }
   ],
   "source": [
    "import warnings\n",
    "warnings.filterwarnings(\"ignore\")\n",
    "import math\n",
    "import cudf as gd\n",
    "import pandas as pd\n",
    "import numpy as np\n",
    "from numba import cuda\n",
    "import time\n",
    "import matplotlib.pyplot as plt\n",
    "%matplotlib inline\n",
    "\n",
    "print(gd.__version__)"
   ]
  },
  {
   "cell_type": "code",
   "execution_count": 3,
   "metadata": {},
   "outputs": [],
   "source": [
    "PATH = '../input'"
   ]
  },
  {
   "cell_type": "code",
   "execution_count": 4,
   "metadata": {},
   "outputs": [],
   "source": [
    "GPU_MEMORY = 32 # GB. \n",
    "#GPU_MEMORY = 16 # GB. Both 32 and 16 GB have been tested\n",
    "\n",
    "TEST_ROWS = 453653104 # number of rows in test data\n",
    "# no skip if your gpu has 32 GB memory\n",
    "# otherwise, skip rows porportionally\n",
    "OVERHEAD = 1.4 # to run end-to-end on a single GPU \n",
    "SKIP_ROWS = int((1 - GPU_MEMORY/(32.0*OVERHEAD))*TEST_ROWS) "
   ]
  },
  {
   "cell_type": "markdown",
   "metadata": {},
   "source": [
    "## Functions"
   ]
  },
  {
   "cell_type": "code",
   "execution_count": 5,
   "metadata": {},
   "outputs": [],
   "source": [
    "def delta_in_group(val,val_delta, default):\n",
    "    for i in range(cuda.threadIdx.x, len(val), cuda.blockDim.x):\n",
    "        if i>0:\n",
    "            val_delta[i] = val[i]-val[i-1]\n",
    "        else:\n",
    "            val_delta[i] = default\n",
    "\n",
    "def compute_delta(df):\n",
    "    for col,d in zip(['flux','mjd'],[0,180]):\n",
    "        df = rename_col(df,col,'val')\n",
    "        df = df.groupby('object_id',method=\"cudf\",as_index=False).apply_grouped(delta_in_group,incols=['val'],\n",
    "                                  outcols={'val_delta': np.float32},\n",
    "                                  kwargs={'default':d},\n",
    "                                  tpb=32)\n",
    "        df = rename_col(df,'val',col)\n",
    "        df = rename_col(df,'val_delta','%s_delta'%col)\n",
    "        if col=='flux':\n",
    "            df.drop_column(col)\n",
    "    return df\n",
    "\n",
    "def clip_and_log_transform(df):\n",
    "    df['flux'] = df['flux'].applymap(lambda x: math.log1p(x+10) if x>-10 else 0)\n",
    "    df['flux_err'] = df['flux_err'].applymap(lambda x: math.log1p(x))\n",
    "    return df"
   ]
  },
  {
   "cell_type": "code",
   "execution_count": 6,
   "metadata": {},
   "outputs": [],
   "source": [
    "def rename_col(df,old_col,new_col):\n",
    "    cols = [new_col if i==old_col else i for i in df.columns]\n",
    "    df.columns = cols\n",
    "    return df"
   ]
  },
  {
   "cell_type": "code",
   "execution_count": 7,
   "metadata": {},
   "outputs": [],
   "source": [
    "def segment(df):\n",
    "    df['is_boundary'] = df['mjd_delta']>90\n",
    "    df['is_boundary'] = df['is_boundary'].astype('int32')\n",
    "    df = df.sort_values(['object_id','mjd'])\n",
    "    df.drop_column('mjd')\n",
    "    df['seq_id'] = df['is_boundary'].cumsum()\n",
    "    return df"
   ]
  },
  {
   "cell_type": "code",
   "execution_count": 8,
   "metadata": {},
   "outputs": [],
   "source": [
    "def reset_boundary(df):\n",
    "    df['flux_delta'] = df['flux_delta']*(1-df['is_boundary'])\n",
    "    #df['mjd_delta'] = df['mjd_delta']*(1-df['is_boundary'])\n",
    "    df.drop_column('is_boundary')\n",
    "    return df"
   ]
  },
  {
   "cell_type": "code",
   "execution_count": 9,
   "metadata": {},
   "outputs": [],
   "source": [
    "def get_order_in_group(row_id,step):\n",
    "    for i in range(cuda.threadIdx.x, len(row_id), cuda.blockDim.x):\n",
    "        step[i] = i\n",
    "\n",
    "def add_step(df):\n",
    "    df['row_id'] = np.arange(df.shape[0])\n",
    "    df = df.groupby('object_id',method=\"cudf\").apply_grouped(get_order_in_group,incols=['row_id'],\n",
    "                                  outcols={'step': np.int32},\n",
    "                                  tpb=32)\n",
    "    df = df.sort_values('row_id')\n",
    "    return df"
   ]
  },
  {
   "cell_type": "markdown",
   "metadata": {},
   "source": [
    "### Read data"
   ]
  },
  {
   "cell_type": "code",
   "execution_count": 10,
   "metadata": {},
   "outputs": [
    {
     "name": "stdout",
     "output_type": "stream",
     "text": [
      "CPU times: user 17.9 s, sys: 5.92 s, total: 23.8 s\n",
      "Wall time: 23.8 s\n"
     ]
    }
   ],
   "source": [
    "%%time\n",
    "\n",
    "ts_cols = ['object_id', 'mjd', 'passband', 'flux', 'flux_err', 'detected']\n",
    "ts_dtypes = ['int32', 'float32', 'int8', 'float32','float32','int32']\n",
    "\n",
    "train_gd = gd.read_csv('%s/training_set.csv'%PATH,\n",
    "            names=ts_cols,dtype=ts_dtypes,skiprows=1)\n",
    "test_gd = gd.read_csv('%s/test_set.csv'%PATH,\n",
    "            names=ts_cols,dtype=ts_dtypes,skiprows=1+SKIP_ROWS) # skip the header"
   ]
  },
  {
   "cell_type": "code",
   "execution_count": 11,
   "metadata": {},
   "outputs": [],
   "source": [
    "train_gd.drop_column('detected')\n",
    "test_gd.drop_column('detected')"
   ]
  },
  {
   "cell_type": "code",
   "execution_count": 12,
   "metadata": {},
   "outputs": [
    {
     "data": {
      "text/html": [
       "<div>\n",
       "<style scoped>\n",
       "    .dataframe tbody tr th:only-of-type {\n",
       "        vertical-align: middle;\n",
       "    }\n",
       "\n",
       "    .dataframe tbody tr th {\n",
       "        vertical-align: top;\n",
       "    }\n",
       "\n",
       "    .dataframe thead th {\n",
       "        text-align: right;\n",
       "    }\n",
       "</style>\n",
       "<table border=\"1\" class=\"dataframe\">\n",
       "  <thead>\n",
       "    <tr style=\"text-align: right;\">\n",
       "      <th></th>\n",
       "      <th>object_id</th>\n",
       "      <th>mjd</th>\n",
       "      <th>passband</th>\n",
       "      <th>flux</th>\n",
       "      <th>flux_err</th>\n",
       "    </tr>\n",
       "  </thead>\n",
       "  <tbody>\n",
       "    <tr>\n",
       "      <th>0</th>\n",
       "      <td>615</td>\n",
       "      <td>59750.421875</td>\n",
       "      <td>2</td>\n",
       "      <td>-544.810303</td>\n",
       "      <td>3.622952</td>\n",
       "    </tr>\n",
       "    <tr>\n",
       "      <th>1</th>\n",
       "      <td>615</td>\n",
       "      <td>59750.429688</td>\n",
       "      <td>1</td>\n",
       "      <td>-816.434387</td>\n",
       "      <td>5.553370</td>\n",
       "    </tr>\n",
       "    <tr>\n",
       "      <th>2</th>\n",
       "      <td>615</td>\n",
       "      <td>59750.437500</td>\n",
       "      <td>3</td>\n",
       "      <td>-471.385498</td>\n",
       "      <td>3.801213</td>\n",
       "    </tr>\n",
       "    <tr>\n",
       "      <th>3</th>\n",
       "      <td>615</td>\n",
       "      <td>59750.441406</td>\n",
       "      <td>4</td>\n",
       "      <td>-388.984955</td>\n",
       "      <td>11.395031</td>\n",
       "    </tr>\n",
       "    <tr>\n",
       "      <th>4</th>\n",
       "      <td>615</td>\n",
       "      <td>59752.406250</td>\n",
       "      <td>2</td>\n",
       "      <td>-681.858826</td>\n",
       "      <td>4.041203</td>\n",
       "    </tr>\n",
       "  </tbody>\n",
       "</table>\n",
       "</div>"
      ],
      "text/plain": [
       "   object_id           mjd  passband        flux   flux_err\n",
       "0        615  59750.421875         2 -544.810303   3.622952\n",
       "1        615  59750.429688         1 -816.434387   5.553370\n",
       "2        615  59750.437500         3 -471.385498   3.801213\n",
       "3        615  59750.441406         4 -388.984955  11.395031\n",
       "4        615  59752.406250         2 -681.858826   4.041203"
      ]
     },
     "execution_count": 12,
     "metadata": {},
     "output_type": "execute_result"
    }
   ],
   "source": [
    "train_gd.head().to_pandas()"
   ]
  },
  {
   "cell_type": "markdown",
   "metadata": {},
   "source": [
    "### Description of columns\n",
    "- object_id: Foreign key with the metadata. Int32\n",
    "- mjd: the time in Modified Julian Date (MJD) of the observation. \n",
    "- passband: The specific LSST passband integer, such that u, g, r, i, z, Y = 0, 1, 2, 3, 4, 5 in which it was viewed. \n",
    "- flux: the measured flux (brightness) in the passband of observation as listed in the passband column. \n",
    "- flux_err: the uncertainty on the measurement of the flux listed above. Float32\n",
    "- detected: If 1, the object's brightness is significantly different"
   ]
  },
  {
   "cell_type": "markdown",
   "metadata": {},
   "source": [
    "### Normalization"
   ]
  },
  {
   "cell_type": "code",
   "execution_count": 13,
   "metadata": {},
   "outputs": [
    {
     "name": "stdout",
     "output_type": "stream",
     "text": [
      "CPU times: user 376 ms, sys: 36 ms, total: 412 ms\n",
      "Wall time: 419 ms\n"
     ]
    }
   ],
   "source": [
    "%%time\n",
    "train_gd = clip_and_log_transform(train_gd)\n",
    "test_gd = clip_and_log_transform(test_gd)"
   ]
  },
  {
   "cell_type": "markdown",
   "metadata": {},
   "source": [
    "### Differentiation and segmentation"
   ]
  },
  {
   "cell_type": "code",
   "execution_count": 14,
   "metadata": {},
   "outputs": [
    {
     "name": "stdout",
     "output_type": "stream",
     "text": [
      "CPU times: user 944 ms, sys: 520 ms, total: 1.46 s\n",
      "Wall time: 2.46 s\n"
     ]
    }
   ],
   "source": [
    "%%time\n",
    "train_gd = train_gd.sort_values(['object_id','mjd'])\n",
    "test_gd = test_gd.sort_values(['object_id','mjd'])"
   ]
  },
  {
   "cell_type": "code",
   "execution_count": 15,
   "metadata": {},
   "outputs": [
    {
     "name": "stdout",
     "output_type": "stream",
     "text": [
      "CPU times: user 17.2 s, sys: 8.06 s, total: 25.3 s\n",
      "Wall time: 7.96 s\n"
     ]
    }
   ],
   "source": [
    "%%time\n",
    "train_gd = compute_delta(train_gd)\n",
    "test_gd = compute_delta(test_gd)"
   ]
  },
  {
   "cell_type": "code",
   "execution_count": 16,
   "metadata": {},
   "outputs": [
    {
     "name": "stdout",
     "output_type": "stream",
     "text": [
      "CPU times: user 1.02 s, sys: 716 ms, total: 1.74 s\n",
      "Wall time: 3.38 s\n"
     ]
    }
   ],
   "source": [
    "%%time\n",
    "train_gd = segment(train_gd)\n",
    "test_gd = segment(test_gd)"
   ]
  },
  {
   "cell_type": "markdown",
   "metadata": {},
   "source": [
    "### Reset the values of `flux_delta` and `mjd_delta` at the boundary of subsequence"
   ]
  },
  {
   "cell_type": "code",
   "execution_count": 17,
   "metadata": {},
   "outputs": [
    {
     "name": "stdout",
     "output_type": "stream",
     "text": [
      "CPU times: user 12 ms, sys: 20 ms, total: 32 ms\n",
      "Wall time: 32.2 ms\n"
     ]
    }
   ],
   "source": [
    "%%time\n",
    "train_gd = reset_boundary(train_gd)\n",
    "test_gd = reset_boundary(test_gd)"
   ]
  },
  {
   "cell_type": "markdown",
   "metadata": {},
   "source": [
    "### Lastly, we scale `mjd_delta_clean`"
   ]
  },
  {
   "cell_type": "code",
   "execution_count": 18,
   "metadata": {},
   "outputs": [],
   "source": [
    "train_gd['mjd_delta'] /= 90 # scale mjd_delta\n",
    "test_gd['mjd_delta'] /= 90"
   ]
  },
  {
   "cell_type": "code",
   "execution_count": 19,
   "metadata": {},
   "outputs": [
    {
     "name": "stdout",
     "output_type": "stream",
     "text": [
      "object_id 615 130779836\n",
      "passband 0 5\n",
      "flux_err 0.3810037076473236 14.619336128234863\n",
      "flux_delta -14.704561233520508 14.704561233520508\n",
      "mjd_delta 0.0 3.4457030296325684\n",
      "seq_id 1 26220\n"
     ]
    }
   ],
   "source": [
    "for col in train_gd.columns:\n",
    "    print(col,train_gd[col].min(),train_gd[col].max())"
   ]
  },
  {
   "cell_type": "code",
   "execution_count": 20,
   "metadata": {},
   "outputs": [
    {
     "name": "stdout",
     "output_type": "stream",
     "text": [
      "CPU times: user 56.8 s, sys: 28.4 s, total: 1min 25s\n",
      "Wall time: 10.7 s\n"
     ]
    }
   ],
   "source": [
    "%%time\n",
    "train_pd = train_gd.to_pandas()\n",
    "test_pd = test_gd.to_pandas()"
   ]
  },
  {
   "cell_type": "markdown",
   "metadata": {},
   "source": [
    "### Create step number for each light curve"
   ]
  },
  {
   "cell_type": "markdown",
   "metadata": {},
   "source": [
    "To reduce memory consumption, we delete other columns"
   ]
  },
  {
   "cell_type": "code",
   "execution_count": 21,
   "metadata": {},
   "outputs": [],
   "source": [
    "cols = [col for col in train_gd.columns]\n",
    "for col in cols:\n",
    "    if col!='object_id':\n",
    "        train_gd.drop_column(col)\n",
    "        test_gd.drop_column(col)"
   ]
  },
  {
   "cell_type": "code",
   "execution_count": 22,
   "metadata": {},
   "outputs": [
    {
     "name": "stdout",
     "output_type": "stream",
     "text": [
      "CPU times: user 18.3 s, sys: 11.3 s, total: 29.6 s\n",
      "Wall time: 7.98 s\n"
     ]
    }
   ],
   "source": [
    "%%time\n",
    "train_gd = add_step(train_gd)\n",
    "test_gd = add_step(test_gd)"
   ]
  },
  {
   "cell_type": "code",
   "execution_count": 23,
   "metadata": {},
   "outputs": [
    {
     "name": "stdout",
     "output_type": "stream",
     "text": [
      "CPU times: user 10.9 s, sys: 5.12 s, total: 16 s\n",
      "Wall time: 2.78 s\n"
     ]
    }
   ],
   "source": [
    "%%time\n",
    "train_pd['step'] = train_gd['step'].to_pandas().values\n",
    "test_pd['step'] = test_gd['step'].to_pandas().values"
   ]
  },
  {
   "cell_type": "code",
   "execution_count": 24,
   "metadata": {},
   "outputs": [
    {
     "data": {
      "text/html": [
       "<div>\n",
       "<style scoped>\n",
       "    .dataframe tbody tr th:only-of-type {\n",
       "        vertical-align: middle;\n",
       "    }\n",
       "\n",
       "    .dataframe tbody tr th {\n",
       "        vertical-align: top;\n",
       "    }\n",
       "\n",
       "    .dataframe thead th {\n",
       "        text-align: right;\n",
       "    }\n",
       "</style>\n",
       "<table border=\"1\" class=\"dataframe\">\n",
       "  <thead>\n",
       "    <tr style=\"text-align: right;\">\n",
       "      <th></th>\n",
       "      <th>object_id</th>\n",
       "      <th>passband</th>\n",
       "      <th>flux_err</th>\n",
       "      <th>flux_delta</th>\n",
       "      <th>mjd_delta</th>\n",
       "      <th>seq_id</th>\n",
       "      <th>step</th>\n",
       "    </tr>\n",
       "  </thead>\n",
       "  <tbody>\n",
       "    <tr>\n",
       "      <th>0</th>\n",
       "      <td>615</td>\n",
       "      <td>2</td>\n",
       "      <td>1.531034</td>\n",
       "      <td>0.0</td>\n",
       "      <td>2.000000</td>\n",
       "      <td>1</td>\n",
       "      <td>0</td>\n",
       "    </tr>\n",
       "    <tr>\n",
       "      <th>1</th>\n",
       "      <td>615</td>\n",
       "      <td>1</td>\n",
       "      <td>1.879979</td>\n",
       "      <td>0.0</td>\n",
       "      <td>0.000087</td>\n",
       "      <td>1</td>\n",
       "      <td>1</td>\n",
       "    </tr>\n",
       "    <tr>\n",
       "      <th>2</th>\n",
       "      <td>615</td>\n",
       "      <td>3</td>\n",
       "      <td>1.568869</td>\n",
       "      <td>0.0</td>\n",
       "      <td>0.000087</td>\n",
       "      <td>1</td>\n",
       "      <td>2</td>\n",
       "    </tr>\n",
       "    <tr>\n",
       "      <th>3</th>\n",
       "      <td>615</td>\n",
       "      <td>4</td>\n",
       "      <td>2.517296</td>\n",
       "      <td>0.0</td>\n",
       "      <td>0.000043</td>\n",
       "      <td>1</td>\n",
       "      <td>3</td>\n",
       "    </tr>\n",
       "    <tr>\n",
       "      <th>4</th>\n",
       "      <td>615</td>\n",
       "      <td>2</td>\n",
       "      <td>1.617645</td>\n",
       "      <td>0.0</td>\n",
       "      <td>0.021832</td>\n",
       "      <td>1</td>\n",
       "      <td>4</td>\n",
       "    </tr>\n",
       "  </tbody>\n",
       "</table>\n",
       "</div>"
      ],
      "text/plain": [
       "   object_id  passband  flux_err  flux_delta  mjd_delta  seq_id  step\n",
       "0        615         2  1.531034         0.0   2.000000       1     0\n",
       "1        615         1  1.879979         0.0   0.000087       1     1\n",
       "2        615         3  1.568869         0.0   0.000087       1     2\n",
       "3        615         4  2.517296         0.0   0.000043       1     3\n",
       "4        615         2  1.617645         0.0   0.021832       1     4"
      ]
     },
     "execution_count": 24,
     "metadata": {},
     "output_type": "execute_result"
    }
   ],
   "source": [
    "train_pd.head()"
   ]
  },
  {
   "cell_type": "code",
   "execution_count": 25,
   "metadata": {},
   "outputs": [
    {
     "name": "stdout",
     "output_type": "stream",
     "text": [
      "CPU times: user 10 s, sys: 30.4 s, total: 40.5 s\n",
      "Wall time: 41 s\n"
     ]
    }
   ],
   "source": [
    "%%time\n",
    "train_pd.to_pickle('train_rnn.pkl')\n",
    "test_pd.to_pickle('test_rnn.pkl')"
   ]
  },
  {
   "cell_type": "markdown",
   "metadata": {},
   "source": [
    "### Conclusion"
   ]
  },
  {
   "cell_type": "markdown",
   "metadata": {},
   "source": [
    "In this notebook we process the light curve data in order to train a RNN. \n",
    "- `object_id`, `seq_id` and `step` can be used to sample sequences from the dataframe.\n",
    "- `mjd_delta` and `flux_delta` enable RNN to learn the temporal pattern of light curves.\n",
    "- `passband` is an original feature and will be embedded."
   ]
  }
 ],
 "metadata": {
  "kernelspec": {
   "display_name": "Python 3",
   "language": "python",
   "name": "python3"
  },
  "language_info": {
   "codemirror_mode": {
    "name": "ipython",
    "version": 3
   },
   "file_extension": ".py",
   "mimetype": "text/x-python",
   "name": "python",
   "nbconvert_exporter": "python",
   "pygments_lexer": "ipython3",
   "version": "3.6.7"
  }
 },
 "nbformat": 4,
 "nbformat_minor": 2
}
