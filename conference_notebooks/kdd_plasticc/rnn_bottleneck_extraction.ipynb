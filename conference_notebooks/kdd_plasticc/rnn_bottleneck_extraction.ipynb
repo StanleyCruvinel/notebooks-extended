{
 "cells": [
  {
   "cell_type": "code",
   "execution_count": 1,
   "metadata": {},
   "outputs": [],
   "source": [
    "import os\n",
    "GPU_id = 0\n",
    "os.environ['CUDA_VISIBLE_DEVICES'] = str(GPU_id)"
   ]
  },
  {
   "cell_type": "code",
   "execution_count": 2,
   "metadata": {},
   "outputs": [
    {
     "name": "stdout",
     "output_type": "stream",
     "text": [
      "1.11.0-dev20180910\n"
     ]
    }
   ],
   "source": [
    "import warnings\n",
    "warnings.filterwarnings(\"ignore\")\n",
    "import math\n",
    "import pandas as pd\n",
    "import numpy as np\n",
    "import time\n",
    "import tensorflow as tf\n",
    "from rnn import PlasticcRNN\n",
    "import matplotlib.pyplot as plt\n",
    "%matplotlib inline\n",
    "\n",
    "print(tf.__version__)"
   ]
  },
  {
   "cell_type": "code",
   "execution_count": 3,
   "metadata": {},
   "outputs": [],
   "source": [
    "params = {\n",
    "        'load_path':'weight/rnn.npy',\n",
    "        'hidden':64,\n",
    "        'bottleneck':True,\n",
    "        'classes':14,\n",
    "        'num_features':4,\n",
    "        'embedding_size':4,\n",
    "        'stratified':True,\n",
    "        'objective':'multiclassification',\n",
    "        'metric':'cross_entropy',\n",
    "        'save_path':'weights',      \n",
    "        'epochs':100,\n",
    "        'early_stopping_epochs':10,\n",
    "        'learning_rate':0.01,\n",
    "        'batch_size':2048,\n",
    "        'verbosity':10,\n",
    "        #'folds':4\n",
    "    }"
   ]
  },
  {
   "cell_type": "code",
   "execution_count": 4,
   "metadata": {},
   "outputs": [],
   "source": [
    "model = PlasticcRNN(**params)"
   ]
  },
  {
   "cell_type": "code",
   "execution_count": 5,
   "metadata": {},
   "outputs": [
    {
     "name": "stdout",
     "output_type": "stream",
     "text": [
      "CPU times: user 2.9 s, sys: 13.6 s, total: 16.5 s\n",
      "Wall time: 16.5 s\n"
     ]
    }
   ],
   "source": [
    "%%time\n",
    "train = pd.read_pickle('train_rnn.pkl')\n",
    "test = pd.read_pickle('test_rnn.pkl')"
   ]
  },
  {
   "cell_type": "code",
   "execution_count": 6,
   "metadata": {},
   "outputs": [
    {
     "name": "stdout",
     "output_type": "stream",
     "text": [
      "restore RNN/rnn3/bidirectional_rnn/fw/gru_cell/gates/kernel:0\n",
      "restore RNN/rnn3/bidirectional_rnn/fw/gru_cell/gates/bias:0\n",
      "restore RNN/rnn3/bidirectional_rnn/fw/gru_cell/candidate/kernel:0\n",
      "restore RNN/rnn3/bidirectional_rnn/fw/gru_cell/candidate/bias:0\n",
      "restore RNN/rnn3/bidirectional_rnn/bw/gru_cell/gates/kernel:0\n",
      "restore RNN/rnn3/bidirectional_rnn/bw/gru_cell/gates/bias:0\n",
      "restore RNN/rnn3/bidirectional_rnn/bw/gru_cell/candidate/kernel:0\n",
      "restore RNN/rnn3/bidirectional_rnn/bw/gru_cell/candidate/bias:0\n",
      "restore RNN/rnn5/bidirectional_rnn/fw/output_projection_wrapper/gru_cell/gates/kernel:0\n",
      "restore RNN/rnn5/bidirectional_rnn/fw/output_projection_wrapper/gru_cell/gates/bias:0\n",
      "restore RNN/rnn5/bidirectional_rnn/fw/output_projection_wrapper/gru_cell/candidate/kernel:0\n",
      "restore RNN/rnn5/bidirectional_rnn/fw/output_projection_wrapper/gru_cell/candidate/bias:0\n",
      "restore RNN/rnn5/bidirectional_rnn/fw/output_projection_wrapper/kernel:0\n",
      "restore RNN/rnn5/bidirectional_rnn/fw/output_projection_wrapper/bias:0\n",
      "restore RNN/rnn5/bidirectional_rnn/bw/output_projection_wrapper/gru_cell/gates/kernel:0\n",
      "restore RNN/rnn5/bidirectional_rnn/bw/output_projection_wrapper/gru_cell/gates/bias:0\n",
      "restore RNN/rnn5/bidirectional_rnn/bw/output_projection_wrapper/gru_cell/candidate/kernel:0\n",
      "restore RNN/rnn5/bidirectional_rnn/bw/output_projection_wrapper/gru_cell/candidate/bias:0\n",
      "restore RNN/rnn5/bidirectional_rnn/bw/output_projection_wrapper/kernel:0\n",
      "restore RNN/rnn5/bidirectional_rnn/bw/output_projection_wrapper/bias:0\n",
      "restore RNN/rnn4/bidirectional_rnn/fw/gru_cell/gates/kernel:0\n",
      "restore RNN/rnn4/bidirectional_rnn/fw/gru_cell/gates/bias:0\n",
      "restore RNN/rnn4/bidirectional_rnn/fw/gru_cell/candidate/kernel:0\n",
      "restore RNN/rnn4/bidirectional_rnn/fw/gru_cell/candidate/bias:0\n",
      "restore RNN/rnn4/bidirectional_rnn/bw/gru_cell/gates/kernel:0\n"
     ]
    },
    {
     "name": "stderr",
     "output_type": "stream",
     "text": [
      "\r",
      "  0%|          | 0/3 [00:00<?, ?it/s]"
     ]
    },
    {
     "name": "stdout",
     "output_type": "stream",
     "text": [
      "restore RNN/rnn4/bidirectional_rnn/bw/gru_cell/gates/bias:0\n",
      "restore RNN/rnn4/bidirectional_rnn/bw/gru_cell/candidate/kernel:0\n",
      "restore RNN/rnn4/bidirectional_rnn/bw/gru_cell/candidate/bias:0\n"
     ]
    },
    {
     "name": "stderr",
     "output_type": "stream",
     "text": [
      "4it [00:03,  1.20it/s]                       "
     ]
    },
    {
     "name": "stdout",
     "output_type": "stream",
     "text": [
      "CPU times: user 1min 28s, sys: 8.07 s, total: 1min 36s\n",
      "Wall time: 11.5 s\n"
     ]
    },
    {
     "name": "stderr",
     "output_type": "stream",
     "text": [
      "\n"
     ]
    }
   ],
   "source": [
    "%%time\n",
    "train_bn = model.predict_bottleneck(train)"
   ]
  },
  {
   "cell_type": "code",
   "execution_count": 7,
   "metadata": {},
   "outputs": [
    {
     "name": "stdout",
     "output_type": "stream",
     "text": [
      "restore RNN/rnn3/bidirectional_rnn/fw/gru_cell/gates/kernel:0\n",
      "restore RNN/rnn3/bidirectional_rnn/fw/gru_cell/gates/bias:0\n",
      "restore RNN/rnn3/bidirectional_rnn/fw/gru_cell/candidate/kernel:0\n",
      "restore RNN/rnn3/bidirectional_rnn/fw/gru_cell/candidate/bias:0\n",
      "restore RNN/rnn3/bidirectional_rnn/bw/gru_cell/gates/kernel:0\n",
      "restore RNN/rnn3/bidirectional_rnn/bw/gru_cell/gates/bias:0\n",
      "restore RNN/rnn3/bidirectional_rnn/bw/gru_cell/candidate/kernel:0\n",
      "restore RNN/rnn3/bidirectional_rnn/bw/gru_cell/candidate/bias:0\n",
      "restore RNN/rnn5/bidirectional_rnn/fw/output_projection_wrapper/gru_cell/gates/kernel:0\n",
      "restore RNN/rnn5/bidirectional_rnn/fw/output_projection_wrapper/gru_cell/gates/bias:0\n",
      "restore RNN/rnn5/bidirectional_rnn/fw/output_projection_wrapper/gru_cell/candidate/kernel:0\n",
      "restore RNN/rnn5/bidirectional_rnn/fw/output_projection_wrapper/gru_cell/candidate/bias:0\n",
      "restore RNN/rnn5/bidirectional_rnn/fw/output_projection_wrapper/kernel:0\n",
      "restore RNN/rnn5/bidirectional_rnn/fw/output_projection_wrapper/bias:0\n",
      "restore RNN/rnn5/bidirectional_rnn/bw/output_projection_wrapper/gru_cell/gates/kernel:0\n",
      "restore RNN/rnn5/bidirectional_rnn/bw/output_projection_wrapper/gru_cell/gates/bias:0\n",
      "restore RNN/rnn5/bidirectional_rnn/bw/output_projection_wrapper/gru_cell/candidate/kernel:0\n",
      "restore RNN/rnn5/bidirectional_rnn/bw/output_projection_wrapper/gru_cell/candidate/bias:0\n",
      "restore RNN/rnn5/bidirectional_rnn/bw/output_projection_wrapper/kernel:0\n",
      "restore RNN/rnn5/bidirectional_rnn/bw/output_projection_wrapper/bias:0\n",
      "restore RNN/rnn4/bidirectional_rnn/fw/gru_cell/gates/kernel:0\n",
      "restore RNN/rnn4/bidirectional_rnn/fw/gru_cell/gates/bias:0\n",
      "restore RNN/rnn4/bidirectional_rnn/fw/gru_cell/candidate/kernel:0\n",
      "restore RNN/rnn4/bidirectional_rnn/fw/gru_cell/candidate/bias:0\n",
      "restore RNN/rnn4/bidirectional_rnn/bw/gru_cell/gates/kernel:0\n",
      "restore RNN/rnn4/bidirectional_rnn/bw/gru_cell/gates/bias:0\n",
      "restore RNN/rnn4/bidirectional_rnn/bw/gru_cell/candidate/kernel:0\n",
      "restore RNN/rnn4/bidirectional_rnn/bw/gru_cell/candidate/bias:0\n"
     ]
    },
    {
     "name": "stderr",
     "output_type": "stream",
     "text": [
      "1237it [10:09,  2.03it/s]                          "
     ]
    },
    {
     "name": "stdout",
     "output_type": "stream",
     "text": [
      "CPU times: user 4h 37min 31s, sys: 19min 42s, total: 4h 57min 14s\n",
      "Wall time: 10min 14s\n"
     ]
    },
    {
     "name": "stderr",
     "output_type": "stream",
     "text": [
      "\n"
     ]
    }
   ],
   "source": [
    "%%time\n",
    "test_bn = model.predict_bottleneck(test)"
   ]
  },
  {
   "cell_type": "code",
   "execution_count": 8,
   "metadata": {},
   "outputs": [
    {
     "name": "stdout",
     "output_type": "stream",
     "text": [
      "(7848, 16) (7848,)\n",
      "(2531953, 16) (2531953,)\n"
     ]
    }
   ],
   "source": [
    "print(train_bn.shape,train.object_id.unique().shape)\n",
    "print(test_bn.shape,test.object_id.unique().shape)"
   ]
  },
  {
   "cell_type": "code",
   "execution_count": 9,
   "metadata": {},
   "outputs": [
    {
     "name": "stdout",
     "output_type": "stream",
     "text": [
      "CPU times: user 540 ms, sys: 32 ms, total: 572 ms\n",
      "Wall time: 14.3 ms\n"
     ]
    }
   ],
   "source": [
    "%%time\n",
    "train_bn = pd.DataFrame(train_bn,columns=['bottleneck%d'%i for i in range(train_bn.shape[1])])\n",
    "train_bn['object_id'] = train.object_id.unique()"
   ]
  },
  {
   "cell_type": "code",
   "execution_count": 10,
   "metadata": {},
   "outputs": [
    {
     "data": {
      "text/html": [
       "<div>\n",
       "<style scoped>\n",
       "    .dataframe tbody tr th:only-of-type {\n",
       "        vertical-align: middle;\n",
       "    }\n",
       "\n",
       "    .dataframe tbody tr th {\n",
       "        vertical-align: top;\n",
       "    }\n",
       "\n",
       "    .dataframe thead th {\n",
       "        text-align: right;\n",
       "    }\n",
       "</style>\n",
       "<table border=\"1\" class=\"dataframe\">\n",
       "  <thead>\n",
       "    <tr style=\"text-align: right;\">\n",
       "      <th></th>\n",
       "      <th>bottleneck0</th>\n",
       "      <th>bottleneck1</th>\n",
       "      <th>bottleneck2</th>\n",
       "      <th>bottleneck3</th>\n",
       "      <th>bottleneck4</th>\n",
       "      <th>bottleneck5</th>\n",
       "      <th>bottleneck6</th>\n",
       "      <th>bottleneck7</th>\n",
       "      <th>bottleneck8</th>\n",
       "      <th>bottleneck9</th>\n",
       "      <th>bottleneck10</th>\n",
       "      <th>bottleneck11</th>\n",
       "      <th>bottleneck12</th>\n",
       "      <th>bottleneck13</th>\n",
       "      <th>bottleneck14</th>\n",
       "      <th>bottleneck15</th>\n",
       "      <th>object_id</th>\n",
       "    </tr>\n",
       "  </thead>\n",
       "  <tbody>\n",
       "    <tr>\n",
       "      <th>0</th>\n",
       "      <td>39.732155</td>\n",
       "      <td>0.481644</td>\n",
       "      <td>9.545365</td>\n",
       "      <td>0.620393</td>\n",
       "      <td>0.356217</td>\n",
       "      <td>36.236855</td>\n",
       "      <td>0.001318</td>\n",
       "      <td>0.045979</td>\n",
       "      <td>0.075107</td>\n",
       "      <td>7.429890</td>\n",
       "      <td>0.131433</td>\n",
       "      <td>0.000731</td>\n",
       "      <td>0.459891</td>\n",
       "      <td>56.466618</td>\n",
       "      <td>0.147016</td>\n",
       "      <td>20.742085</td>\n",
       "      <td>615</td>\n",
       "    </tr>\n",
       "    <tr>\n",
       "      <th>1</th>\n",
       "      <td>2.141680</td>\n",
       "      <td>6.474416</td>\n",
       "      <td>8.759016</td>\n",
       "      <td>0.114259</td>\n",
       "      <td>2.240717</td>\n",
       "      <td>9.736773</td>\n",
       "      <td>7.122033</td>\n",
       "      <td>10.171884</td>\n",
       "      <td>3.942685</td>\n",
       "      <td>1.042941</td>\n",
       "      <td>1.473609</td>\n",
       "      <td>0.025092</td>\n",
       "      <td>6.322167</td>\n",
       "      <td>1.655637</td>\n",
       "      <td>3.261945</td>\n",
       "      <td>18.709692</td>\n",
       "      <td>713</td>\n",
       "    </tr>\n",
       "    <tr>\n",
       "      <th>2</th>\n",
       "      <td>1.139722</td>\n",
       "      <td>28.513433</td>\n",
       "      <td>0.475543</td>\n",
       "      <td>0.954773</td>\n",
       "      <td>9.411211</td>\n",
       "      <td>1.062097</td>\n",
       "      <td>18.426241</td>\n",
       "      <td>2.884041</td>\n",
       "      <td>2.424165</td>\n",
       "      <td>1.874315</td>\n",
       "      <td>0.666815</td>\n",
       "      <td>10.709194</td>\n",
       "      <td>5.510746</td>\n",
       "      <td>0.388815</td>\n",
       "      <td>8.288032</td>\n",
       "      <td>2.827859</td>\n",
       "      <td>730</td>\n",
       "    </tr>\n",
       "    <tr>\n",
       "      <th>3</th>\n",
       "      <td>13.054772</td>\n",
       "      <td>24.500605</td>\n",
       "      <td>3.417212</td>\n",
       "      <td>2.564083</td>\n",
       "      <td>0.949257</td>\n",
       "      <td>1.549924</td>\n",
       "      <td>21.927139</td>\n",
       "      <td>6.542566</td>\n",
       "      <td>6.207687</td>\n",
       "      <td>4.959152</td>\n",
       "      <td>2.384894</td>\n",
       "      <td>2.566334</td>\n",
       "      <td>9.735006</td>\n",
       "      <td>0.954084</td>\n",
       "      <td>17.784241</td>\n",
       "      <td>3.097169</td>\n",
       "      <td>745</td>\n",
       "    </tr>\n",
       "    <tr>\n",
       "      <th>4</th>\n",
       "      <td>2.804562</td>\n",
       "      <td>22.519880</td>\n",
       "      <td>5.931814</td>\n",
       "      <td>2.715422</td>\n",
       "      <td>2.990605</td>\n",
       "      <td>2.720283</td>\n",
       "      <td>20.145359</td>\n",
       "      <td>4.909352</td>\n",
       "      <td>5.238781</td>\n",
       "      <td>2.418497</td>\n",
       "      <td>0.306975</td>\n",
       "      <td>3.099151</td>\n",
       "      <td>7.483632</td>\n",
       "      <td>0.263369</td>\n",
       "      <td>8.544587</td>\n",
       "      <td>1.836023</td>\n",
       "      <td>1124</td>\n",
       "    </tr>\n",
       "  </tbody>\n",
       "</table>\n",
       "</div>"
      ],
      "text/plain": [
       "   bottleneck0  bottleneck1  bottleneck2  bottleneck3  bottleneck4  \\\n",
       "0    39.732155     0.481644     9.545365     0.620393     0.356217   \n",
       "1     2.141680     6.474416     8.759016     0.114259     2.240717   \n",
       "2     1.139722    28.513433     0.475543     0.954773     9.411211   \n",
       "3    13.054772    24.500605     3.417212     2.564083     0.949257   \n",
       "4     2.804562    22.519880     5.931814     2.715422     2.990605   \n",
       "\n",
       "   bottleneck5  bottleneck6  bottleneck7  bottleneck8  bottleneck9  \\\n",
       "0    36.236855     0.001318     0.045979     0.075107     7.429890   \n",
       "1     9.736773     7.122033    10.171884     3.942685     1.042941   \n",
       "2     1.062097    18.426241     2.884041     2.424165     1.874315   \n",
       "3     1.549924    21.927139     6.542566     6.207687     4.959152   \n",
       "4     2.720283    20.145359     4.909352     5.238781     2.418497   \n",
       "\n",
       "   bottleneck10  bottleneck11  bottleneck12  bottleneck13  bottleneck14  \\\n",
       "0      0.131433      0.000731      0.459891     56.466618      0.147016   \n",
       "1      1.473609      0.025092      6.322167      1.655637      3.261945   \n",
       "2      0.666815     10.709194      5.510746      0.388815      8.288032   \n",
       "3      2.384894      2.566334      9.735006      0.954084     17.784241   \n",
       "4      0.306975      3.099151      7.483632      0.263369      8.544587   \n",
       "\n",
       "   bottleneck15  object_id  \n",
       "0     20.742085        615  \n",
       "1     18.709692        713  \n",
       "2      2.827859        730  \n",
       "3      3.097169        745  \n",
       "4      1.836023       1124  "
      ]
     },
     "execution_count": 10,
     "metadata": {},
     "output_type": "execute_result"
    }
   ],
   "source": [
    "train_bn.head()"
   ]
  },
  {
   "cell_type": "code",
   "execution_count": 11,
   "metadata": {},
   "outputs": [],
   "source": [
    "test_bn = pd.DataFrame(test_bn,columns=['bottleneck%d'%i for i in range(test_bn.shape[1])])\n",
    "test_bn['object_id'] = test.object_id.unique()"
   ]
  },
  {
   "cell_type": "code",
   "execution_count": 12,
   "metadata": {},
   "outputs": [
    {
     "data": {
      "text/html": [
       "<div>\n",
       "<style scoped>\n",
       "    .dataframe tbody tr th:only-of-type {\n",
       "        vertical-align: middle;\n",
       "    }\n",
       "\n",
       "    .dataframe tbody tr th {\n",
       "        vertical-align: top;\n",
       "    }\n",
       "\n",
       "    .dataframe thead th {\n",
       "        text-align: right;\n",
       "    }\n",
       "</style>\n",
       "<table border=\"1\" class=\"dataframe\">\n",
       "  <thead>\n",
       "    <tr style=\"text-align: right;\">\n",
       "      <th></th>\n",
       "      <th>bottleneck0</th>\n",
       "      <th>bottleneck1</th>\n",
       "      <th>bottleneck2</th>\n",
       "      <th>bottleneck3</th>\n",
       "      <th>bottleneck4</th>\n",
       "      <th>bottleneck5</th>\n",
       "      <th>bottleneck6</th>\n",
       "      <th>bottleneck7</th>\n",
       "      <th>bottleneck8</th>\n",
       "      <th>bottleneck9</th>\n",
       "      <th>bottleneck10</th>\n",
       "      <th>bottleneck11</th>\n",
       "      <th>bottleneck12</th>\n",
       "      <th>bottleneck13</th>\n",
       "      <th>bottleneck14</th>\n",
       "      <th>bottleneck15</th>\n",
       "      <th>object_id</th>\n",
       "    </tr>\n",
       "  </thead>\n",
       "  <tbody>\n",
       "    <tr>\n",
       "      <th>0</th>\n",
       "      <td>5.194526</td>\n",
       "      <td>0.741064</td>\n",
       "      <td>6.832206</td>\n",
       "      <td>2.447083</td>\n",
       "      <td>2.201819</td>\n",
       "      <td>3.955753</td>\n",
       "      <td>3.760406</td>\n",
       "      <td>8.530709</td>\n",
       "      <td>9.972454</td>\n",
       "      <td>0.191506</td>\n",
       "      <td>4.992706</td>\n",
       "      <td>1.357791</td>\n",
       "      <td>2.810582</td>\n",
       "      <td>0.495058</td>\n",
       "      <td>4.425712</td>\n",
       "      <td>11.054269</td>\n",
       "      <td>9848799</td>\n",
       "    </tr>\n",
       "    <tr>\n",
       "      <th>1</th>\n",
       "      <td>0.697726</td>\n",
       "      <td>8.406124</td>\n",
       "      <td>1.677688</td>\n",
       "      <td>2.992078</td>\n",
       "      <td>7.273104</td>\n",
       "      <td>0.361961</td>\n",
       "      <td>9.302008</td>\n",
       "      <td>2.370127</td>\n",
       "      <td>8.173873</td>\n",
       "      <td>0.674359</td>\n",
       "      <td>2.505515</td>\n",
       "      <td>3.722713</td>\n",
       "      <td>4.316256</td>\n",
       "      <td>0.836422</td>\n",
       "      <td>5.697777</td>\n",
       "      <td>4.040637</td>\n",
       "      <td>9848847</td>\n",
       "    </tr>\n",
       "    <tr>\n",
       "      <th>2</th>\n",
       "      <td>0.805780</td>\n",
       "      <td>6.492369</td>\n",
       "      <td>2.065151</td>\n",
       "      <td>2.698128</td>\n",
       "      <td>3.258145</td>\n",
       "      <td>0.945475</td>\n",
       "      <td>3.464690</td>\n",
       "      <td>3.637921</td>\n",
       "      <td>9.949050</td>\n",
       "      <td>1.462446</td>\n",
       "      <td>8.333170</td>\n",
       "      <td>5.366208</td>\n",
       "      <td>1.282938</td>\n",
       "      <td>0.235688</td>\n",
       "      <td>3.341774</td>\n",
       "      <td>7.788818</td>\n",
       "      <td>9848868</td>\n",
       "    </tr>\n",
       "    <tr>\n",
       "      <th>3</th>\n",
       "      <td>0.589768</td>\n",
       "      <td>1.544212</td>\n",
       "      <td>4.751875</td>\n",
       "      <td>1.506920</td>\n",
       "      <td>4.491727</td>\n",
       "      <td>1.666431</td>\n",
       "      <td>10.164309</td>\n",
       "      <td>4.049687</td>\n",
       "      <td>6.018585</td>\n",
       "      <td>0.429728</td>\n",
       "      <td>0.928146</td>\n",
       "      <td>4.202436</td>\n",
       "      <td>4.040009</td>\n",
       "      <td>0.154402</td>\n",
       "      <td>2.161732</td>\n",
       "      <td>12.156486</td>\n",
       "      <td>9848939</td>\n",
       "    </tr>\n",
       "    <tr>\n",
       "      <th>4</th>\n",
       "      <td>1.401312</td>\n",
       "      <td>9.299484</td>\n",
       "      <td>2.887816</td>\n",
       "      <td>0.746563</td>\n",
       "      <td>4.639925</td>\n",
       "      <td>0.638851</td>\n",
       "      <td>5.328112</td>\n",
       "      <td>2.093352</td>\n",
       "      <td>5.907254</td>\n",
       "      <td>1.124667</td>\n",
       "      <td>3.822571</td>\n",
       "      <td>6.906983</td>\n",
       "      <td>3.224484</td>\n",
       "      <td>1.971383</td>\n",
       "      <td>7.659608</td>\n",
       "      <td>5.114751</td>\n",
       "      <td>9848960</td>\n",
       "    </tr>\n",
       "  </tbody>\n",
       "</table>\n",
       "</div>"
      ],
      "text/plain": [
       "   bottleneck0  bottleneck1  bottleneck2  bottleneck3  bottleneck4  \\\n",
       "0     5.194526     0.741064     6.832206     2.447083     2.201819   \n",
       "1     0.697726     8.406124     1.677688     2.992078     7.273104   \n",
       "2     0.805780     6.492369     2.065151     2.698128     3.258145   \n",
       "3     0.589768     1.544212     4.751875     1.506920     4.491727   \n",
       "4     1.401312     9.299484     2.887816     0.746563     4.639925   \n",
       "\n",
       "   bottleneck5  bottleneck6  bottleneck7  bottleneck8  bottleneck9  \\\n",
       "0     3.955753     3.760406     8.530709     9.972454     0.191506   \n",
       "1     0.361961     9.302008     2.370127     8.173873     0.674359   \n",
       "2     0.945475     3.464690     3.637921     9.949050     1.462446   \n",
       "3     1.666431    10.164309     4.049687     6.018585     0.429728   \n",
       "4     0.638851     5.328112     2.093352     5.907254     1.124667   \n",
       "\n",
       "   bottleneck10  bottleneck11  bottleneck12  bottleneck13  bottleneck14  \\\n",
       "0      4.992706      1.357791      2.810582      0.495058      4.425712   \n",
       "1      2.505515      3.722713      4.316256      0.836422      5.697777   \n",
       "2      8.333170      5.366208      1.282938      0.235688      3.341774   \n",
       "3      0.928146      4.202436      4.040009      0.154402      2.161732   \n",
       "4      3.822571      6.906983      3.224484      1.971383      7.659608   \n",
       "\n",
       "   bottleneck15  object_id  \n",
       "0     11.054269    9848799  \n",
       "1      4.040637    9848847  \n",
       "2      7.788818    9848868  \n",
       "3     12.156486    9848939  \n",
       "4      5.114751    9848960  "
      ]
     },
     "execution_count": 12,
     "metadata": {},
     "output_type": "execute_result"
    }
   ],
   "source": [
    "test_bn.head()"
   ]
  },
  {
   "cell_type": "code",
   "execution_count": 13,
   "metadata": {},
   "outputs": [
    {
     "name": "stdout",
     "output_type": "stream",
     "text": [
      "CPU times: user 92 ms, sys: 328 ms, total: 420 ms\n",
      "Wall time: 417 ms\n"
     ]
    }
   ],
   "source": [
    "%%time\n",
    "train_bn.to_pickle('train_bn.pkl')\n",
    "test_bn.to_pickle('test_bn.pkl')"
   ]
  }
 ],
 "metadata": {
  "kernelspec": {
   "display_name": "Python 3",
   "language": "python",
   "name": "python3"
  },
  "language_info": {
   "codemirror_mode": {
    "name": "ipython",
    "version": 3
   },
   "file_extension": ".py",
   "mimetype": "text/x-python",
   "name": "python",
   "nbconvert_exporter": "python",
   "pygments_lexer": "ipython3",
   "version": "3.6.8"
  }
 },
 "nbformat": 4,
 "nbformat_minor": 2
}
