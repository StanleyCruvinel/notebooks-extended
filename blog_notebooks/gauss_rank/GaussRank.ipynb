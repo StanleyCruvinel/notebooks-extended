{
 "cells": [
  {
   "cell_type": "markdown",
   "metadata": {},
   "source": [
    "### In this notebook, we show how simple it is to drop-in replace pandas and numpy with cudf and cupy to deliver up to 100x speedup for Gauss Rank transformation"
   ]
  },
  {
   "cell_type": "code",
   "execution_count": 1,
   "metadata": {},
   "outputs": [],
   "source": [
    "import os\n",
    "GPU_id = 0\n",
    "os.environ['CUDA_VISIBLE_DEVICES'] = str(GPU_id)"
   ]
  },
  {
   "cell_type": "code",
   "execution_count": 2,
   "metadata": {},
   "outputs": [
    {
     "name": "stdout",
     "output_type": "stream",
     "text": [
      "cudf 0.10.0\n",
      "cupy 6.5.0\n"
     ]
    }
   ],
   "source": [
    "import warnings\n",
    "warnings.filterwarnings(\"ignore\")\n",
    "\n",
    "from numba import jit \n",
    "import numpy as np\n",
    "import pandas as pd\n",
    "\n",
    "from sklearn.metrics import cohen_kappa_score, confusion_matrix\n",
    "import cupy as cp\n",
    "import cudf as gd\n",
    "\n",
    "print('cudf',gd.__version__)\n",
    "print('cupy',cp.__version__)\n",
    "\n",
    "import time\n",
    "import matplotlib.pyplot as plt\n",
    "from cupyx.scipy.special import erfinv as cupy_erfinv\n",
    "from scipy.special import erfinv\n",
    "from pathlib import Path\n",
    "\n",
    "import matplotlib.pyplot as plt"
   ]
  },
  {
   "cell_type": "code",
   "execution_count": 3,
   "metadata": {},
   "outputs": [],
   "source": [
    "class GaussRank():\n",
    "    \"\"\"\n",
    "    CPU & GPU codes are mostly the same except for the imported libraries.\n",
    "    GPU codes are executed automatically if the input tensor is on GPU.\n",
    "    \"\"\"\n",
    "    def __init__(self,epsilon=0.001):\n",
    "        self.epsilon = epsilon\n",
    "        self.lower = -1 + self.epsilon\n",
    "        self.upper = 1 - self.epsilon\n",
    "        self.range = self.upper - self.lower\n",
    "\n",
    "    def fit(self,x):\n",
    "        self.fit_transform(x)\n",
    "        return self    \n",
    "        \n",
    "    def fit_transform(self,x):\n",
    "        # x is a 1D numpy/cupy array\n",
    "        msg = 'input must be a 1D numpy/cucpy array'\n",
    "        \n",
    "        assert isinstance(x,np.ndarray) or isinstance(x,cp.ndarray),msg\n",
    "        erfinv_ = erfinv if isinstance(x,np.ndarray) else cupy_erfinv\n",
    "        DataFrame = pd.DataFrame if isinstance(x,np.ndarray) else gd.DataFrame\n",
    "        \n",
    "        j = x.argsort().argsort()\n",
    "\n",
    "        assert (j.min() == 0).all()\n",
    "        assert (j.max() == len(j) - 1).all()\n",
    "\n",
    "        j_range = len(j) - 1\n",
    "        self.divider = j_range / self.range\n",
    "\n",
    "        transformed = j / self.divider\n",
    "        transformed = transformed - self.upper\n",
    "        transformed = erfinv_(transformed)\n",
    "        \n",
    "        transformed_map = DataFrame()\n",
    "        transformed_map['src'] = x\n",
    "        transformed_map['tgt'] = transformed\n",
    "        transformed_map = transformed_map.sort_values(by='src',ascending=True)\n",
    "        self.transformed_map = transformed_map\n",
    "        return transformed\n",
    "    \n",
    "    def transform(self,x):\n",
    "        return self._transform(x,src_col='src',tgt_col='tgt')\n",
    "    \n",
    "    def inverse_transform(self,transformed):\n",
    "        return self._transform(transformed,src_col='tgt',tgt_col='src')\n",
    "    \n",
    "    def _transform(self,x,src_col,tgt_col):\n",
    "        msg = 'input must be a 1D numpy/cucpy array'\n",
    "        assert isinstance(x,np.ndarray) or isinstance(x,cp.ndarray),msg\n",
    "        transformed_map = self.transformed_map\n",
    "        N = len(transformed_map)\n",
    "        pos = transformed_map[src_col].searchsorted(x, side='left')\n",
    "        \n",
    "        if isinstance(x,cp.ndarray): pos = pos.values\n",
    "            \n",
    "        pos[pos>=N] = N-1\n",
    "        pos[pos-1<=0] = 0\n",
    "\n",
    "        x1 = transformed_map[src_col].values[pos]\n",
    "        x2 = transformed_map[src_col].values[pos-1]\n",
    "        y1 = transformed_map[tgt_col].values[pos]\n",
    "        y2 = transformed_map[tgt_col].values[pos-1]\n",
    "\n",
    "        relative = (x-x2)  / (x1-x2)\n",
    "        return (1-relative)*y2 + relative*y1"
   ]
  },
  {
   "cell_type": "markdown",
   "metadata": {},
   "source": [
    "### Verify correctness"
   ]
  },
  {
   "cell_type": "code",
   "execution_count": 4,
   "metadata": {},
   "outputs": [
    {
     "name": "stdout",
     "output_type": "stream",
     "text": [
      "[-0.3042461  -0.54007207 -0.86167297 -2.32675377  0.54007207  0.09869067\n",
      "  2.32675377 -0.09869067  0.3042461   0.86167297]\n",
      "[-0.3042461  -0.54007207 -2.2038276  -2.32675377  0.54007207  0.09869067\n",
      "  2.32675377 -0.09869067  0.3042461   0.86167297]\n",
      "[-0.3042461  -0.54007207 -0.86167297 -2.32675377  0.54007207  0.09869067\n",
      "  2.32675377 -0.09869067  0.3042461   0.86167297]\n",
      "[-0.3042461  -0.54007207 -2.2038276  -2.32675377  0.54007207  0.09869067\n",
      "  2.32675377 -0.09869067  0.3042461   0.86167297]\n",
      "\n",
      "check transformation results: mean absolute error between cpu and gpu\n",
      "2.2912227670701667e-15\n",
      "2.3578361485476763e-15\n",
      "CPU times: user 452 ms, sys: 592 ms, total: 1.04 s\n",
      "Wall time: 1.08 s\n"
     ]
    }
   ],
   "source": [
    "%%time\n",
    "x = np.random.rand(10)\n",
    "gau_cpu = GaussRank()\n",
    "res_cpu_a = gau_cpu.fit_transform(x)\n",
    "res_cpu_b = gau_cpu.transform(x)\n",
    "print(res_cpu_a)\n",
    "print(res_cpu_b)\n",
    "\n",
    "x_gpu = cp.asarray(x)\n",
    "gau_gpu = GaussRank()\n",
    "res_gpu_a = gau_gpu.fit_transform(x_gpu)\n",
    "res_gpu_b = gau_gpu.transform(x_gpu)\n",
    "print(res_gpu_a)\n",
    "print(res_gpu_b)\n",
    "print()\n",
    "\n",
    "print('check transformation results: mean absolute error between cpu and gpu')\n",
    "print(np.abs(cp.asnumpy(res_gpu_a)-res_cpu_a).mean())\n",
    "print(np.abs(cp.asnumpy(res_gpu_b)-res_cpu_b).mean())"
   ]
  },
  {
   "cell_type": "code",
   "execution_count": 5,
   "metadata": {},
   "outputs": [
    {
     "name": "stdout",
     "output_type": "stream",
     "text": [
      "check inverse transformation results: mean absolute error between cpu and gpu\n",
      "8.326672684688674e-18\n",
      "CPU times: user 4 ms, sys: 0 ns, total: 4 ms\n",
      "Wall time: 4.21 ms\n"
     ]
    }
   ],
   "source": [
    "%%time\n",
    "x_inv_cpu = gau_cpu.inverse_transform(res_cpu_b)\n",
    "x_inv_gpu = gau_gpu.inverse_transform(res_gpu_b)\n",
    "print('check inverse transformation results: mean absolute error between cpu and gpu')\n",
    "print(np.abs(cp.asnumpy(x_inv_gpu)-x_inv_cpu).mean())"
   ]
  },
  {
   "cell_type": "markdown",
   "metadata": {},
   "source": [
    "### Visualization with real world [data](https://www.kaggle.com/c/champs-scalar-coupling/data)"
   ]
  },
  {
   "cell_type": "code",
   "execution_count": 6,
   "metadata": {},
   "outputs": [
    {
     "data": {
      "text/plain": [
       "3JHC    1510379\n",
       "2JHC    1140674\n",
       "1JHC     709416\n",
       "3JHH     590611\n",
       "2JHH     378036\n",
       "3JHN     166415\n",
       "2JHN     119253\n",
       "1JHN      43363\n",
       "Name: type, dtype: int32"
      ]
     },
     "execution_count": 6,
     "metadata": {},
     "output_type": "execute_result"
    }
   ],
   "source": [
    "path = Path('/raid/data/ml/kaggle/champs/train.csv')\n",
    "df = gd.read_csv(path)\n",
    "df['type'].value_counts()"
   ]
  },
  {
   "cell_type": "code",
   "execution_count": 7,
   "metadata": {},
   "outputs": [],
   "source": [
    "mask = df['type'] == '3JHC'\n",
    "x_gpu = df.loc[mask,'scalar_coupling_constant'].values\n",
    "x_cpu = cp.asnumpy(x_gpu)"
   ]
  },
  {
   "cell_type": "code",
   "execution_count": 8,
   "metadata": {},
   "outputs": [
    {
     "name": "stdout",
     "output_type": "stream",
     "text": [
      "CPU times: user 1.56 s, sys: 64 ms, total: 1.62 s\n",
      "Wall time: 1.62 s\n"
     ]
    }
   ],
   "source": [
    "%%time\n",
    "gau_cpu = GaussRank()\n",
    "gau_cpu.fit_transform(x_cpu)\n",
    "res_cpu = gau_cpu.transform(x_cpu)\n",
    "x_inv_cpu = gau_cpu.inverse_transform(res_cpu)"
   ]
  },
  {
   "cell_type": "code",
   "execution_count": 9,
   "metadata": {},
   "outputs": [
    {
     "name": "stdout",
     "output_type": "stream",
     "text": [
      "CPU times: user 12 ms, sys: 32 ms, total: 44 ms\n",
      "Wall time: 46.1 ms\n"
     ]
    }
   ],
   "source": [
    "%%time\n",
    "gau_gpu = GaussRank()\n",
    "gau_gpu.fit_transform(x_gpu)\n",
    "res_gpu = gau_gpu.transform(x_gpu)\n",
    "x_inv_gpu = gau_gpu.inverse_transform(res_gpu)"
   ]
  },
  {
   "cell_type": "markdown",
   "metadata": {},
   "source": [
    "### GPU version is 25x faster!"
   ]
  },
  {
   "cell_type": "code",
   "execution_count": 10,
   "metadata": {},
   "outputs": [
    {
     "name": "stdout",
     "output_type": "stream",
     "text": [
      "GaussRank CPU\n"
     ]
    },
    {
     "data": {
      "image/png": "[encoded data removed]",
      "text/plain": [
       "<Figure size 1080x360 with 3 Axes>"
      ]
     },
     "metadata": {
      "needs_background": "light"
     },
     "output_type": "display_data"
    }
   ],
   "source": [
    "n_bins = 20\n",
    "fig, axs = plt.subplots(1, 3, sharey=True, tight_layout=True)\n",
    "fig.set_figheight(5)\n",
    "fig.set_figwidth(15)\n",
    "axs[0].hist(x_cpu, bins=n_bins)\n",
    "axs[0].set_title('input',fontsize=15)\n",
    "axs[1].hist(res_cpu, bins=n_bins)\n",
    "axs[1].set_title('transform',fontsize=15)\n",
    "_ = axs[2].hist(x_inv_cpu, bins=n_bins)\n",
    "axs[2].set_title('inverse transform',fontsize=15)\n",
    "print('GaussRank CPU')"
   ]
  },
  {
   "cell_type": "code",
   "execution_count": 11,
   "metadata": {},
   "outputs": [
    {
     "name": "stdout",
     "output_type": "stream",
     "text": [
      "GaussRank GPU\n"
     ]
    },
    {
     "data": {
      "image/png": "[encoded data removed]",
      "text/plain": [
       "<Figure size 1080x360 with 3 Axes>"
      ]
     },
     "metadata": {
      "needs_background": "light"
     },
     "output_type": "display_data"
    }
   ],
   "source": [
    "n_bins = 20\n",
    "fig, axs = plt.subplots(1, 3, sharey=True, tight_layout=True)\n",
    "fig.set_figheight(5)\n",
    "fig.set_figwidth(15)\n",
    "axs[0].hist(cp.asnumpy(x_gpu), bins=n_bins)\n",
    "axs[0].set_title('input',fontsize=15)\n",
    "axs[1].hist(cp.asnumpy(res_gpu), bins=n_bins)\n",
    "axs[1].set_title('transform',fontsize=15)\n",
    "_ = axs[2].hist(cp.asnumpy(x_inv_gpu), bins=n_bins)\n",
    "axs[2].set_title('inverse transform',fontsize=15)\n",
    "print('GaussRank GPU')"
   ]
  },
  {
   "cell_type": "markdown",
   "metadata": {},
   "source": [
    "### Measure the speedup with varied data size"
   ]
  },
  {
   "cell_type": "code",
   "execution_count": 12,
   "metadata": {},
   "outputs": [],
   "source": [
    "cpu_time = []\n",
    "gpu_time = []\n",
    "for i in range(5,9):\n",
    "    size = 10**i\n",
    "    x = np.random.rand(size)\n",
    "    \n",
    "    start = time.time()\n",
    "    gau_cpu = GaussRank()\n",
    "    gau_cpu.fit_transform(x)\n",
    "    res_cpu = gau_cpu.transform(x)\n",
    "    x_inv_cpu = gau_cpu.inverse_transform(res_cpu)\n",
    "    cpu_time.append(time.time()-start)\n",
    "    \n",
    "    start = time.time()\n",
    "    x_gpu = cp.asarray(x) # don't time the conversion?\n",
    "    gau_gpu = GaussRank()\n",
    "    gau_gpu.fit_transform(x_gpu)\n",
    "    res_gpu = gau_gpu.transform(x_gpu)\n",
    "    x_inv_gpu = gau_gpu.inverse_transform(res_gpu)\n",
    "    gpu_time.append(time.time()-start)"
   ]
  },
  {
   "cell_type": "code",
   "execution_count": 13,
   "metadata": {},
   "outputs": [
    {
     "data": {
      "text/plain": [
       "Text(0.5, 1.0, 'GaussRank: gpu vs cpu')"
      ]
     },
     "execution_count": 13,
     "metadata": {},
     "output_type": "execute_result"
    },
    {
     "data": {
      "image/png": "[encoded data removed]",
      "text/plain": [
       "<Figure size 1080x360 with 1 Axes>"
      ]
     },
     "metadata": {
      "needs_background": "light"
     },
     "output_type": "display_data"
    }
   ],
   "source": [
    "plt.figure(figsize=(15,5))\n",
    "xs = [10**i for i in range(5,9)]\n",
    "plt.yscale('log')\n",
    "plt.xlim(5*10**4,5*10**8)\n",
    "plt.ylim(10**(-2),10**3)\n",
    "plt.xscale('log')\n",
    "plt.xlabel('number of sample', fontsize=20)\n",
    "plt.ylabel('run time: seconds', fontsize=20)\n",
    "plt.grid()\n",
    "\n",
    "plt.scatter(xs,cpu_time,c='r',label='cpu')  \n",
    "plt.scatter(xs,gpu_time,c='g',label='gpu') \n",
    "\n",
    "plt.plot(xs,cpu_time,c='r')  \n",
    "plt.plot(xs,gpu_time,c='g') \n",
    "plt.legend(loc='upper left', fontsize=20)\n",
    "plt.title('GaussRank: gpu vs cpu', fontsize=20)"
   ]
  },
  {
   "cell_type": "code",
   "execution_count": 14,
   "metadata": {},
   "outputs": [
    {
     "name": "stdout",
     "output_type": "stream",
     "text": [
      "[0.07555770874023438, 1.0140976905822754, 21.42363214492798, 380.39069151878357]\n",
      "[0.023673534393310547, 0.04214334487915039, 0.28704285621643066, 2.8849456310272217]\n"
     ]
    }
   ],
   "source": [
    "print(cpu_time)\n",
    "print(gpu_time)"
   ]
  },
  {
   "cell_type": "markdown",
   "metadata": {},
   "source": [
    "### GPU version can achieve up to 100x speedup"
   ]
  }
 ],
 "metadata": {
  "kernelspec": {
   "display_name": "Python 3",
   "language": "python",
   "name": "python3"
  },
  "language_info": {
   "codemirror_mode": {
    "name": "ipython",
    "version": 3
   },
   "file_extension": ".py",
   "mimetype": "text/x-python",
   "name": "python",
   "nbconvert_exporter": "python",
   "pygments_lexer": "ipython3",
   "version": "3.7.3"
  }
 },
 "nbformat": 4,
 "nbformat_minor": 2
}
