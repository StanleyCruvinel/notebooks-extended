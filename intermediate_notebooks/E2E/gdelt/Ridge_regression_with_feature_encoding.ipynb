{
 "cells": [
  {
   "cell_type": "markdown",
   "metadata": {},
   "source": [
    "# Predicting the Goldstein scale rating of events from their actors and coverage\n",
    "This example workflow demonstrates the use of cuDF, cuML, and dask_cudf for ETL, model training, and evaluation"
   ]
  },
  {
   "cell_type": "markdown",
   "metadata": {},
   "source": [
    "# Acquiring and Loading the Data\n",
    "The [GDELT](https://www.gdeltproject.org/) project maintains a publically available 50TB database of world events. This workflow uses a sample of the data obtained through [Google BigQuery](https://console.cloud.google.com/marketplace/details/the-gdelt-project/gdelt-2-events)\n",
    "\n",
    "We work with a ~5.7GB sample of the data stored locally. With appropriate Google Cloud credentials, the [gcs python api](https://cloud.google.com/bigquery/docs/quickstarts/quickstart-client-libraries) can be used to query the data directly without using a local copy. The GDELT project provides [a codebook](http://data.gdeltproject.org/documentation/GDELT-Event_Codebook-V2.0.pdf) to help us understand the dataset's schema"
   ]
  },
  {
   "cell_type": "code",
   "execution_count": 1,
   "metadata": {},
   "outputs": [],
   "source": [
    "import dask_cudf\n",
    "import cudf\n",
    "from os.path import join\n",
    "\n",
    "# The location of our local copy\n",
    "DATA_DIR = \"/datasets/gdelt/events/\"\n",
    "\n",
    "# Define the schema for the dataset. Normally dask_cudf can infer these types, however\n",
    "# it does this on a per-file basis. Some of our features are so sparse that all entries \n",
    "# within a file are null, making it impossible to infer the data type\n",
    "dtypes = (\n",
    "    [\"int64\"] * 4\n",
    "    + [\"float64\"]\n",
    "    + [\"str\"] * 20\n",
    "    + [\"int64\"]\n",
    "    + [\"str\"] * 3\n",
    "    + [\"int64\"]\n",
    "    + [\"float64\"]\n",
    "    + [\"int64\"] * 3\n",
    "    + [\"float64\"]\n",
    "    + [\"int64\"]\n",
    "    + [\"str\"] * 4\n",
    "    + [\"float64\"] * 2\n",
    "    + [\"str\"]\n",
    "    + [\"int64\"]\n",
    "    + [\"str\"] * 4\n",
    "    + [\"float64\"] * 2\n",
    "    + [\"str\"]\n",
    "    + [\"int64\"]\n",
    "    + [\"str\"] * 4\n",
    "    + [\"float64\"] * 2\n",
    "    + [\"str\"]\n",
    "    + [\"int64\"]\n",
    "    + [\"str\"]\n",
    ")\n",
    "\n",
    "# The dataset was partitioned into ~2000 csv files. Let's load a subset of those\n",
    "df = dask_cudf.read_csv(join(DATA_DIR, \"00000000189*\"), dtype=dtypes).compute()"
   ]
  },
  {
   "cell_type": "code",
   "execution_count": 2,
   "metadata": {},
   "outputs": [
    {
     "name": "stdout",
     "output_type": "stream",
     "text": [
      "Found 8950745 rows\n",
      "Memory footprint: 1631.46 MB\n",
      "Index(['GLOBALEVENTID', 'SQLDATE', 'MonthYear', 'Year', 'FractionDate',\n",
      "       'Actor1Code', 'Actor1Name', 'Actor1CountryCode', 'Actor1KnownGroupCode',\n",
      "       'Actor1EthnicCode', 'Actor1Religion1Code', 'Actor1Religion2Code',\n",
      "       'Actor1Type1Code', 'Actor1Type2Code', 'Actor1Type3Code', 'Actor2Code',\n",
      "       'Actor2Name', 'Actor2CountryCode', 'Actor2KnownGroupCode',\n",
      "       'Actor2EthnicCode', 'Actor2Religion1Code', 'Actor2Religion2Code',\n",
      "       'Actor2Type1Code', 'Actor2Type2Code', 'Actor2Type3Code', 'IsRootEvent',\n",
      "       'EventCode', 'EventBaseCode', 'EventRootCode', 'QuadClass',\n",
      "       'GoldsteinScale', 'NumMentions', 'NumSources', 'NumArticles', 'AvgTone',\n",
      "       'Actor1Geo_Type', 'Actor1Geo_FullName', 'Actor1Geo_CountryCode',\n",
      "       'Actor1Geo_ADM1Code', 'Actor1Geo_ADM2Code', 'Actor1Geo_Lat',\n",
      "       'Actor1Geo_Long', 'Actor1Geo_FeatureID', 'Actor2Geo_Type',\n",
      "       'Actor2Geo_FullName', 'Actor2Geo_CountryCode', 'Actor2Geo_ADM1Code',\n",
      "       'Actor2Geo_ADM2Code', 'Actor2Geo_Lat', 'Actor2Geo_Long',\n",
      "       'Actor2Geo_FeatureID', 'ActionGeo_Type', 'ActionGeo_FullName',\n",
      "       'ActionGeo_CountryCode', 'ActionGeo_ADM1Code', 'ActionGeo_ADM2Code',\n",
      "       'ActionGeo_Lat', 'ActionGeo_Long', 'ActionGeo_FeatureID', 'DATEADDED',\n",
      "       'SOURCEURL'],\n",
      "      dtype='object')\n"
     ]
    }
   ],
   "source": [
    "# What did that give us?\n",
    "print(f\"Found {len(df)} rows\")\n",
    "print(f\"Memory footprint: {df.__sizeof__() / (1024 * 1024):.2f} MB\")\n",
    "print(df.columns)"
   ]
  },
  {
   "cell_type": "markdown",
   "metadata": {},
   "source": [
    "# Preprocessing\n",
    "We don't need all or even most of these columns"
   ]
  },
  {
   "cell_type": "code",
   "execution_count": 3,
   "metadata": {},
   "outputs": [],
   "source": [
    "# Rather than listing the columns we don't want, let's list the ones we do\n",
    "keep_cols = (\n",
    "    \"EventCode\",\n",
    "    \"QuadClass\",\n",
    "    \"GoldsteinScale\",\n",
    "    \"NumMentions\",\n",
    "    \"NumSources\",\n",
    "    \"NumArticles\",\n",
    "    \"AvgTone\",\n",
    "    \"Actor1Type1Code\",\n",
    "    \"Actor1Type2Code\",\n",
    "    \"Actor1Type3Code\",\n",
    "    \"Actor2Type1Code\",\n",
    "    \"Actor2Type2Code\",\n",
    "    \"Actor2Type3Code\",\n",
    "    \"ActionGeo_CountryCode\",\n",
    "    \"Actor1Geo_CountryCode\",\n",
    "    \"Actor2Geo_CountryCode\",\n",
    ")\n",
    "# And drop everything else\n",
    "df = df.drop(col for col in df.columns if col not in keep_cols)"
   ]
  },
  {
   "cell_type": "markdown",
   "metadata": {},
   "source": [
    "## Actor metadata\n",
    "These codes tell us who, what, and where the relevant actors in the event are.\n",
    "\n",
    "If we look at the codebook, we see that a lot of these features are categorical string labels. CuML can transform these into numerical values for us"
   ]
  },
  {
   "cell_type": "code",
   "execution_count": 4,
   "metadata": {},
   "outputs": [],
   "source": [
    "from cuml.preprocessing import LabelEncoder\n",
    "\n",
    "le = LabelEncoder()\n",
    "for col in (\n",
    "    \"Actor1Type1Code\",\n",
    "    \"Actor1Type2Code\",\n",
    "    \"Actor1Type3Code\",\n",
    "    \"Actor2Type1Code\",\n",
    "    \"Actor2Type2Code\",\n",
    "    \"Actor2Type3Code\",\n",
    "    \"ActionGeo_CountryCode\",\n",
    "    \"Actor1Geo_CountryCode\",\n",
    "    \"Actor2Geo_CountryCode\",\n",
    "):\n",
    "    df[col] = le.fit_transform(df[col])"
   ]
  },
  {
   "cell_type": "code",
   "execution_count": 5,
   "metadata": {},
   "outputs": [
    {
     "name": "stdout",
     "output_type": "stream",
     "text": [
      "0    4896908\n",
      "13    1214102\n",
      "6     339424\n",
      "5     317936\n",
      "8     291539\n",
      "10     273116\n",
      "20     255840\n",
      "22     239862\n",
      "23     214759\n",
      "24     192015\n",
      "[27 more rows]\n",
      "dtype: int64\n"
     ]
    }
   ],
   "source": [
    "print(df[\"Actor1Type1Code\"].value_counts())"
   ]
  },
  {
   "cell_type": "markdown",
   "metadata": {},
   "source": [
    "## QuadClass\n",
    "An event's `QuadClass` categorizes it as relating to either **verbal cooperation**, **material cooperation**, **verbal conflict**, or **material conflict**\n",
    "\n",
    "The data is still a bit messy. Despite what the codebook says, `QuadClass` has a huge outlier we need to clean up. Let's also one-hot encode it to preserve the orthogonality of the categories\n",
    "\n",
    "*Incidentally, it looks like verbal cooperation was the most common category, which is always nice to see*"
   ]
  },
  {
   "cell_type": "code",
   "execution_count": 6,
   "metadata": {},
   "outputs": [
    {
     "name": "stdout",
     "output_type": "stream",
     "text": [
      "1    5504571\n",
      "4    1227629\n",
      "3    1178550\n",
      "2    1039992\n",
      "28702269          1\n",
      "dtype: int64\n"
     ]
    }
   ],
   "source": [
    "print(df[\"QuadClass\"].value_counts())"
   ]
  },
  {
   "cell_type": "code",
   "execution_count": 7,
   "metadata": {},
   "outputs": [],
   "source": [
    "from cudf import get_dummies\n",
    "\n",
    "# We can fix that by clipping the data to our known range\n",
    "df[\"QuadClass\"] = df[\"QuadClass\"].applymap(lambda i: min(i, 4))\n",
    "df[\"QuadClass\"] = df[\"QuadClass\"].applymap(lambda i: max(i, 1))\n",
    "\n",
    "# Now we one hot encode and drop the old column\n",
    "df = get_dummies(df, columns=[\"QuadClass\"]).drop(\"QuadClass\")"
   ]
  },
  {
   "cell_type": "code",
   "execution_count": 8,
   "metadata": {},
   "outputs": [
    {
     "name": "stdout",
     "output_type": "stream",
     "text": [
      "Index(['Actor1Type1Code', 'Actor1Type2Code', 'Actor1Type3Code',\n",
      "       'Actor2Type1Code', 'Actor2Type2Code', 'Actor2Type3Code', 'EventCode',\n",
      "       'GoldsteinScale', 'NumMentions', 'NumSources', 'NumArticles', 'AvgTone',\n",
      "       'Actor1Geo_CountryCode', 'Actor2Geo_CountryCode',\n",
      "       'ActionGeo_CountryCode', 'QuadClass_1', 'QuadClass_2', 'QuadClass_3',\n",
      "       'QuadClass_4'],\n",
      "      dtype='object')\n"
     ]
    }
   ],
   "source": [
    "print(df.columns)"
   ]
  },
  {
   "cell_type": "markdown",
   "metadata": {},
   "source": [
    "## Normalization\n",
    "- `NumArticles`, `NumSources`, and `NumMentions` tell us the number of source documents, information sources, and mentions across sources that an event recieved within 15 minutes of being discovered by the database. We can use this as a proxy for the importance or impact of an event\n",
    "- `AvgTone` describes the tone of the above documents towards the event, on a scale from -100 (extremely negative) to 100 (extremely positive)\n",
    "- `GoldsteinScale` is our target variable. It serves as a way of quantifying the intensity of positive and negative events.\n",
    "\n",
    "It looks like these variables are filled with `null` values"
   ]
  },
  {
   "cell_type": "code",
   "execution_count": 9,
   "metadata": {},
   "outputs": [
    {
     "name": "stdout",
     "output_type": "stream",
     "text": [
      "NumArticles: 2\n",
      "NumSources: 2\n",
      "NumMentions: 2\n",
      "AvgTone: 2\n",
      "GoldsteinScale: 42\n"
     ]
    }
   ],
   "source": [
    "for col in (\"NumArticles\", \"NumSources\", \"NumMentions\", \"AvgTone\", \"GoldsteinScale\"):\n",
    "    print(f\"{col}: {df[col].isna().value_counts()[True]}\")"
   ]
  },
  {
   "cell_type": "markdown",
   "metadata": {},
   "source": [
    "Proportionally there aren't that many `null`s, so we can reasonably replace them with the average feature values. While we're here, let's also remove any outliers from our target variable"
   ]
  },
  {
   "cell_type": "code",
   "execution_count": 10,
   "metadata": {},
   "outputs": [],
   "source": [
    "df[\"AvgTone\"] = df[\"AvgTone\"].fillna(df[\"AvgTone\"].mean())\n",
    "\n",
    "df[\"GoldsteinScale\"] = df[\"GoldsteinScale\"].applymap(lambda i: min(i, 10))\n",
    "df[\"GoldsteinScale\"] = df[\"GoldsteinScale\"].applymap(lambda i: max(i, -10))\n",
    "df[\"GoldsteinScale\"] = df[\"GoldsteinScale\"].fillna(df[\"GoldsteinScale\"].mean())\n",
    "\n",
    "df[\"NumMentions\"] = (\n",
    "    df[\"NumMentions\"].astype(\"float64\").fillna(df[\"NumMentions\"].mean())\n",
    ")\n",
    "df[\"NumSources\"] = (\n",
    "    df[\"NumSources\"].astype(\"float64\").fillna(df[\"NumSources\"].mean())\n",
    ")\n",
    "df[\"NumArticles\"] = (\n",
    "    df[\"NumArticles\"].astype(\"float64\").fillna(df[\"NumArticles\"].mean())\n",
    ")"
   ]
  },
  {
   "cell_type": "markdown",
   "metadata": {},
   "source": [
    "We'll also want to min/max scale `NumSources`, `NumArticles`, and `NumMentions` to maintain consistency with our other features"
   ]
  },
  {
   "cell_type": "code",
   "execution_count": 11,
   "metadata": {},
   "outputs": [],
   "source": [
    "for col in (\n",
    "    \"NumMentions\",\n",
    "    \"NumSources\",\n",
    "    \"NumArticles\",\n",
    "):\n",
    "    col_max = df[col].max()\n",
    "    col_min = df[col].min()\n",
    "    if col_max != col_min:\n",
    "        df[col] = (df[col] - df[col].mean()) / (col_max - col_min)"
   ]
  },
  {
   "cell_type": "markdown",
   "metadata": {},
   "source": [
    "Before we give cuML our data, we need to ensure all columns have the same dtype"
   ]
  },
  {
   "cell_type": "code",
   "execution_count": 12,
   "metadata": {},
   "outputs": [],
   "source": [
    "for col in filter(lambda col: df[col].dtype != \"float64\", df):\n",
    "    df[col] = df[col].astype(\"float64\")"
   ]
  },
  {
   "cell_type": "markdown",
   "metadata": {},
   "source": [
    "# Model Training and Evaluation\n",
    "Now we can run and score our regression. To do this we'll have to\n",
    "\n",
    "- define our performance metrics\n",
    "- split our data into train and test sets\n",
    "- train and test our model"
   ]
  },
  {
   "cell_type": "code",
   "execution_count": 13,
   "metadata": {},
   "outputs": [],
   "source": [
    "# As our performance metrics we'll use a basic mean squared error and coefficient of determination implementation\n",
    "def mse(y_test, y_pred):\n",
    "    return ((y_test - y_pred) ** 2).mean()\n",
    "\n",
    "def cod(y_test, y_pred):\n",
    "    y_bar = y_test.mean()\n",
    "    total = ((y_test - y_bar) ** 2).sum()\n",
    "    residuals = ((y_test - y_pred) ** 2).sum()\n",
    "    return 1 - (residuals / total)"
   ]
  },
  {
   "cell_type": "markdown",
   "metadata": {},
   "source": [
    "With the help of cuML we can abstract away most of the train/test process"
   ]
  },
  {
   "cell_type": "code",
   "execution_count": 14,
   "metadata": {},
   "outputs": [],
   "source": [
    "from cuml.preprocessing.model_selection import train_test_split\n",
    "from cuml.linear_model.ridge import Ridge\n",
    "\n",
    "def train_and_score(data, clf, train_frac=0.8, n_runs=20):\n",
    "    mse_scores, cod_scores = [], []\n",
    "    for _ in range(n_runs):\n",
    "        X_train, X_test, y_train, y_test = train_test_split(\n",
    "            data, y=\"GoldsteinScale\", train_size=train_frac\n",
    "        )\n",
    "        y_pred = clf.fit(X_train, y_train).predict(X_test)\n",
    "        mse_scores.append(mse(y_test, y_pred))\n",
    "        cod_scores.append(cod(y_test, y_pred))\n",
    "    return mse_scores, cod_scores"
   ]
  },
  {
   "cell_type": "markdown",
   "metadata": {},
   "source": [
    "# Results\n",
    "Let's see how our model performs"
   ]
  },
  {
   "cell_type": "code",
   "execution_count": 15,
   "metadata": {},
   "outputs": [
    {
     "name": "stdout",
     "output_type": "stream",
     "text": [
      "median MSE (20 runs): 5.036132676165211\n",
      "median COD (20 runs): 0.7674086552283645\n"
     ]
    }
   ],
   "source": [
    "import numpy as np\n",
    "n_runs = 20\n",
    "clf = Ridge()\n",
    "mse_scores, cod_scores = train_and_score(df, clf, n_runs=n_runs)\n",
    "print(f\"median MSE ({n_runs} runs): {np.median(mse_scores)}\")\n",
    "print(f\"median COD ({n_runs} runs): {np.median(cod_scores)}\")"
   ]
  },
  {
   "cell_type": "markdown",
   "metadata": {},
   "source": [
    "Reasonably good correlation, though the MSE leaves a bit to be desired. Predicting a value on the Goldstein scale within ~2.24 points is nice, until you remember our values are in \\[-10, 10\\]. Let's try some more intelligent analysis. For instance, what does the learning curve for this model look like?"
   ]
  },
  {
   "cell_type": "code",
   "execution_count": 16,
   "metadata": {},
   "outputs": [
    {
     "name": "stdout",
     "output_type": "stream",
     "text": [
      "Variance: 0.00019863536617650075\n"
     ]
    }
   ],
   "source": [
    "clf = Ridge()\n",
    "n_runs = 10\n",
    "train_sizes = np.arange(0.0001, 0.91, 0.05)\n",
    "scores = [np.median(train_and_score(df, clf, train_frac=s, n_runs=n_runs)[0])\n",
    "          for s in train_sizes]\n",
    "print(f\"Variance: {np.var(scores)}\")"
   ]
  },
  {
   "cell_type": "code",
   "execution_count": 18,
   "metadata": {},
   "outputs": [
    {
     "data": {
      "image/png": "[encoded data removed]",
      "text/plain": [
       "<Figure size 432x288 with 1 Axes>"
      ]
     },
     "metadata": {
      "needs_background": "light"
     },
     "output_type": "display_data"
    }
   ],
   "source": [
    "import matplotlib.pyplot as plt\n",
    "plt.plot(train_sizes, scores)\n",
    "plt.show()"
   ]
  },
  {
   "cell_type": "markdown",
   "metadata": {},
   "source": [
    "Interestingly, our loss changes very little when given 10% of the data or 90% of the data. Were we to deploy this model, satisfied with it's performance, we could comfortably train it on only ~890,000 instances (for an even greater speedup) with minimal performance loss."
   ]
  },
  {
   "cell_type": "markdown",
   "metadata": {},
   "source": [
    "# Performance\n",
    "On our 5.7GB sample of the dataset which consisted of ~8.9 million rows, this notebook takes 2.5 minutes to run from start to finish. Recall that this includes\n",
    "- ETL\n",
    "- Preprocessing and feature engineering, with feature encoding and rescaling\n",
    "- Training and inference for a total of 190 ridge regressors\n",
    "\n",
    "In the same amount of time, the equivalent pandas/scikit-learn implementation barely finishes its etl phase.\n",
    "\n",
    "# The key takeaways\n",
    "With cuDF, cuML, and dask_cudf, we're able to \n",
    "- explore large datasets\n",
    "- quickly analyze and transform our data\n",
    "- train and evaluate models\n",
    "\n",
    "with minimal changes to our existing pandas, scikit-learn, and dask powered workflows, and see drastic improvements in performance, making it easier to build scalable data science pipelines without sacrificing performance"
   ]
  }
 ],
 "metadata": {
  "kernelspec": {
   "display_name": "Python 3",
   "language": "python",
   "name": "python3"
  },
  "language_info": {
   "codemirror_mode": {
    "name": "ipython",
    "version": 3
   },
   "file_extension": ".py",
   "mimetype": "text/x-python",
   "name": "python",
   "nbconvert_exporter": "python",
   "pygments_lexer": "ipython3",
   "version": "3.6.8"
  }
 },
 "nbformat": 4,
 "nbformat_minor": 2
}
